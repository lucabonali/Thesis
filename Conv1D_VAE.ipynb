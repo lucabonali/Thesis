{
 "cells": [
  {
   "cell_type": "code",
   "execution_count": 41,
   "metadata": {
    "collapsed": true
   },
   "outputs": [
    {
     "name": "stdout",
     "output_type": "stream",
     "text": [
      "(513024, 4)\n(500, 1024, 4)\n(10, 1024, 4)\n"
     ]
    }
   ],
   "source": [
    "import pandas as pd\n",
    "from sklearn.preprocessing import StandardScaler\n",
    "import matplotlib.pyplot as plt\n",
    "import numpy as np\n",
    "from scipy.stats import norm\n",
    "from keras.layers import Input, Dense, Lambda, Flatten, Reshape\n",
    "from keras.layers import Conv1D,UpSampling1D\n",
    "from keras.models import Model\n",
    "from keras import backend as K\n",
    "\n",
    "beta = 10\n",
    "n_features = 4\n",
    "boat_csv = pd.read_csv(\"Data/Boat_nominal_data/Boat_sequences_mix.csv\")\n",
    "boat_csv = boat_csv.drop(columns=[\"Unnamed: 0\", \"M0C\", \"M1C\", \"Acceleration\",\"Speed\"])\n",
    "scaler = StandardScaler()\n",
    "normal_data = scaler.fit_transform(boat_csv)\n",
    "print(normal_data.shape)\n",
    "\n",
    "boat_val = pd.read_csv(\"Data/Boat_nominal_data/Boat_sequences_mix_val.csv\")\n",
    "boat_val = boat_val.drop(columns=[\"Unnamed: 0\", \"M0C\", \"M1C\", \"Acceleration\", \"Speed\"])\n",
    "scaler = StandardScaler()\n",
    "val_nom_data = scaler.fit_transform(boat_val)\n",
    "\n",
    "def prepare_sequences(data, batch_size):\n",
    "    samples = []\n",
    "    for i in range(0,data.shape[0]- batch_size, batch_size):\n",
    "        sample = data[i:i+batch_size]\t\n",
    "        samples.append(sample)\n",
    "    sequences = np.array(samples)\n",
    "    trainX = np.reshape(sequences, (len(sequences), batch_size, n_features))\n",
    "    return trainX\n",
    "\n",
    "\n",
    "def prepare_data():    \n",
    "    trainX_nominal = prepare_sequences(normal_data,1024) \n",
    "    print(trainX_nominal.shape)\n",
    "    \n",
    "    valX_nominal = prepare_sequences(val_nom_data,1024)\n",
    "    print(valX_nominal.shape)\n",
    "\n",
    "    return trainX_nominal, valX_nominal\n",
    "\n",
    "trainX_nominal, valX_nominal = prepare_data()\n"
   ]
  },
  {
   "cell_type": "code",
   "execution_count": 42,
   "metadata": {
    "collapsed": true
   },
   "outputs": [
    {
     "name": "stdout",
     "output_type": "stream",
     "text": [
      "__________________________________________________________________________________________________\nLayer (type)                    Output Shape         Param #     Connected to                     \n==================================================================================================\nencoder_input (InputLayer)      (None, 1024, 4)      0                                            \n__________________________________________________________________________________________________\nconv1d_46 (Conv1D)              (None, 1024, 64)     1856        encoder_input[0][0]              \n__________________________________________________________________________________________________\nmax_pooling1d_21 (MaxPooling1D) (None, 512, 64)      0           conv1d_46[0][0]                  \n__________________________________________________________________________________________________\nconv1d_47 (Conv1D)              (None, 512, 32)      14368       max_pooling1d_21[0][0]           \n__________________________________________________________________________________________________\nmax_pooling1d_22 (MaxPooling1D) (None, 256, 32)      0           conv1d_47[0][0]                  \n__________________________________________________________________________________________________\nconv1d_48 (Conv1D)              (None, 256, 16)      3600        max_pooling1d_22[0][0]           \n__________________________________________________________________________________________________\nmax_pooling1d_23 (MaxPooling1D) (None, 128, 16)      0           conv1d_48[0][0]                  \n__________________________________________________________________________________________________\nconv1d_49 (Conv1D)              (None, 128, 8)       904         max_pooling1d_23[0][0]           \n__________________________________________________________________________________________________\nmax_pooling1d_24 (MaxPooling1D) (None, 64, 8)        0           conv1d_49[0][0]                  \n__________________________________________________________________________________________________\nflatten_6 (Flatten)             (None, 512)          0           max_pooling1d_24[0][0]           \n__________________________________________________________________________________________________\nz_mean (Dense)                  (None, 10)           5130        flatten_6[0][0]                  \n__________________________________________________________________________________________________\nz_log_var (Dense)               (None, 10)           5130        flatten_6[0][0]                  \n__________________________________________________________________________________________________\nz (Lambda)                      (None, 10)           0           z_mean[0][0]                     \n                                                                 z_log_var[0][0]                  \n==================================================================================================\nTotal params: 30,988\nTrainable params: 30,988\nNon-trainable params: 0\n__________________________________________________________________________________________________\n"
     ]
    },
    {
     "name": "stdout",
     "output_type": "stream",
     "text": [
      "_________________________________________________________________\nLayer (type)                 Output Shape              Param #   \n=================================================================\nz_sampling (InputLayer)      (None, 10)                0         \n_________________________________________________________________\nDense_after_sampling (Dense) (None, 512)               5632      \n_________________________________________________________________\nreshape_6 (Reshape)          (None, 64, 8)             0         \n_________________________________________________________________\nconv1d_50 (Conv1D)           (None, 64, 8)             456       \n_________________________________________________________________\nup_sampling1d_21 (UpSampling (None, 128, 8)            0         \n_________________________________________________________________\nconv1d_51 (Conv1D)           (None, 128, 16)           912       \n_________________________________________________________________\nup_sampling1d_22 (UpSampling (None, 256, 16)           0         \n_________________________________________________________________\nconv1d_52 (Conv1D)           (None, 256, 32)           3616      \n_________________________________________________________________\nup_sampling1d_23 (UpSampling (None, 512, 32)           0         \n_________________________________________________________________\nconv1d_53 (Conv1D)           (None, 512, 64)           14400     \n_________________________________________________________________\nup_sampling1d_24 (UpSampling (None, 1024, 64)          0         \n_________________________________________________________________\nconv1d_54 (Conv1D)           (None, 1024, 4)           1796      \n=================================================================\nTotal params: 26,812\nTrainable params: 26,812\nNon-trainable params: 0\n_________________________________________________________________\n"
     ]
    }
   ],
   "source": [
    "from keras.layers import MaxPooling1D\n",
    "\n",
    "input_shape = (1024, n_features)\n",
    "kernel_size = 3\n",
    "filters = 64\n",
    "latent_dim = 10\n",
    "use_mse = True\n",
    "load_weights = False\n",
    "\n",
    "\n",
    "def sampling(args):\n",
    "    z_mean, z_log_var = args\n",
    "    batch = K.shape(z_mean)[0]\n",
    "    dim = K.int_shape(z_mean)[1]\n",
    "    epsilon = K.random_normal(shape=(batch, dim))\n",
    "    return z_mean + K.exp(0.5 * z_log_var) * epsilon\n",
    "\n",
    "\n",
    "inputs = Input(shape=input_shape, name='encoder_input')\n",
    "x = inputs\n",
    "for i in range(4):\n",
    "    x = Conv1D(filters=filters,\n",
    "               kernel_size=7,\n",
    "               padding='same')(x)\n",
    "    x = MaxPooling1D(2)(x)\n",
    "    filters = int(filters / 2)\n",
    "\n",
    "\n",
    "shape = K.int_shape(x)\n",
    "\n",
    "x = Flatten()(x)\n",
    "z_mean = Dense(latent_dim, name='z_mean')(x)\n",
    "z_log_var = Dense(latent_dim, name='z_log_var')(x)\n",
    "\n",
    "z = Lambda(sampling, output_shape=(latent_dim,), name='z')([z_mean, z_log_var])\n",
    "\n",
    "encoder = Model(inputs, [z_mean, z_log_var, z], name='encoder')\n",
    "encoder.summary()\n",
    "\n",
    "latent_inputs = Input(shape=(latent_dim,), name='z_sampling')\n",
    "x = Dense(shape[1] * shape[2], name='Dense_after_sampling')(latent_inputs)\n",
    "x = Reshape((shape[1], shape[2]))(x)\n",
    "filters = filters * 2\n",
    "\n",
    "for i in range(4):\n",
    "    x = Conv1D(filters=filters,kernel_size=7, padding='same')(x)\n",
    "    x = UpSampling1D(size=2)(x)\n",
    "    filters = filters * 2\n",
    "    \n",
    "    \n",
    "outputs = Conv1D(filters=n_features, kernel_size=7, padding='same')(x)\n",
    "\n",
    "\n",
    "decoder = Model(latent_inputs, outputs, name='decoder')\n",
    "decoder.summary()\n",
    "\n",
    "outputs = decoder(encoder(inputs)[2])\n",
    "vae = Model(inputs, outputs, name='vae')\n",
    "\n",
    "from keras.losses import mse\n",
    "\n",
    "reconstruction_loss = mse(K.flatten(inputs), K.flatten(outputs))\n",
    "kl_loss = - 0.5 * K.mean(1 + z_log_var - K.square(z_mean) - K.exp(z_log_var))\n",
    "loss = reconstruction_loss + beta*kl_loss\n",
    "vae.add_loss(loss)\n",
    "\n",
    "vae.compile(optimizer='rmsprop', metrics= ['accuracy'])\n"
   ]
  },
  {
   "cell_type": "code",
   "execution_count": 43,
   "metadata": {
    "collapsed": true
   },
   "outputs": [
    {
     "name": "stdout",
     "output_type": "stream",
     "text": [
      "Train on 500 samples, validate on 10 samples\nEpoch 1/120\n"
     ]
    },
    {
     "name": "stdout",
     "output_type": "stream",
     "text": [
      "\r500/500 [==============================] - 21s 42ms/step - loss: 6.1810 - val_loss: 9.6269\n"
     ]
    },
    {
     "name": "stdout",
     "output_type": "stream",
     "text": [
      "\nEpoch 00001: val_loss improved from inf to 9.62690, saving model to Models/Weights/weights.hdf5\n"
     ]
    },
    {
     "name": "stdout",
     "output_type": "stream",
     "text": [
      "Epoch 2/120\n"
     ]
    },
    {
     "name": "stdout",
     "output_type": "stream",
     "text": [
      "\r500/500 [==============================] - 3s 6ms/step - loss: 9.6352 - val_loss: 5.9417\n"
     ]
    },
    {
     "name": "stdout",
     "output_type": "stream",
     "text": [
      "\nEpoch 00002: val_loss improved from 9.62690 to 5.94172, saving model to Models/Weights/weights.hdf5\nEpoch 3/120\n"
     ]
    },
    {
     "name": "stdout",
     "output_type": "stream",
     "text": [
      "\r500/500 [==============================] - 3s 5ms/step - loss: 5.9442 - val_loss: 4.7688\n"
     ]
    },
    {
     "name": "stdout",
     "output_type": "stream",
     "text": [
      "\nEpoch 00003: val_loss improved from 5.94172 to 4.76880, saving model to Models/Weights/weights.hdf5\nEpoch 4/120\n"
     ]
    },
    {
     "name": "stdout",
     "output_type": "stream",
     "text": [
      "\r500/500 [==============================] - 3s 6ms/step - loss: 4.7535 - val_loss: 2.0175\n"
     ]
    },
    {
     "name": "stdout",
     "output_type": "stream",
     "text": [
      "\nEpoch 00004: val_loss improved from 4.76880 to 2.01750, saving model to Models/Weights/weights.hdf5\nEpoch 5/120\n"
     ]
    },
    {
     "name": "stdout",
     "output_type": "stream",
     "text": [
      "\r500/500 [==============================] - 3s 5ms/step - loss: 2.0115 - val_loss: 2.6381\n"
     ]
    },
    {
     "name": "stdout",
     "output_type": "stream",
     "text": [
      "\nEpoch 00005: val_loss did not improve from 2.01750\nEpoch 6/120\n"
     ]
    },
    {
     "name": "stdout",
     "output_type": "stream",
     "text": [
      "\r500/500 [==============================] - 2s 5ms/step - loss: 2.6487 - val_loss: 1.8802\n"
     ]
    },
    {
     "name": "stdout",
     "output_type": "stream",
     "text": [
      "\nEpoch 00006: val_loss improved from 2.01750 to 1.88016, saving model to Models/Weights/weights.hdf5\nEpoch 7/120\n"
     ]
    },
    {
     "name": "stdout",
     "output_type": "stream",
     "text": [
      "\r500/500 [==============================] - 3s 5ms/step - loss: 1.8639 - val_loss: 1.2408\n"
     ]
    },
    {
     "name": "stdout",
     "output_type": "stream",
     "text": [
      "\nEpoch 00007: val_loss improved from 1.88016 to 1.24080, saving model to Models/Weights/weights.hdf5\nEpoch 8/120\n"
     ]
    },
    {
     "name": "stdout",
     "output_type": "stream",
     "text": [
      "\r500/500 [==============================] - 3s 5ms/step - loss: 1.2418 - val_loss: 1.0429\n"
     ]
    },
    {
     "name": "stdout",
     "output_type": "stream",
     "text": [
      "\nEpoch 00008: val_loss improved from 1.24080 to 1.04293, saving model to Models/Weights/weights.hdf5\nEpoch 9/120\n"
     ]
    },
    {
     "name": "stdout",
     "output_type": "stream",
     "text": [
      "\r500/500 [==============================] - 3s 6ms/step - loss: 1.0397 - val_loss: 1.0108\n"
     ]
    },
    {
     "name": "stdout",
     "output_type": "stream",
     "text": [
      "\nEpoch 00009: val_loss improved from 1.04293 to 1.01081, saving model to Models/Weights/weights.hdf5\nEpoch 10/120\n"
     ]
    },
    {
     "name": "stdout",
     "output_type": "stream",
     "text": [
      "\r500/500 [==============================] - 3s 6ms/step - loss: 1.0131 - val_loss: 1.0047\n"
     ]
    },
    {
     "name": "stdout",
     "output_type": "stream",
     "text": [
      "\nEpoch 00010: val_loss improved from 1.01081 to 1.00472, saving model to Models/Weights/weights.hdf5\nEpoch 11/120\n"
     ]
    },
    {
     "name": "stdout",
     "output_type": "stream",
     "text": [
      "\r500/500 [==============================] - 3s 5ms/step - loss: 1.0019 - val_loss: 1.0105\n"
     ]
    },
    {
     "name": "stdout",
     "output_type": "stream",
     "text": [
      "\nEpoch 00011: val_loss did not improve from 1.00472\nEpoch 12/120\n"
     ]
    },
    {
     "name": "stdout",
     "output_type": "stream",
     "text": [
      "\r500/500 [==============================] - 3s 5ms/step - loss: 0.9949 - val_loss: 0.9800\n"
     ]
    },
    {
     "name": "stdout",
     "output_type": "stream",
     "text": [
      "\nEpoch 00012: val_loss improved from 1.00472 to 0.97999, saving model to Models/Weights/weights.hdf5\nEpoch 13/120\n"
     ]
    },
    {
     "name": "stdout",
     "output_type": "stream",
     "text": [
      "\r500/500 [==============================] - 3s 7ms/step - loss: 0.9879 - val_loss: 1.0014\n"
     ]
    },
    {
     "name": "stdout",
     "output_type": "stream",
     "text": [
      "\nEpoch 00013: val_loss did not improve from 0.97999\nEpoch 14/120\n"
     ]
    },
    {
     "name": "stdout",
     "output_type": "stream",
     "text": [
      "\r500/500 [==============================] - 3s 7ms/step - loss: 0.9791 - val_loss: 0.9705\n"
     ]
    },
    {
     "name": "stdout",
     "output_type": "stream",
     "text": [
      "\nEpoch 00014: val_loss improved from 0.97999 to 0.97049, saving model to Models/Weights/weights.hdf5\nEpoch 15/120\n"
     ]
    },
    {
     "name": "stdout",
     "output_type": "stream",
     "text": [
      "\r500/500 [==============================] - 3s 6ms/step - loss: 0.9663 - val_loss: 0.9502\n"
     ]
    },
    {
     "name": "stdout",
     "output_type": "stream",
     "text": [
      "\nEpoch 00015: val_loss improved from 0.97049 to 0.95025, saving model to Models/Weights/weights.hdf5\nEpoch 16/120\n"
     ]
    },
    {
     "name": "stdout",
     "output_type": "stream",
     "text": [
      "\r500/500 [==============================] - 3s 5ms/step - loss: 0.9542 - val_loss: 0.9093\n"
     ]
    },
    {
     "name": "stdout",
     "output_type": "stream",
     "text": [
      "\nEpoch 00016: val_loss improved from 0.95025 to 0.90931, saving model to Models/Weights/weights.hdf5\nEpoch 17/120\n"
     ]
    },
    {
     "name": "stdout",
     "output_type": "stream",
     "text": [
      "\r500/500 [==============================] - 3s 5ms/step - loss: 0.9367 - val_loss: 0.8864\n"
     ]
    },
    {
     "name": "stdout",
     "output_type": "stream",
     "text": [
      "\nEpoch 00017: val_loss improved from 0.90931 to 0.88637, saving model to Models/Weights/weights.hdf5\nEpoch 18/120\n"
     ]
    },
    {
     "name": "stdout",
     "output_type": "stream",
     "text": [
      "\r500/500 [==============================] - 3s 6ms/step - loss: 0.9098 - val_loss: 0.8790\n"
     ]
    },
    {
     "name": "stdout",
     "output_type": "stream",
     "text": [
      "\nEpoch 00018: val_loss improved from 0.88637 to 0.87900, saving model to Models/Weights/weights.hdf5\nEpoch 19/120\n"
     ]
    },
    {
     "name": "stdout",
     "output_type": "stream",
     "text": [
      "\r500/500 [==============================] - 3s 6ms/step - loss: 0.9200 - val_loss: 1.0929\n"
     ]
    },
    {
     "name": "stdout",
     "output_type": "stream",
     "text": [
      "\nEpoch 00019: val_loss did not improve from 0.87900\nEpoch 20/120\n"
     ]
    },
    {
     "name": "stdout",
     "output_type": "stream",
     "text": [
      "\r500/500 [==============================] - 3s 6ms/step - loss: 1.0059 - val_loss: 1.1750\n"
     ]
    },
    {
     "name": "stdout",
     "output_type": "stream",
     "text": [
      "\nEpoch 00020: val_loss did not improve from 0.87900\nEpoch 21/120\n"
     ]
    },
    {
     "name": "stdout",
     "output_type": "stream",
     "text": [
      "\r500/500 [==============================] - 3s 6ms/step - loss: 1.1894 - val_loss: 1.1350\n"
     ]
    },
    {
     "name": "stdout",
     "output_type": "stream",
     "text": [
      "\nEpoch 00021: val_loss did not improve from 0.87900\nEpoch 22/120\n"
     ]
    },
    {
     "name": "stdout",
     "output_type": "stream",
     "text": [
      "\r500/500 [==============================] - 3s 6ms/step - loss: 1.1141 - val_loss: 0.7846\n"
     ]
    },
    {
     "name": "stdout",
     "output_type": "stream",
     "text": [
      "\nEpoch 00022: val_loss improved from 0.87900 to 0.78463, saving model to Models/Weights/weights.hdf5\nEpoch 23/120\n"
     ]
    },
    {
     "name": "stdout",
     "output_type": "stream",
     "text": [
      "\r500/500 [==============================] - 3s 6ms/step - loss: 0.7733 - val_loss: 0.6158\n"
     ]
    },
    {
     "name": "stdout",
     "output_type": "stream",
     "text": [
      "\nEpoch 00023: val_loss improved from 0.78463 to 0.61575, saving model to Models/Weights/weights.hdf5\nEpoch 24/120\n"
     ]
    },
    {
     "name": "stdout",
     "output_type": "stream",
     "text": [
      "\r500/500 [==============================] - 3s 5ms/step - loss: 0.6544 - val_loss: 0.6450\n"
     ]
    },
    {
     "name": "stdout",
     "output_type": "stream",
     "text": [
      "\nEpoch 00024: val_loss did not improve from 0.61575\nEpoch 25/120\n"
     ]
    },
    {
     "name": "stdout",
     "output_type": "stream",
     "text": [
      "\r500/500 [==============================] - 3s 5ms/step - loss: 0.6760 - val_loss: 0.7658\n"
     ]
    },
    {
     "name": "stdout",
     "output_type": "stream",
     "text": [
      "\nEpoch 00025: val_loss did not improve from 0.61575\nEpoch 26/120\n"
     ]
    },
    {
     "name": "stdout",
     "output_type": "stream",
     "text": [
      "\r500/500 [==============================] - 3s 6ms/step - loss: 0.7900 - val_loss: 0.9641\n"
     ]
    },
    {
     "name": "stdout",
     "output_type": "stream",
     "text": [
      "\nEpoch 00026: val_loss did not improve from 0.61575\nEpoch 27/120\n"
     ]
    },
    {
     "name": "stdout",
     "output_type": "stream",
     "text": [
      "\r500/500 [==============================] - 3s 5ms/step - loss: 0.9432 - val_loss: 0.7837\n"
     ]
    },
    {
     "name": "stdout",
     "output_type": "stream",
     "text": [
      "\nEpoch 00027: val_loss did not improve from 0.61575\nEpoch 28/120\n"
     ]
    },
    {
     "name": "stdout",
     "output_type": "stream",
     "text": [
      "\r500/500 [==============================] - 3s 6ms/step - loss: 0.7568 - val_loss: 0.5381\n"
     ]
    },
    {
     "name": "stdout",
     "output_type": "stream",
     "text": [
      "\nEpoch 00028: val_loss improved from 0.61575 to 0.53815, saving model to Models/Weights/weights.hdf5\nEpoch 29/120\n"
     ]
    },
    {
     "name": "stdout",
     "output_type": "stream",
     "text": [
      "\r500/500 [==============================] - 3s 6ms/step - loss: 0.5394 - val_loss: 0.3918\n"
     ]
    },
    {
     "name": "stdout",
     "output_type": "stream",
     "text": [
      "\nEpoch 00029: val_loss improved from 0.53815 to 0.39178, saving model to Models/Weights/weights.hdf5\nEpoch 30/120\n"
     ]
    },
    {
     "name": "stdout",
     "output_type": "stream",
     "text": [
      "\r500/500 [==============================] - 3s 6ms/step - loss: 0.4109 - val_loss: 0.3970\n"
     ]
    },
    {
     "name": "stdout",
     "output_type": "stream",
     "text": [
      "\nEpoch 00030: val_loss did not improve from 0.39178\nEpoch 31/120\n"
     ]
    },
    {
     "name": "stdout",
     "output_type": "stream",
     "text": [
      "\r500/500 [==============================] - 3s 6ms/step - loss: 0.3927 - val_loss: 0.3996\n"
     ]
    },
    {
     "name": "stdout",
     "output_type": "stream",
     "text": [
      "\nEpoch 00031: val_loss did not improve from 0.39178\nEpoch 32/120\n"
     ]
    },
    {
     "name": "stdout",
     "output_type": "stream",
     "text": [
      "\r500/500 [==============================] - 3s 5ms/step - loss: 0.3973 - val_loss: 0.4282\n"
     ]
    },
    {
     "name": "stdout",
     "output_type": "stream",
     "text": [
      "\nEpoch 00032: val_loss did not improve from 0.39178\nEpoch 33/120\n"
     ]
    },
    {
     "name": "stdout",
     "output_type": "stream",
     "text": [
      "\r500/500 [==============================] - 3s 6ms/step - loss: 0.4316 - val_loss: 0.5119\n"
     ]
    },
    {
     "name": "stdout",
     "output_type": "stream",
     "text": [
      "\nEpoch 00033: val_loss did not improve from 0.39178\nEpoch 34/120\n"
     ]
    },
    {
     "name": "stdout",
     "output_type": "stream",
     "text": [
      "\r500/500 [==============================] - 3s 6ms/step - loss: 0.4986 - val_loss: 0.5514\n"
     ]
    },
    {
     "name": "stdout",
     "output_type": "stream",
     "text": [
      "\nEpoch 00034: val_loss did not improve from 0.39178\nEpoch 35/120\n"
     ]
    },
    {
     "name": "stdout",
     "output_type": "stream",
     "text": [
      "\r500/500 [==============================] - 3s 6ms/step - loss: 0.5455 - val_loss: 0.4213\n"
     ]
    },
    {
     "name": "stdout",
     "output_type": "stream",
     "text": [
      "\nEpoch 00035: val_loss did not improve from 0.39178\nEpoch 36/120\n"
     ]
    },
    {
     "name": "stdout",
     "output_type": "stream",
     "text": [
      "\r500/500 [==============================] - 3s 6ms/step - loss: 0.4198 - val_loss: 0.3652\n"
     ]
    },
    {
     "name": "stdout",
     "output_type": "stream",
     "text": [
      "\nEpoch 00036: val_loss improved from 0.39178 to 0.36519, saving model to Models/Weights/weights.hdf5\nEpoch 37/120\n"
     ]
    },
    {
     "name": "stdout",
     "output_type": "stream",
     "text": [
      "\r500/500 [==============================] - 3s 6ms/step - loss: 0.3633 - val_loss: 0.3693\n"
     ]
    },
    {
     "name": "stdout",
     "output_type": "stream",
     "text": [
      "\nEpoch 00037: val_loss did not improve from 0.36519\nEpoch 38/120\n"
     ]
    },
    {
     "name": "stdout",
     "output_type": "stream",
     "text": [
      "\r500/500 [==============================] - 3s 6ms/step - loss: 0.3674 - val_loss: 0.4079\n"
     ]
    },
    {
     "name": "stdout",
     "output_type": "stream",
     "text": [
      "\nEpoch 00038: val_loss did not improve from 0.36519\nEpoch 39/120\n"
     ]
    },
    {
     "name": "stdout",
     "output_type": "stream",
     "text": [
      "\r500/500 [==============================] - 3s 5ms/step - loss: 0.4030 - val_loss: 0.4433\n"
     ]
    },
    {
     "name": "stdout",
     "output_type": "stream",
     "text": [
      "\nEpoch 00039: val_loss did not improve from 0.36519\nEpoch 40/120\n"
     ]
    },
    {
     "name": "stdout",
     "output_type": "stream",
     "text": [
      "\r500/500 [==============================] - 4s 8ms/step - loss: 0.4542 - val_loss: 0.4222\n"
     ]
    },
    {
     "name": "stdout",
     "output_type": "stream",
     "text": [
      "\nEpoch 00040: val_loss did not improve from 0.36519\nEpoch 41/120\n"
     ]
    },
    {
     "name": "stdout",
     "output_type": "stream",
     "text": [
      "\r500/500 [==============================] - 4s 7ms/step - loss: 0.4176 - val_loss: 0.3654\n"
     ]
    },
    {
     "name": "stdout",
     "output_type": "stream",
     "text": [
      "\nEpoch 00041: val_loss did not improve from 0.36519\nEpoch 42/120\n"
     ]
    },
    {
     "name": "stdout",
     "output_type": "stream",
     "text": [
      "\r500/500 [==============================] - 3s 6ms/step - loss: 0.3647 - val_loss: 0.3652\n"
     ]
    },
    {
     "name": "stdout",
     "output_type": "stream",
     "text": [
      "\nEpoch 00042: val_loss did not improve from 0.36519\nEpoch 43/120\n"
     ]
    },
    {
     "name": "stdout",
     "output_type": "stream",
     "text": [
      "\r500/500 [==============================] - 3s 6ms/step - loss: 0.3564 - val_loss: 0.3569\n"
     ]
    },
    {
     "name": "stdout",
     "output_type": "stream",
     "text": [
      "\nEpoch 00043: val_loss improved from 0.36519 to 0.35688, saving model to Models/Weights/weights.hdf5\nEpoch 44/120\n"
     ]
    },
    {
     "name": "stdout",
     "output_type": "stream",
     "text": [
      "\r500/500 [==============================] - 3s 5ms/step - loss: 0.3661 - val_loss: 0.3294\n"
     ]
    },
    {
     "name": "stdout",
     "output_type": "stream",
     "text": [
      "\nEpoch 00044: val_loss improved from 0.35688 to 0.32940, saving model to Models/Weights/weights.hdf5\nEpoch 45/120\n"
     ]
    },
    {
     "name": "stdout",
     "output_type": "stream",
     "text": [
      "\r500/500 [==============================] - 3s 5ms/step - loss: 0.3369 - val_loss: 0.3219\n"
     ]
    },
    {
     "name": "stdout",
     "output_type": "stream",
     "text": [
      "\nEpoch 00045: val_loss improved from 0.32940 to 0.32189, saving model to Models/Weights/weights.hdf5\nEpoch 46/120\n"
     ]
    },
    {
     "name": "stdout",
     "output_type": "stream",
     "text": [
      "\r500/500 [==============================] - 3s 5ms/step - loss: 0.3149 - val_loss: 0.2893\n"
     ]
    },
    {
     "name": "stdout",
     "output_type": "stream",
     "text": [
      "\nEpoch 00046: val_loss improved from 0.32189 to 0.28929, saving model to Models/Weights/weights.hdf5\nEpoch 47/120\n"
     ]
    },
    {
     "name": "stdout",
     "output_type": "stream",
     "text": [
      "\r500/500 [==============================] - 3s 6ms/step - loss: 0.2967 - val_loss: 0.3436\n"
     ]
    },
    {
     "name": "stdout",
     "output_type": "stream",
     "text": [
      "\nEpoch 00047: val_loss did not improve from 0.28929\nEpoch 48/120\n"
     ]
    },
    {
     "name": "stdout",
     "output_type": "stream",
     "text": [
      "\r500/500 [==============================] - 3s 6ms/step - loss: 0.3425 - val_loss: 0.4821\n"
     ]
    },
    {
     "name": "stdout",
     "output_type": "stream",
     "text": [
      "\nEpoch 00048: val_loss did not improve from 0.28929\nEpoch 49/120\n"
     ]
    },
    {
     "name": "stdout",
     "output_type": "stream",
     "text": [
      "\r500/500 [==============================] - 3s 5ms/step - loss: 0.4807 - val_loss: 0.5432\n"
     ]
    },
    {
     "name": "stdout",
     "output_type": "stream",
     "text": [
      "\nEpoch 00049: val_loss did not improve from 0.28929\nEpoch 50/120\n"
     ]
    },
    {
     "name": "stdout",
     "output_type": "stream",
     "text": [
      "\r500/500 [==============================] - 2s 5ms/step - loss: 0.5380 - val_loss: 0.5142\n"
     ]
    },
    {
     "name": "stdout",
     "output_type": "stream",
     "text": [
      "\nEpoch 00050: val_loss did not improve from 0.28929\nEpoch 51/120\n"
     ]
    },
    {
     "name": "stdout",
     "output_type": "stream",
     "text": [
      "\r500/500 [==============================] - 3s 5ms/step - loss: 0.5052 - val_loss: 0.5800\n"
     ]
    },
    {
     "name": "stdout",
     "output_type": "stream",
     "text": [
      "\nEpoch 00051: val_loss did not improve from 0.28929\nEpoch 52/120\n"
     ]
    },
    {
     "name": "stdout",
     "output_type": "stream",
     "text": [
      "\r500/500 [==============================] - 3s 7ms/step - loss: 0.5844 - val_loss: 0.4322\n"
     ]
    },
    {
     "name": "stdout",
     "output_type": "stream",
     "text": [
      "\nEpoch 00052: val_loss did not improve from 0.28929\nEpoch 53/120\n"
     ]
    },
    {
     "name": "stdout",
     "output_type": "stream",
     "text": [
      "\r500/500 [==============================] - 3s 6ms/step - loss: 0.4329 - val_loss: 0.4557\n"
     ]
    },
    {
     "name": "stdout",
     "output_type": "stream",
     "text": [
      "\nEpoch 00053: val_loss did not improve from 0.28929\nEpoch 54/120\n"
     ]
    },
    {
     "name": "stdout",
     "output_type": "stream",
     "text": [
      "\r500/500 [==============================] - 3s 6ms/step - loss: 0.4551 - val_loss: 0.5437\n"
     ]
    },
    {
     "name": "stdout",
     "output_type": "stream",
     "text": [
      "\nEpoch 00054: val_loss did not improve from 0.28929\nEpoch 55/120\n"
     ]
    },
    {
     "name": "stdout",
     "output_type": "stream",
     "text": [
      "\r500/500 [==============================] - 3s 6ms/step - loss: 0.5376 - val_loss: 0.4311\n"
     ]
    },
    {
     "name": "stdout",
     "output_type": "stream",
     "text": [
      "\nEpoch 00055: val_loss did not improve from 0.28929\nEpoch 56/120\n"
     ]
    },
    {
     "name": "stdout",
     "output_type": "stream",
     "text": [
      "\r500/500 [==============================] - 3s 6ms/step - loss: 0.4269 - val_loss: 0.3414\n"
     ]
    },
    {
     "name": "stdout",
     "output_type": "stream",
     "text": [
      "\nEpoch 00056: val_loss did not improve from 0.28929\nEpoch 57/120\n"
     ]
    },
    {
     "name": "stdout",
     "output_type": "stream",
     "text": [
      "\r500/500 [==============================] - 3s 7ms/step - loss: 0.3360 - val_loss: 0.2826\n"
     ]
    },
    {
     "name": "stdout",
     "output_type": "stream",
     "text": [
      "\nEpoch 00057: val_loss improved from 0.28929 to 0.28261, saving model to Models/Weights/weights.hdf5\nEpoch 58/120\n"
     ]
    },
    {
     "name": "stdout",
     "output_type": "stream",
     "text": [
      "\r500/500 [==============================] - 3s 6ms/step - loss: 0.2873 - val_loss: 0.2498\n"
     ]
    },
    {
     "name": "stdout",
     "output_type": "stream",
     "text": [
      "\nEpoch 00058: val_loss improved from 0.28261 to 0.24978, saving model to Models/Weights/weights.hdf5\nEpoch 59/120\n"
     ]
    },
    {
     "name": "stdout",
     "output_type": "stream",
     "text": [
      "\r500/500 [==============================] - 3s 5ms/step - loss: 0.2527 - val_loss: 0.2521\n"
     ]
    },
    {
     "name": "stdout",
     "output_type": "stream",
     "text": [
      "\nEpoch 00059: val_loss did not improve from 0.24978\nEpoch 60/120\n"
     ]
    },
    {
     "name": "stdout",
     "output_type": "stream",
     "text": [
      "\r500/500 [==============================] - 3s 5ms/step - loss: 0.2506 - val_loss: 0.2828\n"
     ]
    },
    {
     "name": "stdout",
     "output_type": "stream",
     "text": [
      "\nEpoch 00060: val_loss did not improve from 0.24978\nEpoch 61/120\n"
     ]
    },
    {
     "name": "stdout",
     "output_type": "stream",
     "text": [
      "\r500/500 [==============================] - 3s 6ms/step - loss: 0.2657 - val_loss: 0.2969\n"
     ]
    },
    {
     "name": "stdout",
     "output_type": "stream",
     "text": [
      "\nEpoch 00061: val_loss did not improve from 0.24978\nEpoch 62/120\n"
     ]
    },
    {
     "name": "stdout",
     "output_type": "stream",
     "text": [
      "\r500/500 [==============================] - 3s 6ms/step - loss: 0.2956 - val_loss: 0.3017\n"
     ]
    },
    {
     "name": "stdout",
     "output_type": "stream",
     "text": [
      "\nEpoch 00062: val_loss did not improve from 0.24978\nEpoch 63/120\n"
     ]
    },
    {
     "name": "stdout",
     "output_type": "stream",
     "text": [
      "\r500/500 [==============================] - 3s 6ms/step - loss: 0.3062 - val_loss: 0.3166\n"
     ]
    },
    {
     "name": "stdout",
     "output_type": "stream",
     "text": [
      "\nEpoch 00063: val_loss did not improve from 0.24978\nEpoch 64/120\n"
     ]
    },
    {
     "name": "stdout",
     "output_type": "stream",
     "text": [
      "\r500/500 [==============================] - 3s 6ms/step - loss: 0.3143 - val_loss: 0.2647\n"
     ]
    },
    {
     "name": "stdout",
     "output_type": "stream",
     "text": [
      "\nEpoch 00064: val_loss did not improve from 0.24978\nEpoch 65/120\n"
     ]
    },
    {
     "name": "stdout",
     "output_type": "stream",
     "text": [
      "\r500/500 [==============================] - 3s 5ms/step - loss: 0.2590 - val_loss: 0.2432\n"
     ]
    },
    {
     "name": "stdout",
     "output_type": "stream",
     "text": [
      "\nEpoch 00065: val_loss improved from 0.24978 to 0.24318, saving model to Models/Weights/weights.hdf5\nEpoch 66/120\n"
     ]
    },
    {
     "name": "stdout",
     "output_type": "stream",
     "text": [
      "\r500/500 [==============================] - 3s 6ms/step - loss: 0.2420 - val_loss: 0.2290\n"
     ]
    },
    {
     "name": "stdout",
     "output_type": "stream",
     "text": [
      "\nEpoch 00066: val_loss improved from 0.24318 to 0.22902, saving model to Models/Weights/weights.hdf5\nEpoch 67/120\n"
     ]
    },
    {
     "name": "stdout",
     "output_type": "stream",
     "text": [
      "\r500/500 [==============================] - 3s 5ms/step - loss: 0.2296 - val_loss: 0.2391\n"
     ]
    },
    {
     "name": "stdout",
     "output_type": "stream",
     "text": [
      "\nEpoch 00067: val_loss did not improve from 0.22902\nEpoch 68/120\n"
     ]
    },
    {
     "name": "stdout",
     "output_type": "stream",
     "text": [
      "\r500/500 [==============================] - 3s 5ms/step - loss: 0.2311 - val_loss: 0.2457\n"
     ]
    },
    {
     "name": "stdout",
     "output_type": "stream",
     "text": [
      "\nEpoch 00068: val_loss did not improve from 0.22902\nEpoch 69/120\n"
     ]
    },
    {
     "name": "stdout",
     "output_type": "stream",
     "text": [
      "\r500/500 [==============================] - 3s 6ms/step - loss: 0.2288 - val_loss: 0.2395\n"
     ]
    },
    {
     "name": "stdout",
     "output_type": "stream",
     "text": [
      "\nEpoch 00069: val_loss did not improve from 0.22902\nEpoch 70/120\n"
     ]
    },
    {
     "name": "stdout",
     "output_type": "stream",
     "text": [
      "\r500/500 [==============================] - 3s 6ms/step - loss: 0.2375 - val_loss: 0.2344\n"
     ]
    },
    {
     "name": "stdout",
     "output_type": "stream",
     "text": [
      "\nEpoch 00070: val_loss did not improve from 0.22902\nEpoch 71/120\n"
     ]
    },
    {
     "name": "stdout",
     "output_type": "stream",
     "text": [
      "\r500/500 [==============================] - 3s 6ms/step - loss: 0.2291 - val_loss: 0.2377\n"
     ]
    },
    {
     "name": "stdout",
     "output_type": "stream",
     "text": [
      "\nEpoch 00071: val_loss did not improve from 0.22902\nEpoch 72/120\n"
     ]
    },
    {
     "name": "stdout",
     "output_type": "stream",
     "text": [
      "\r500/500 [==============================] - 3s 6ms/step - loss: 0.2365 - val_loss: 0.2463\n"
     ]
    },
    {
     "name": "stdout",
     "output_type": "stream",
     "text": [
      "\nEpoch 00072: val_loss did not improve from 0.22902\nEpoch 73/120\n"
     ]
    },
    {
     "name": "stdout",
     "output_type": "stream",
     "text": [
      "\r500/500 [==============================] - 3s 5ms/step - loss: 0.2453 - val_loss: 0.2522\n"
     ]
    },
    {
     "name": "stdout",
     "output_type": "stream",
     "text": [
      "\nEpoch 00073: val_loss did not improve from 0.22902\nEpoch 74/120\n"
     ]
    },
    {
     "name": "stdout",
     "output_type": "stream",
     "text": [
      "\r500/500 [==============================] - 3s 5ms/step - loss: 0.2529 - val_loss: 0.2814\n"
     ]
    },
    {
     "name": "stdout",
     "output_type": "stream",
     "text": [
      "\nEpoch 00074: val_loss did not improve from 0.22902\nEpoch 75/120\n"
     ]
    },
    {
     "name": "stdout",
     "output_type": "stream",
     "text": [
      "\r500/500 [==============================] - 3s 6ms/step - loss: 0.2772 - val_loss: 0.3019\n"
     ]
    },
    {
     "name": "stdout",
     "output_type": "stream",
     "text": [
      "\nEpoch 00075: val_loss did not improve from 0.22902\nEpoch 76/120\n"
     ]
    },
    {
     "name": "stdout",
     "output_type": "stream",
     "text": [
      "\r500/500 [==============================] - 3s 6ms/step - loss: 0.3015 - val_loss: 0.2771\n"
     ]
    },
    {
     "name": "stdout",
     "output_type": "stream",
     "text": [
      "\nEpoch 00076: val_loss did not improve from 0.22902\nEpoch 77/120\n"
     ]
    },
    {
     "name": "stdout",
     "output_type": "stream",
     "text": [
      "\r500/500 [==============================] - 3s 6ms/step - loss: 0.2771 - val_loss: 0.2690\n"
     ]
    },
    {
     "name": "stdout",
     "output_type": "stream",
     "text": [
      "\nEpoch 00077: val_loss did not improve from 0.22902\nEpoch 78/120\n"
     ]
    },
    {
     "name": "stdout",
     "output_type": "stream",
     "text": [
      "\r500/500 [==============================] - 3s 5ms/step - loss: 0.2727 - val_loss: 0.2680\n"
     ]
    },
    {
     "name": "stdout",
     "output_type": "stream",
     "text": [
      "\nEpoch 00078: val_loss did not improve from 0.22902\nEpoch 79/120\n"
     ]
    },
    {
     "name": "stdout",
     "output_type": "stream",
     "text": [
      "\r500/500 [==============================] - 3s 6ms/step - loss: 0.2698 - val_loss: 0.2555\n"
     ]
    },
    {
     "name": "stdout",
     "output_type": "stream",
     "text": [
      "\nEpoch 00079: val_loss did not improve from 0.22902\nEpoch 80/120\n"
     ]
    },
    {
     "name": "stdout",
     "output_type": "stream",
     "text": [
      "\r500/500 [==============================] - 3s 5ms/step - loss: 0.2546 - val_loss: 0.2567\n"
     ]
    },
    {
     "name": "stdout",
     "output_type": "stream",
     "text": [
      "\nEpoch 00080: val_loss did not improve from 0.22902\nEpoch 81/120\n"
     ]
    },
    {
     "name": "stdout",
     "output_type": "stream",
     "text": [
      "\r500/500 [==============================] - 3s 5ms/step - loss: 0.2600 - val_loss: 0.2642\n"
     ]
    },
    {
     "name": "stdout",
     "output_type": "stream",
     "text": [
      "\nEpoch 00081: val_loss did not improve from 0.22902\nEpoch 82/120\n"
     ]
    },
    {
     "name": "stdout",
     "output_type": "stream",
     "text": [
      "\r500/500 [==============================] - 3s 6ms/step - loss: 0.2563 - val_loss: 0.2304\n"
     ]
    },
    {
     "name": "stdout",
     "output_type": "stream",
     "text": [
      "\nEpoch 00082: val_loss did not improve from 0.22902\nEpoch 83/120\n"
     ]
    },
    {
     "name": "stdout",
     "output_type": "stream",
     "text": [
      "\r500/500 [==============================] - 3s 6ms/step - loss: 0.2375 - val_loss: 0.2429\n"
     ]
    },
    {
     "name": "stdout",
     "output_type": "stream",
     "text": [
      "\nEpoch 00083: val_loss did not improve from 0.22902\nEpoch 84/120\n"
     ]
    },
    {
     "name": "stdout",
     "output_type": "stream",
     "text": [
      "\r500/500 [==============================] - 3s 6ms/step - loss: 0.2521 - val_loss: 0.2757\n"
     ]
    },
    {
     "name": "stdout",
     "output_type": "stream",
     "text": [
      "\nEpoch 00084: val_loss did not improve from 0.22902\nEpoch 85/120\n"
     ]
    },
    {
     "name": "stdout",
     "output_type": "stream",
     "text": [
      "\r500/500 [==============================] - 3s 6ms/step - loss: 0.2786 - val_loss: 0.2732\n"
     ]
    },
    {
     "name": "stdout",
     "output_type": "stream",
     "text": [
      "\nEpoch 00085: val_loss did not improve from 0.22902\nEpoch 86/120\n"
     ]
    },
    {
     "name": "stdout",
     "output_type": "stream",
     "text": [
      "\r500/500 [==============================] - 3s 6ms/step - loss: 0.2763 - val_loss: 0.2777\n"
     ]
    },
    {
     "name": "stdout",
     "output_type": "stream",
     "text": [
      "\nEpoch 00086: val_loss did not improve from 0.22902\nEpoch 87/120\n"
     ]
    },
    {
     "name": "stdout",
     "output_type": "stream",
     "text": [
      "\r500/500 [==============================] - 3s 6ms/step - loss: 0.2731 - val_loss: 0.2647\n"
     ]
    },
    {
     "name": "stdout",
     "output_type": "stream",
     "text": [
      "\nEpoch 00087: val_loss did not improve from 0.22902\nEpoch 88/120\n"
     ]
    },
    {
     "name": "stdout",
     "output_type": "stream",
     "text": [
      "\r500/500 [==============================] - 3s 6ms/step - loss: 0.2653 - val_loss: 0.2714\n"
     ]
    },
    {
     "name": "stdout",
     "output_type": "stream",
     "text": [
      "\nEpoch 00088: val_loss did not improve from 0.22902\nEpoch 89/120\n"
     ]
    },
    {
     "name": "stdout",
     "output_type": "stream",
     "text": [
      "\r500/500 [==============================] - 3s 6ms/step - loss: 0.2687 - val_loss: 0.2441\n"
     ]
    },
    {
     "name": "stdout",
     "output_type": "stream",
     "text": [
      "\nEpoch 00089: val_loss did not improve from 0.22902\nEpoch 90/120\n"
     ]
    },
    {
     "name": "stdout",
     "output_type": "stream",
     "text": [
      "\r500/500 [==============================] - 3s 6ms/step - loss: 0.2330 - val_loss: 0.2275\n"
     ]
    },
    {
     "name": "stdout",
     "output_type": "stream",
     "text": [
      "\nEpoch 00090: val_loss improved from 0.22902 to 0.22749, saving model to Models/Weights/weights.hdf5\nEpoch 91/120\n"
     ]
    },
    {
     "name": "stdout",
     "output_type": "stream",
     "text": [
      "\r500/500 [==============================] - 3s 6ms/step - loss: 0.2301 - val_loss: 0.2401\n"
     ]
    },
    {
     "name": "stdout",
     "output_type": "stream",
     "text": [
      "\nEpoch 00091: val_loss did not improve from 0.22749\nEpoch 92/120\n"
     ]
    },
    {
     "name": "stdout",
     "output_type": "stream",
     "text": [
      "\r500/500 [==============================] - 3s 6ms/step - loss: 0.2383 - val_loss: 0.2338\n"
     ]
    },
    {
     "name": "stdout",
     "output_type": "stream",
     "text": [
      "\nEpoch 00092: val_loss did not improve from 0.22749\nEpoch 93/120\n"
     ]
    },
    {
     "name": "stdout",
     "output_type": "stream",
     "text": [
      "\r500/500 [==============================] - 3s 6ms/step - loss: 0.2368 - val_loss: 0.2232\n"
     ]
    },
    {
     "name": "stdout",
     "output_type": "stream",
     "text": [
      "\nEpoch 00093: val_loss improved from 0.22749 to 0.22316, saving model to Models/Weights/weights.hdf5\nEpoch 94/120\n"
     ]
    },
    {
     "name": "stdout",
     "output_type": "stream",
     "text": [
      "\r500/500 [==============================] - 3s 6ms/step - loss: 0.2215 - val_loss: 0.2620\n"
     ]
    },
    {
     "name": "stdout",
     "output_type": "stream",
     "text": [
      "\nEpoch 00094: val_loss did not improve from 0.22316\nEpoch 95/120\n"
     ]
    },
    {
     "name": "stdout",
     "output_type": "stream",
     "text": [
      "\r500/500 [==============================] - 3s 5ms/step - loss: 0.2609 - val_loss: 0.2545\n"
     ]
    },
    {
     "name": "stdout",
     "output_type": "stream",
     "text": [
      "\nEpoch 00095: val_loss did not improve from 0.22316\nEpoch 96/120\n"
     ]
    },
    {
     "name": "stdout",
     "output_type": "stream",
     "text": [
      "\r500/500 [==============================] - 3s 6ms/step - loss: 0.2505 - val_loss: 0.2531\n"
     ]
    },
    {
     "name": "stdout",
     "output_type": "stream",
     "text": [
      "\nEpoch 00096: val_loss did not improve from 0.22316\nEpoch 97/120\n"
     ]
    },
    {
     "name": "stdout",
     "output_type": "stream",
     "text": [
      "\r500/500 [==============================] - 4s 7ms/step - loss: 0.2547 - val_loss: 0.2363\n"
     ]
    },
    {
     "name": "stdout",
     "output_type": "stream",
     "text": [
      "\nEpoch 00097: val_loss did not improve from 0.22316\nEpoch 98/120\n"
     ]
    },
    {
     "name": "stdout",
     "output_type": "stream",
     "text": [
      "\r500/500 [==============================] - 3s 6ms/step - loss: 0.2375 - val_loss: 0.2705\n"
     ]
    },
    {
     "name": "stdout",
     "output_type": "stream",
     "text": [
      "\nEpoch 00098: val_loss did not improve from 0.22316\nEpoch 99/120\n"
     ]
    },
    {
     "name": "stdout",
     "output_type": "stream",
     "text": [
      "\r500/500 [==============================] - 3s 6ms/step - loss: 0.2639 - val_loss: 0.2925\n"
     ]
    },
    {
     "name": "stdout",
     "output_type": "stream",
     "text": [
      "\nEpoch 00099: val_loss did not improve from 0.22316\nEpoch 100/120\n"
     ]
    },
    {
     "name": "stdout",
     "output_type": "stream",
     "text": [
      "\r500/500 [==============================] - 3s 6ms/step - loss: 0.2902 - val_loss: 0.2766\n"
     ]
    },
    {
     "name": "stdout",
     "output_type": "stream",
     "text": [
      "\nEpoch 00100: val_loss did not improve from 0.22316\nEpoch 101/120\n"
     ]
    },
    {
     "name": "stdout",
     "output_type": "stream",
     "text": [
      "\r500/500 [==============================] - 3s 6ms/step - loss: 0.2694 - val_loss: 0.2144\n"
     ]
    },
    {
     "name": "stdout",
     "output_type": "stream",
     "text": [
      "\nEpoch 00101: val_loss improved from 0.22316 to 0.21441, saving model to Models/Weights/weights.hdf5\nEpoch 102/120\n"
     ]
    },
    {
     "name": "stdout",
     "output_type": "stream",
     "text": [
      "\r500/500 [==============================] - 3s 6ms/step - loss: 0.2179 - val_loss: 0.2387\n"
     ]
    },
    {
     "name": "stdout",
     "output_type": "stream",
     "text": [
      "\nEpoch 00102: val_loss did not improve from 0.21441\nEpoch 103/120\n"
     ]
    },
    {
     "name": "stdout",
     "output_type": "stream",
     "text": [
      "\r500/500 [==============================] - 3s 5ms/step - loss: 0.2393 - val_loss: 0.2401\n"
     ]
    },
    {
     "name": "stdout",
     "output_type": "stream",
     "text": [
      "\nEpoch 00103: val_loss did not improve from 0.21441\nEpoch 104/120\n"
     ]
    },
    {
     "name": "stdout",
     "output_type": "stream",
     "text": [
      "\r500/500 [==============================] - 3s 6ms/step - loss: 0.2485 - val_loss: 0.2668\n"
     ]
    },
    {
     "name": "stdout",
     "output_type": "stream",
     "text": [
      "\nEpoch 00104: val_loss did not improve from 0.21441\nEpoch 105/120\n"
     ]
    },
    {
     "name": "stdout",
     "output_type": "stream",
     "text": [
      "\r500/500 [==============================] - 3s 5ms/step - loss: 0.2682 - val_loss: 0.2664\n"
     ]
    },
    {
     "name": "stdout",
     "output_type": "stream",
     "text": [
      "\nEpoch 00105: val_loss did not improve from 0.21441\nEpoch 106/120\n"
     ]
    },
    {
     "name": "stdout",
     "output_type": "stream",
     "text": [
      "\r500/500 [==============================] - 3s 5ms/step - loss: 0.2602 - val_loss: 0.2478\n"
     ]
    },
    {
     "name": "stdout",
     "output_type": "stream",
     "text": [
      "\nEpoch 00106: val_loss did not improve from 0.21441\nEpoch 107/120\n"
     ]
    },
    {
     "name": "stdout",
     "output_type": "stream",
     "text": [
      "\r500/500 [==============================] - 3s 6ms/step - loss: 0.2526 - val_loss: 0.2144\n"
     ]
    },
    {
     "name": "stdout",
     "output_type": "stream",
     "text": [
      "\nEpoch 00107: val_loss did not improve from 0.21441\nEpoch 108/120\n"
     ]
    },
    {
     "name": "stdout",
     "output_type": "stream",
     "text": [
      "\r500/500 [==============================] - 3s 6ms/step - loss: 0.2151 - val_loss: 0.1994\n"
     ]
    },
    {
     "name": "stdout",
     "output_type": "stream",
     "text": [
      "\nEpoch 00108: val_loss improved from 0.21441 to 0.19936, saving model to Models/Weights/weights.hdf5\nEpoch 109/120\n"
     ]
    },
    {
     "name": "stdout",
     "output_type": "stream",
     "text": [
      "\r500/500 [==============================] - 3s 6ms/step - loss: 0.1996 - val_loss: 0.1946\n"
     ]
    },
    {
     "name": "stdout",
     "output_type": "stream",
     "text": [
      "\nEpoch 00109: val_loss improved from 0.19936 to 0.19460, saving model to Models/Weights/weights.hdf5\nEpoch 110/120\n"
     ]
    },
    {
     "name": "stdout",
     "output_type": "stream",
     "text": [
      "\r500/500 [==============================] - 3s 6ms/step - loss: 0.1959 - val_loss: 0.1917\n"
     ]
    },
    {
     "name": "stdout",
     "output_type": "stream",
     "text": [
      "\nEpoch 00110: val_loss improved from 0.19460 to 0.19174, saving model to Models/Weights/weights.hdf5\nEpoch 111/120\n"
     ]
    },
    {
     "name": "stdout",
     "output_type": "stream",
     "text": [
      "\r500/500 [==============================] - 3s 6ms/step - loss: 0.1934 - val_loss: 0.2005\n"
     ]
    },
    {
     "name": "stdout",
     "output_type": "stream",
     "text": [
      "\nEpoch 00111: val_loss did not improve from 0.19174\nEpoch 112/120\n"
     ]
    },
    {
     "name": "stdout",
     "output_type": "stream",
     "text": [
      "\r500/500 [==============================] - 3s 5ms/step - loss: 0.1982 - val_loss: 0.1920\n"
     ]
    },
    {
     "name": "stdout",
     "output_type": "stream",
     "text": [
      "\nEpoch 00112: val_loss did not improve from 0.19174\nEpoch 113/120\n"
     ]
    },
    {
     "name": "stdout",
     "output_type": "stream",
     "text": [
      "\r500/500 [==============================] - 3s 5ms/step - loss: 0.1894 - val_loss: 0.1941\n"
     ]
    },
    {
     "name": "stdout",
     "output_type": "stream",
     "text": [
      "\nEpoch 00113: val_loss did not improve from 0.19174\nEpoch 114/120\n"
     ]
    },
    {
     "name": "stdout",
     "output_type": "stream",
     "text": [
      "\r500/500 [==============================] - 3s 7ms/step - loss: 0.1927 - val_loss: 0.1846\n"
     ]
    },
    {
     "name": "stdout",
     "output_type": "stream",
     "text": [
      "\nEpoch 00114: val_loss improved from 0.19174 to 0.18462, saving model to Models/Weights/weights.hdf5\nEpoch 115/120\n"
     ]
    },
    {
     "name": "stdout",
     "output_type": "stream",
     "text": [
      "\r500/500 [==============================] - 3s 6ms/step - loss: 0.1858 - val_loss: 0.1917\n"
     ]
    },
    {
     "name": "stdout",
     "output_type": "stream",
     "text": [
      "\nEpoch 00115: val_loss did not improve from 0.18462\nEpoch 116/120\n"
     ]
    },
    {
     "name": "stdout",
     "output_type": "stream",
     "text": [
      "\r500/500 [==============================] - 3s 6ms/step - loss: 0.1854 - val_loss: 0.1905\n"
     ]
    },
    {
     "name": "stdout",
     "output_type": "stream",
     "text": [
      "\nEpoch 00116: val_loss did not improve from 0.18462\nEpoch 117/120\n"
     ]
    },
    {
     "name": "stdout",
     "output_type": "stream",
     "text": [
      "\r500/500 [==============================] - 3s 6ms/step - loss: 0.1902 - val_loss: 0.2106\n"
     ]
    },
    {
     "name": "stdout",
     "output_type": "stream",
     "text": [
      "\nEpoch 00117: val_loss did not improve from 0.18462\nEpoch 118/120\n"
     ]
    },
    {
     "name": "stdout",
     "output_type": "stream",
     "text": [
      "\r500/500 [==============================] - 3s 6ms/step - loss: 0.2096 - val_loss: 0.2247\n"
     ]
    },
    {
     "name": "stdout",
     "output_type": "stream",
     "text": [
      "\nEpoch 00118: val_loss did not improve from 0.18462\nEpoch 119/120\n"
     ]
    },
    {
     "name": "stdout",
     "output_type": "stream",
     "text": [
      "\r500/500 [==============================] - 3s 6ms/step - loss: 0.2252 - val_loss: 0.2177\n"
     ]
    },
    {
     "name": "stdout",
     "output_type": "stream",
     "text": [
      "\nEpoch 00119: val_loss did not improve from 0.18462\nEpoch 120/120\n"
     ]
    },
    {
     "name": "stdout",
     "output_type": "stream",
     "text": [
      "\r500/500 [==============================] - 3s 6ms/step - loss: 0.2137 - val_loss: 0.2053\n"
     ]
    },
    {
     "name": "stdout",
     "output_type": "stream",
     "text": [
      "\nEpoch 00120: val_loss did not improve from 0.18462\n"
     ]
    }
   ],
   "source": [
    "from keras.callbacks import ModelCheckpoint\n",
    "\n",
    "checkpointer = ModelCheckpoint(filepath=\"Models/Weights/weights.hdf5\", verbose=1,\n",
    "                               save_best_only=True)\n",
    "\n",
    "vae.fit(x=trainX_nominal, epochs=120, \n",
    "        batch_size=1024,\n",
    "        validation_data=(valX_nominal,None),\n",
    "        callbacks=[checkpointer])\n",
    "vae.load_weights('Models/Weights/weights.hdf5')\n",
    "\n",
    "# vae.save(\"Models/Conv1d_VAE_comp.h5\")"
   ]
  },
  {
   "cell_type": "code",
   "execution_count": 119,
   "metadata": {},
   "outputs": [],
   "source": [
    "import sys\n",
    "\n",
    "orig_stdout = sys.stdout\n",
    "f = open('Logs/out.txt', 'w')\n",
    "sys.stdout = f\n",
    "print(encoder.summary())\n",
    "print(decoder.summary())\n",
    "sys.stdout = orig_stdout\n",
    "f.close()\n"
   ]
  },
  {
   "cell_type": "code",
   "execution_count": 44,
   "metadata": {},
   "outputs": [],
   "source": [
    "\n",
    "nom_autoenc = vae.predict(trainX_nominal)\n",
    "\n",
    "autoenc_df = pd.DataFrame(nom_autoenc[0], columns=boat_csv.columns)\n",
    "\n",
    "plt.plot(boat_csv['Lon'][:1024], boat_csv['Lat'][:1024])\n",
    "plt.show()\n",
    "plt.plot(autoenc_df['Lon'], autoenc_df['Lat'])\n",
    "plt.show()\n",
    "\n",
    "\n",
    "\n"
   ]
  },
  {
   "cell_type": "code",
   "execution_count": 59,
   "metadata": {},
   "outputs": [
    {
     "name": "stdout",
     "output_type": "stream",
     "text": [
      "3 (500, 10)\n"
     ]
    }
   ],
   "source": [
    "nom_enc = encoder.predict(trainX_nominal)\n",
    "print(len(nom_enc), nom_enc[0].shape)"
   ]
  },
  {
   "cell_type": "code",
   "execution_count": 60,
   "metadata": {},
   "outputs": [
    {
     "name": "stdout",
     "output_type": "stream",
     "text": [
      "<class 'numpy.ndarray'> <class 'numpy.int64'>\n"
     ]
    }
   ],
   "source": [
    "from sklearn.decomposition import PCA\n",
    "\n",
    "labels = np.array(pd.read_csv(\"Data/Boat_nominal_data/Boat_mix_labels.csv\")['label']) \n",
    "nominals = np.squeeze(np.argwhere(labels==1))\n",
    "anomalous = np.squeeze(np.argwhere(labels==0))\n",
    "print(type(nominals), type(nominals[0]))\n",
    "\n"
   ]
  },
  {
   "cell_type": "code",
   "execution_count": 64,
   "metadata": {},
   "outputs": [],
   "source": [
    "\n",
    "\n",
    "scaler = StandardScaler()\n",
    "enc_input = scaler.fit_transform(nom_enc[1])\n",
    "pca = PCA(n_components=2)\n",
    "principalComponents = pca.fit_transform(enc_input)\n",
    "x_val = []\n",
    "y_val=[]\n",
    "for i in range(principalComponents.shape[0]):\n",
    "    x_val.append(principalComponents[i][0])\n",
    "    y_val.append(principalComponents[i][1])\n",
    "x_val = np.array(x_val)\n",
    "y_val = np.array(y_val)\n",
    "\n",
    "\n",
    "plt.scatter(x=x_val[nominals],y=y_val[nominals], alpha=0.5)\n",
    "plt.scatter(x=x_val[anomalous],y=y_val[anomalous], alpha=0.5)\n",
    "plt.show()\n",
    "\n"
   ]
  },
  {
   "cell_type": "code",
   "execution_count": 74,
   "metadata": {},
   "outputs": [],
   "source": [
    "\n",
    "from sklearn.manifold import TSNE\n",
    "\n",
    "def tsne(data, title):\n",
    "    tsne = TSNE(n_components=2, random_state=0)\n",
    "    \n",
    "    tsne_obj= tsne.fit_transform(data)\n",
    "    tsne_df = pd.DataFrame({'X':tsne_obj[:,0],\n",
    "                            'Y':tsne_obj[:,1],\n",
    "                            })\n",
    "    \n",
    "    plt.scatter(x=tsne_df[\"X\"][nominals],\n",
    "                y=tsne_df[\"Y\"][nominals], alpha=0.5)\n",
    "    plt.scatter(x=tsne_df[\"X\"][anomalous],\n",
    "                y=tsne_df[\"Y\"][anomalous], alpha=0.5)\n",
    "    plt.title(title)\n",
    "    plt.show()\n",
    "    \n",
    "    return tsne_df\n",
    "\n",
    "tsne_enc_nom_df = tsne(nom_enc[2], \"Decoded Nominal\")\n",
    "\n",
    "\n"
   ]
  },
  {
   "cell_type": "code",
   "execution_count": null,
   "metadata": {},
   "outputs": [],
   "source": []
  },
  {
   "cell_type": "code",
   "execution_count": null,
   "metadata": {},
   "outputs": [],
   "source": [
    ""
   ]
  },
  {
   "cell_type": "code",
   "execution_count": null,
   "metadata": {},
   "outputs": [],
   "source": []
  }
 ],
 "metadata": {
  "kernelspec": {
   "display_name": "Python 2",
   "language": "python",
   "name": "python2"
  },
  "language_info": {
   "codemirror_mode": {
    "name": "ipython",
    "version": 2
   },
   "file_extension": ".py",
   "mimetype": "text/x-python",
   "name": "python",
   "nbconvert_exporter": "python",
   "pygments_lexer": "ipython2",
   "version": "2.7.6"
  }
 },
 "nbformat": 4,
 "nbformat_minor": 0
}
