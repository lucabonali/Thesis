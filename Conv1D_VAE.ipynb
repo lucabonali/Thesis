{
 "cells": [
  {
   "cell_type": "code",
   "execution_count": 147,
   "metadata": {
    "collapsed": true
   },
   "outputs": [
    {
     "name": "stdout",
     "output_type": "stream",
     "text": [
      "(308224, 4)\n"
     ]
    },
    {
     "name": "stdout",
     "output_type": "stream",
     "text": [
      "(72600, 8)\n(13200, 8)\n(300, 1024, 4)\n(10, 1024, 4)\n"
     ]
    }
   ],
   "source": [
    "import pandas as pd\n",
    "from sklearn.preprocessing import StandardScaler\n",
    "import matplotlib.pyplot as plt\n",
    "import numpy as np\n",
    "from scipy.stats import norm\n",
    "from keras.layers import Input, Dense, Lambda, Flatten, Reshape\n",
    "from keras.layers import Conv1D,UpSampling1D\n",
    "from keras.models import Model\n",
    "from keras import backend as K\n",
    "from keras import metrics\n",
    "\n",
    "# Setup the network parameters:\n",
    "beta = 4\n",
    "n_features = 4\n",
    "boat_csv = pd.read_csv(\"Data/Boat_nominal_data/Boat_nominal_sequences.csv\")\n",
    "boat_csv = boat_csv.drop(columns=[\"Unnamed: 0\",\"Speed\",\"Acceleration\",\"M0C\",\"M1C\"])\n",
    "scaler = StandardScaler()\n",
    "normal_data = scaler.fit_transform(boat_csv)\n",
    "print(normal_data.shape)\n",
    "\n",
    "boat_val = pd.read_csv(\"Data/Boat_nominal_data/Boat_nom_validation.csv\")\n",
    "boat_val = boat_val.drop(columns=[\"Unnamed: 0\",\"Speed\",\"Acceleration\",\"M0C\",\"M1C\"])\n",
    "scaler = StandardScaler()\n",
    "val_nom_data = scaler.fit_transform(boat_val)\n",
    "\n",
    "\n",
    "boat_anom_csv = pd.read_csv(\"Data/Boat_anomalous_big.csv\")\n",
    "boat_anom_csv= boat_anom_csv.drop(columns=[\"Unnamed: 0\"])    \n",
    "scaler = StandardScaler()\n",
    "anomalous_data = scaler.fit_transform(boat_anom_csv)\n",
    "print(anomalous_data.shape)\n",
    "\n",
    "boat_anom_val_csv = pd.read_csv(\"Data/Boat_anomalous_validation.csv\")\n",
    "boat_anom_val_csv= boat_anom_val_csv.drop(columns=[\"Unnamed: 0\"])    \n",
    "scaler = StandardScaler()\n",
    "anomalous_val_data = scaler.fit_transform(boat_anom_val_csv)\n",
    "print(anomalous_val_data.shape)\n",
    "\n",
    "def prepare_sequences(data, batch_size):\n",
    "    samples = []\n",
    "    for i in range(0,data.shape[0]- batch_size, batch_size):\n",
    "        sample = data[i:i+batch_size]\t\n",
    "        samples.append(sample)\n",
    "\n",
    "    sequences = np.array(samples)\n",
    "\n",
    "    # Batch size (Number of samples time steps and number of features\n",
    "    trainX = np.reshape(sequences, (len(sequences), batch_size, n_features))\n",
    "\n",
    "    return trainX\n",
    "\n",
    "\n",
    "def prepare_data():    \n",
    "    trainX_nominal = prepare_sequences(normal_data,1024) \n",
    "    print(trainX_nominal.shape)\n",
    "    \n",
    "    valX_nominal = prepare_sequences(val_nom_data,1024)\n",
    "    print(valX_nominal.shape)\n",
    "    \n",
    "    # trainX_anomalous = prepare_sequences(anomalous_data,6600)\n",
    "    # print(trainX_anomalous.shape)  \n",
    "    # \n",
    "    # valX_anom = prepare_sequences(anomalous_val_data,6600)\n",
    "    # print(valX_anom.shape)\n",
    "\n",
    "    return trainX_nominal, valX_nominal#, trainX_anomalous, valX_anom\n",
    "\n",
    "\n",
    "\n",
    "trainX_nominal, valX_nominal = prepare_data()\n"
   ]
  },
  {
   "cell_type": "code",
   "execution_count": 148,
   "metadata": {
    "collapsed": true
   },
   "outputs": [
    {
     "name": "stdout",
     "output_type": "stream",
     "text": [
      "__________________________________________________________________________________________________\nLayer (type)                    Output Shape         Param #     Connected to                     \n==================================================================================================\nencoder_input (InputLayer)      (None, 1024, 4)      0                                            \n__________________________________________________________________________________________________\nconv1d_301 (Conv1D)             (None, 1024, 64)     1856        encoder_input[0][0]              \n__________________________________________________________________________________________________\nmax_pooling1d_135 (MaxPooling1D (None, 512, 64)      0           conv1d_301[0][0]                 \n__________________________________________________________________________________________________\nconv1d_302 (Conv1D)             (None, 512, 32)      14368       max_pooling1d_135[0][0]          \n__________________________________________________________________________________________________\nmax_pooling1d_136 (MaxPooling1D (None, 256, 32)      0           conv1d_302[0][0]                 \n__________________________________________________________________________________________________\nconv1d_303 (Conv1D)             (None, 256, 16)      3600        max_pooling1d_136[0][0]          \n__________________________________________________________________________________________________\nmax_pooling1d_137 (MaxPooling1D (None, 128, 16)      0           conv1d_303[0][0]                 \n__________________________________________________________________________________________________\nconv1d_304 (Conv1D)             (None, 128, 8)       904         max_pooling1d_137[0][0]          \n__________________________________________________________________________________________________\nmax_pooling1d_138 (MaxPooling1D (None, 64, 8)        0           conv1d_304[0][0]                 \n__________________________________________________________________________________________________\nflatten_33 (Flatten)            (None, 512)          0           max_pooling1d_138[0][0]          \n__________________________________________________________________________________________________\nz_mean (Dense)                  (None, 4)            2052        flatten_33[0][0]                 \n__________________________________________________________________________________________________\nz_log_var (Dense)               (None, 4)            2052        flatten_33[0][0]                 \n__________________________________________________________________________________________________\nz (Lambda)                      (None, 4)            0           z_mean[0][0]                     \n                                                                 z_log_var[0][0]                  \n==================================================================================================\nTotal params: 24,832\nTrainable params: 24,832\nNon-trainable params: 0\n__________________________________________________________________________________________________\n"
     ]
    },
    {
     "name": "stdout",
     "output_type": "stream",
     "text": [
      "_________________________________________________________________\nLayer (type)                 Output Shape              Param #   \n=================================================================\nz_sampling (InputLayer)      (None, 4)                 0         \n_________________________________________________________________\nDense_after_sampling (Dense) (None, 512)               2560      \n_________________________________________________________________\nreshape_33 (Reshape)         (None, 64, 8)             0         \n_________________________________________________________________\nconv1d_305 (Conv1D)          (None, 64, 8)             456       \n_________________________________________________________________\nup_sampling1d_135 (UpSamplin (None, 128, 8)            0         \n_________________________________________________________________\nconv1d_306 (Conv1D)          (None, 128, 16)           912       \n_________________________________________________________________\nup_sampling1d_136 (UpSamplin (None, 256, 16)           0         \n_________________________________________________________________\nconv1d_307 (Conv1D)          (None, 256, 32)           3616      \n_________________________________________________________________\nup_sampling1d_137 (UpSamplin (None, 512, 32)           0         \n_________________________________________________________________\nconv1d_308 (Conv1D)          (None, 512, 64)           14400     \n_________________________________________________________________\nup_sampling1d_138 (UpSamplin (None, 1024, 64)          0         \n_________________________________________________________________\nconv1d_309 (Conv1D)          (None, 1024, 4)           1796      \n=================================================================\nTotal params: 23,740\nTrainable params: 23,740\nNon-trainable params: 0\n_________________________________________________________________\n"
     ]
    }
   ],
   "source": [
    "from keras import objectives\n",
    "from keras.layers import RepeatVector, MaxPooling1D\n",
    "\n",
    "input_shape = (1024, n_features)\n",
    "kernel_size = 7\n",
    "filters = 64\n",
    "latent_dim = 4\n",
    "epochs = 30\n",
    "use_mse = True\n",
    "load_weights = False\n",
    "\n",
    "\n",
    "def sampling(args):\n",
    "    z_mean, z_log_var = args\n",
    "    batch = K.shape(z_mean)[0]\n",
    "    dim = K.int_shape(z_mean)[1]\n",
    "    epsilon = K.random_normal(shape=(batch, dim))\n",
    "    return z_mean + K.exp(0.5 * z_log_var) * epsilon\n",
    "\n",
    "\n",
    "inputs = Input(shape=input_shape, name='encoder_input')\n",
    "x = inputs\n",
    "for i in range(4):\n",
    "    x = Conv1D(filters=filters,\n",
    "               kernel_size=7,\n",
    "               padding='same')(x)\n",
    "    x = MaxPooling1D(2)(x)\n",
    "    filters = int(filters / 2)\n",
    "\n",
    "\n",
    "shape = K.int_shape(x)\n",
    "\n",
    "x = Flatten()(x)\n",
    "z_mean = Dense(latent_dim, name='z_mean')(x)\n",
    "z_log_var = Dense(latent_dim, name='z_log_var')(x)\n",
    "\n",
    "z = Lambda(sampling, output_shape=(latent_dim,), name='z')([z_mean, z_log_var])\n",
    "\n",
    "encoder = Model(inputs, [z_mean, z_log_var, z], name='encoder')\n",
    "encoder.summary()\n",
    "\n",
    "latent_inputs = Input(shape=(latent_dim,), name='z_sampling')\n",
    "x = Dense(shape[1] * shape[2], name='Dense_after_sampling')(latent_inputs)\n",
    "x = Reshape((shape[1], shape[2]))(x)\n",
    "filters = filters * 2\n",
    "\n",
    "for i in range(4):\n",
    "    x = Conv1D(filters=filters,kernel_size=7, padding='same')(x)\n",
    "    x = UpSampling1D(size=2)(x)\n",
    "    filters = filters * 2\n",
    "    \n",
    "    \n",
    "outputs = Conv1D(filters=n_features, kernel_size=7, padding='same')(x)\n",
    "\n",
    "\n",
    "decoder = Model(latent_inputs, outputs, name='decoder')\n",
    "decoder.summary()\n",
    "\n",
    "outputs = decoder(encoder(inputs)[2])\n",
    "vae = Model(inputs, outputs, name='vae')\n",
    "\n",
    "from keras.losses import mse\n",
    "\n",
    "reconstruction_loss = mse(K.flatten(inputs), K.flatten(outputs))\n",
    "kl_loss = - 0.5 * K.mean(1 + z_log_var - K.square(z_mean) - K.exp(z_log_var))\n",
    "loss = reconstruction_loss + beta*kl_loss\n",
    "vae.add_loss(loss)\n",
    "\n",
    "vae.compile(optimizer='rmsprop', metrics= ['accuracy'])\n"
   ]
  },
  {
   "cell_type": "code",
   "execution_count": 149,
   "metadata": {
    "collapsed": true
   },
   "outputs": [
    {
     "name": "stdout",
     "output_type": "stream",
     "text": [
      "Train on 300 samples, validate on 10 samples\nEpoch 1/100\n"
     ]
    },
    {
     "name": "stdout",
     "output_type": "stream",
     "text": [
      "\r300/300 [==============================] - 20s 66ms/step - loss: 1.4620 - val_loss: 21.6330\n"
     ]
    },
    {
     "name": "stdout",
     "output_type": "stream",
     "text": [
      "\nEpoch 00001: val_loss improved from inf to 21.63301, saving model to Models/Weights/weights.hdf5\n"
     ]
    },
    {
     "name": "stdout",
     "output_type": "stream",
     "text": [
      "Epoch 2/100\n"
     ]
    },
    {
     "name": "stdout",
     "output_type": "stream",
     "text": [
      "\r300/300 [==============================] - 2s 6ms/step - loss: 21.6570 - val_loss: 4.0090\n"
     ]
    },
    {
     "name": "stdout",
     "output_type": "stream",
     "text": [
      "\nEpoch 00002: val_loss improved from 21.63301 to 4.00896, saving model to Models/Weights/weights.hdf5\nEpoch 3/100\n"
     ]
    },
    {
     "name": "stdout",
     "output_type": "stream",
     "text": [
      "\r300/300 [==============================] - 2s 6ms/step - loss: 3.9996 - val_loss: 2.5806\n"
     ]
    },
    {
     "name": "stdout",
     "output_type": "stream",
     "text": [
      "\nEpoch 00003: val_loss improved from 4.00896 to 2.58061, saving model to Models/Weights/weights.hdf5\nEpoch 4/100\n"
     ]
    },
    {
     "name": "stdout",
     "output_type": "stream",
     "text": [
      "\r300/300 [==============================] - 2s 7ms/step - loss: 2.5859 - val_loss: 1.5346\n"
     ]
    },
    {
     "name": "stdout",
     "output_type": "stream",
     "text": [
      "\nEpoch 00004: val_loss improved from 2.58061 to 1.53457, saving model to Models/Weights/weights.hdf5\nEpoch 5/100\n"
     ]
    },
    {
     "name": "stdout",
     "output_type": "stream",
     "text": [
      "\r300/300 [==============================] - 2s 7ms/step - loss: 1.5231 - val_loss: 1.2004\n"
     ]
    },
    {
     "name": "stdout",
     "output_type": "stream",
     "text": [
      "\nEpoch 00005: val_loss improved from 1.53457 to 1.20044, saving model to Models/Weights/weights.hdf5\nEpoch 6/100\n"
     ]
    },
    {
     "name": "stdout",
     "output_type": "stream",
     "text": [
      "\r300/300 [==============================] - 2s 6ms/step - loss: 1.1948 - val_loss: 1.1189\n"
     ]
    },
    {
     "name": "stdout",
     "output_type": "stream",
     "text": [
      "\nEpoch 00006: val_loss improved from 1.20044 to 1.11885, saving model to Models/Weights/weights.hdf5\nEpoch 7/100\n"
     ]
    },
    {
     "name": "stdout",
     "output_type": "stream",
     "text": [
      "\r300/300 [==============================] - 2s 6ms/step - loss: 1.1136 - val_loss: 1.0732\n"
     ]
    },
    {
     "name": "stdout",
     "output_type": "stream",
     "text": [
      "\nEpoch 00007: val_loss improved from 1.11885 to 1.07319, saving model to Models/Weights/weights.hdf5\nEpoch 8/100\n"
     ]
    },
    {
     "name": "stdout",
     "output_type": "stream",
     "text": [
      "\r300/300 [==============================] - 2s 7ms/step - loss: 1.0697 - val_loss: 1.0472\n"
     ]
    },
    {
     "name": "stdout",
     "output_type": "stream",
     "text": [
      "\nEpoch 00008: val_loss improved from 1.07319 to 1.04721, saving model to Models/Weights/weights.hdf5\nEpoch 9/100\n"
     ]
    },
    {
     "name": "stdout",
     "output_type": "stream",
     "text": [
      "\r300/300 [==============================] - 2s 6ms/step - loss: 1.0442 - val_loss: 1.0289\n"
     ]
    },
    {
     "name": "stdout",
     "output_type": "stream",
     "text": [
      "\nEpoch 00009: val_loss improved from 1.04721 to 1.02893, saving model to Models/Weights/weights.hdf5\nEpoch 10/100\n"
     ]
    },
    {
     "name": "stdout",
     "output_type": "stream",
     "text": [
      "\r300/300 [==============================] - 2s 7ms/step - loss: 1.0285 - val_loss: 1.0204\n"
     ]
    },
    {
     "name": "stdout",
     "output_type": "stream",
     "text": [
      "\nEpoch 00010: val_loss improved from 1.02893 to 1.02042, saving model to Models/Weights/weights.hdf5\nEpoch 11/100\n"
     ]
    },
    {
     "name": "stdout",
     "output_type": "stream",
     "text": [
      "\r300/300 [==============================] - 2s 7ms/step - loss: 1.0173 - val_loss: 1.0093\n"
     ]
    },
    {
     "name": "stdout",
     "output_type": "stream",
     "text": [
      "\nEpoch 00011: val_loss improved from 1.02042 to 1.00931, saving model to Models/Weights/weights.hdf5\nEpoch 12/100\n"
     ]
    },
    {
     "name": "stdout",
     "output_type": "stream",
     "text": [
      "\r300/300 [==============================] - 2s 6ms/step - loss: 1.0094 - val_loss: 1.0038\n"
     ]
    },
    {
     "name": "stdout",
     "output_type": "stream",
     "text": [
      "\nEpoch 00012: val_loss improved from 1.00931 to 1.00382, saving model to Models/Weights/weights.hdf5\nEpoch 13/100\n"
     ]
    },
    {
     "name": "stdout",
     "output_type": "stream",
     "text": [
      "\r300/300 [==============================] - 2s 7ms/step - loss: 1.0017 - val_loss: 0.9803\n"
     ]
    },
    {
     "name": "stdout",
     "output_type": "stream",
     "text": [
      "\nEpoch 00013: val_loss improved from 1.00382 to 0.98030, saving model to Models/Weights/weights.hdf5\nEpoch 14/100\n"
     ]
    },
    {
     "name": "stdout",
     "output_type": "stream",
     "text": [
      "\r300/300 [==============================] - 2s 7ms/step - loss: 0.9952 - val_loss: 1.0144\n"
     ]
    },
    {
     "name": "stdout",
     "output_type": "stream",
     "text": [
      "\nEpoch 00014: val_loss did not improve from 0.98030\nEpoch 15/100\n"
     ]
    },
    {
     "name": "stdout",
     "output_type": "stream",
     "text": [
      "\r300/300 [==============================] - 2s 7ms/step - loss: 0.9892 - val_loss: 1.0229\n"
     ]
    },
    {
     "name": "stdout",
     "output_type": "stream",
     "text": [
      "\nEpoch 00015: val_loss did not improve from 0.98030\nEpoch 16/100\n"
     ]
    },
    {
     "name": "stdout",
     "output_type": "stream",
     "text": [
      "\r300/300 [==============================] - 2s 7ms/step - loss: 1.0107 - val_loss: 1.0591\n"
     ]
    },
    {
     "name": "stdout",
     "output_type": "stream",
     "text": [
      "\nEpoch 00016: val_loss did not improve from 0.98030\nEpoch 17/100\n"
     ]
    },
    {
     "name": "stdout",
     "output_type": "stream",
     "text": [
      "\r300/300 [==============================] - 2s 6ms/step - loss: 1.0331 - val_loss: 1.0194\n"
     ]
    },
    {
     "name": "stdout",
     "output_type": "stream",
     "text": [
      "\nEpoch 00017: val_loss did not improve from 0.98030\nEpoch 18/100\n"
     ]
    },
    {
     "name": "stdout",
     "output_type": "stream",
     "text": [
      "\r300/300 [==============================] - 2s 6ms/step - loss: 1.0378 - val_loss: 0.9707\n"
     ]
    },
    {
     "name": "stdout",
     "output_type": "stream",
     "text": [
      "\nEpoch 00018: val_loss improved from 0.98030 to 0.97072, saving model to Models/Weights/weights.hdf5\nEpoch 19/100\n"
     ]
    },
    {
     "name": "stdout",
     "output_type": "stream",
     "text": [
      "\r300/300 [==============================] - 2s 7ms/step - loss: 0.9349 - val_loss: 0.7533\n"
     ]
    },
    {
     "name": "stdout",
     "output_type": "stream",
     "text": [
      "\nEpoch 00019: val_loss improved from 0.97072 to 0.75332, saving model to Models/Weights/weights.hdf5\nEpoch 20/100\n"
     ]
    },
    {
     "name": "stdout",
     "output_type": "stream",
     "text": [
      "\r300/300 [==============================] - 2s 6ms/step - loss: 0.7796 - val_loss: 0.6270\n"
     ]
    },
    {
     "name": "stdout",
     "output_type": "stream",
     "text": [
      "\nEpoch 00020: val_loss improved from 0.75332 to 0.62703, saving model to Models/Weights/weights.hdf5\nEpoch 21/100\n"
     ]
    },
    {
     "name": "stdout",
     "output_type": "stream",
     "text": [
      "\r300/300 [==============================] - 2s 6ms/step - loss: 0.6424 - val_loss: 0.5345\n"
     ]
    },
    {
     "name": "stdout",
     "output_type": "stream",
     "text": [
      "\nEpoch 00021: val_loss improved from 0.62703 to 0.53445, saving model to Models/Weights/weights.hdf5\nEpoch 22/100\n"
     ]
    },
    {
     "name": "stdout",
     "output_type": "stream",
     "text": [
      "\r300/300 [==============================] - 2s 7ms/step - loss: 0.5281 - val_loss: 0.5118\n"
     ]
    },
    {
     "name": "stdout",
     "output_type": "stream",
     "text": [
      "\nEpoch 00022: val_loss improved from 0.53445 to 0.51178, saving model to Models/Weights/weights.hdf5\nEpoch 23/100\n"
     ]
    },
    {
     "name": "stdout",
     "output_type": "stream",
     "text": [
      "\r300/300 [==============================] - 2s 6ms/step - loss: 0.4577 - val_loss: 0.4397\n"
     ]
    },
    {
     "name": "stdout",
     "output_type": "stream",
     "text": [
      "\nEpoch 00023: val_loss improved from 0.51178 to 0.43975, saving model to Models/Weights/weights.hdf5\nEpoch 24/100\n"
     ]
    },
    {
     "name": "stdout",
     "output_type": "stream",
     "text": [
      "\r300/300 [==============================] - 2s 7ms/step - loss: 0.4289 - val_loss: 0.4099\n"
     ]
    },
    {
     "name": "stdout",
     "output_type": "stream",
     "text": [
      "\nEpoch 00024: val_loss improved from 0.43975 to 0.40987, saving model to Models/Weights/weights.hdf5\nEpoch 25/100\n"
     ]
    },
    {
     "name": "stdout",
     "output_type": "stream",
     "text": [
      "\r300/300 [==============================] - 2s 6ms/step - loss: 0.4079 - val_loss: 0.4028\n"
     ]
    },
    {
     "name": "stdout",
     "output_type": "stream",
     "text": [
      "\nEpoch 00025: val_loss improved from 0.40987 to 0.40278, saving model to Models/Weights/weights.hdf5\nEpoch 26/100\n"
     ]
    },
    {
     "name": "stdout",
     "output_type": "stream",
     "text": [
      "\r300/300 [==============================] - 2s 7ms/step - loss: 0.4254 - val_loss: 0.4793\n"
     ]
    },
    {
     "name": "stdout",
     "output_type": "stream",
     "text": [
      "\nEpoch 00026: val_loss did not improve from 0.40278\nEpoch 27/100\n"
     ]
    },
    {
     "name": "stdout",
     "output_type": "stream",
     "text": [
      "\r300/300 [==============================] - 2s 7ms/step - loss: 0.4781 - val_loss: 0.5694\n"
     ]
    },
    {
     "name": "stdout",
     "output_type": "stream",
     "text": [
      "\nEpoch 00027: val_loss did not improve from 0.40278\nEpoch 28/100\n"
     ]
    },
    {
     "name": "stdout",
     "output_type": "stream",
     "text": [
      "\r300/300 [==============================] - 2s 6ms/step - loss: 0.5801 - val_loss: 0.6356\n"
     ]
    },
    {
     "name": "stdout",
     "output_type": "stream",
     "text": [
      "\nEpoch 00028: val_loss did not improve from 0.40278\nEpoch 29/100\n"
     ]
    },
    {
     "name": "stdout",
     "output_type": "stream",
     "text": [
      "\r300/300 [==============================] - 2s 6ms/step - loss: 0.6254 - val_loss: 0.5067\n"
     ]
    },
    {
     "name": "stdout",
     "output_type": "stream",
     "text": [
      "\nEpoch 00029: val_loss did not improve from 0.40278\nEpoch 30/100\n"
     ]
    },
    {
     "name": "stdout",
     "output_type": "stream",
     "text": [
      "\r300/300 [==============================] - 2s 6ms/step - loss: 0.5475 - val_loss: 0.4004\n"
     ]
    },
    {
     "name": "stdout",
     "output_type": "stream",
     "text": [
      "\nEpoch 00030: val_loss improved from 0.40278 to 0.40036, saving model to Models/Weights/weights.hdf5\nEpoch 31/100\n"
     ]
    },
    {
     "name": "stdout",
     "output_type": "stream",
     "text": [
      "\r300/300 [==============================] - 2s 6ms/step - loss: 0.3976 - val_loss: 0.3454\n"
     ]
    },
    {
     "name": "stdout",
     "output_type": "stream",
     "text": [
      "\nEpoch 00031: val_loss improved from 0.40036 to 0.34542, saving model to Models/Weights/weights.hdf5\nEpoch 32/100\n"
     ]
    },
    {
     "name": "stdout",
     "output_type": "stream",
     "text": [
      "\r300/300 [==============================] - 2s 6ms/step - loss: 0.3444 - val_loss: 0.3261\n"
     ]
    },
    {
     "name": "stdout",
     "output_type": "stream",
     "text": [
      "\nEpoch 00032: val_loss improved from 0.34542 to 0.32613, saving model to Models/Weights/weights.hdf5\nEpoch 33/100\n"
     ]
    },
    {
     "name": "stdout",
     "output_type": "stream",
     "text": [
      "\r300/300 [==============================] - 2s 7ms/step - loss: 0.3335 - val_loss: 0.3490\n"
     ]
    },
    {
     "name": "stdout",
     "output_type": "stream",
     "text": [
      "\nEpoch 00033: val_loss did not improve from 0.32613\nEpoch 34/100\n"
     ]
    },
    {
     "name": "stdout",
     "output_type": "stream",
     "text": [
      "\r300/300 [==============================] - 2s 6ms/step - loss: 0.3483 - val_loss: 0.3455\n"
     ]
    },
    {
     "name": "stdout",
     "output_type": "stream",
     "text": [
      "\nEpoch 00034: val_loss did not improve from 0.32613\nEpoch 35/100\n"
     ]
    },
    {
     "name": "stdout",
     "output_type": "stream",
     "text": [
      "\r300/300 [==============================] - 2s 6ms/step - loss: 0.3572 - val_loss: 0.3859\n"
     ]
    },
    {
     "name": "stdout",
     "output_type": "stream",
     "text": [
      "\nEpoch 00035: val_loss did not improve from 0.32613\nEpoch 36/100\n"
     ]
    },
    {
     "name": "stdout",
     "output_type": "stream",
     "text": [
      "\r300/300 [==============================] - 2s 7ms/step - loss: 0.3725 - val_loss: 0.3911\n"
     ]
    },
    {
     "name": "stdout",
     "output_type": "stream",
     "text": [
      "\nEpoch 00036: val_loss did not improve from 0.32613\nEpoch 37/100\n"
     ]
    },
    {
     "name": "stdout",
     "output_type": "stream",
     "text": [
      "\r300/300 [==============================] - 2s 6ms/step - loss: 0.3784 - val_loss: 0.3833\n"
     ]
    },
    {
     "name": "stdout",
     "output_type": "stream",
     "text": [
      "\nEpoch 00037: val_loss did not improve from 0.32613\nEpoch 38/100\n"
     ]
    },
    {
     "name": "stdout",
     "output_type": "stream",
     "text": [
      "\r300/300 [==============================] - 2s 7ms/step - loss: 0.3829 - val_loss: 0.3963\n"
     ]
    },
    {
     "name": "stdout",
     "output_type": "stream",
     "text": [
      "\nEpoch 00038: val_loss did not improve from 0.32613\nEpoch 39/100\n"
     ]
    },
    {
     "name": "stdout",
     "output_type": "stream",
     "text": [
      "\r300/300 [==============================] - 2s 6ms/step - loss: 0.3972 - val_loss: 0.4053\n"
     ]
    },
    {
     "name": "stdout",
     "output_type": "stream",
     "text": [
      "\nEpoch 00039: val_loss did not improve from 0.32613\nEpoch 40/100\n"
     ]
    },
    {
     "name": "stdout",
     "output_type": "stream",
     "text": [
      "\r300/300 [==============================] - 2s 7ms/step - loss: 0.4175 - val_loss: 0.4332\n"
     ]
    },
    {
     "name": "stdout",
     "output_type": "stream",
     "text": [
      "\nEpoch 00040: val_loss did not improve from 0.32613\nEpoch 41/100\n"
     ]
    },
    {
     "name": "stdout",
     "output_type": "stream",
     "text": [
      "\r300/300 [==============================] - 2s 6ms/step - loss: 0.4298 - val_loss: 0.4028\n"
     ]
    },
    {
     "name": "stdout",
     "output_type": "stream",
     "text": [
      "\nEpoch 00041: val_loss did not improve from 0.32613\nEpoch 42/100\n"
     ]
    },
    {
     "name": "stdout",
     "output_type": "stream",
     "text": [
      "\r300/300 [==============================] - 2s 7ms/step - loss: 0.4046 - val_loss: 0.3291\n"
     ]
    },
    {
     "name": "stdout",
     "output_type": "stream",
     "text": [
      "\nEpoch 00042: val_loss did not improve from 0.32613\nEpoch 43/100\n"
     ]
    },
    {
     "name": "stdout",
     "output_type": "stream",
     "text": [
      "\r300/300 [==============================] - 2s 6ms/step - loss: 0.3223 - val_loss: 0.2802\n"
     ]
    },
    {
     "name": "stdout",
     "output_type": "stream",
     "text": [
      "\nEpoch 00043: val_loss improved from 0.32613 to 0.28016, saving model to Models/Weights/weights.hdf5\nEpoch 44/100\n"
     ]
    },
    {
     "name": "stdout",
     "output_type": "stream",
     "text": [
      "\r300/300 [==============================] - 2s 6ms/step - loss: 0.2861 - val_loss: 0.2621\n"
     ]
    },
    {
     "name": "stdout",
     "output_type": "stream",
     "text": [
      "\nEpoch 00044: val_loss improved from 0.28016 to 0.26208, saving model to Models/Weights/weights.hdf5\nEpoch 45/100\n"
     ]
    },
    {
     "name": "stdout",
     "output_type": "stream",
     "text": [
      "\r300/300 [==============================] - 2s 6ms/step - loss: 0.2628 - val_loss: 0.2620\n"
     ]
    },
    {
     "name": "stdout",
     "output_type": "stream",
     "text": [
      "\nEpoch 00045: val_loss improved from 0.26208 to 0.26198, saving model to Models/Weights/weights.hdf5\nEpoch 46/100\n"
     ]
    },
    {
     "name": "stdout",
     "output_type": "stream",
     "text": [
      "\r300/300 [==============================] - 2s 6ms/step - loss: 0.2687 - val_loss: 0.2559\n"
     ]
    },
    {
     "name": "stdout",
     "output_type": "stream",
     "text": [
      "\nEpoch 00046: val_loss improved from 0.26198 to 0.25592, saving model to Models/Weights/weights.hdf5\nEpoch 47/100\n"
     ]
    },
    {
     "name": "stdout",
     "output_type": "stream",
     "text": [
      "\r300/300 [==============================] - 2s 7ms/step - loss: 0.2484 - val_loss: 0.2666\n"
     ]
    },
    {
     "name": "stdout",
     "output_type": "stream",
     "text": [
      "\nEpoch 00047: val_loss did not improve from 0.25592\nEpoch 48/100\n"
     ]
    },
    {
     "name": "stdout",
     "output_type": "stream",
     "text": [
      "\r300/300 [==============================] - 2s 7ms/step - loss: 0.2619 - val_loss: 0.2920\n"
     ]
    },
    {
     "name": "stdout",
     "output_type": "stream",
     "text": [
      "\nEpoch 00048: val_loss did not improve from 0.25592\nEpoch 49/100\n"
     ]
    },
    {
     "name": "stdout",
     "output_type": "stream",
     "text": [
      "\r300/300 [==============================] - 2s 6ms/step - loss: 0.2969 - val_loss: 0.4115\n"
     ]
    },
    {
     "name": "stdout",
     "output_type": "stream",
     "text": [
      "\nEpoch 00049: val_loss did not improve from 0.25592\nEpoch 50/100\n"
     ]
    },
    {
     "name": "stdout",
     "output_type": "stream",
     "text": [
      "\r300/300 [==============================] - 2s 6ms/step - loss: 0.4001 - val_loss: 0.4826\n"
     ]
    },
    {
     "name": "stdout",
     "output_type": "stream",
     "text": [
      "\nEpoch 00050: val_loss did not improve from 0.25592\nEpoch 51/100\n"
     ]
    },
    {
     "name": "stdout",
     "output_type": "stream",
     "text": [
      "\r300/300 [==============================] - 2s 7ms/step - loss: 0.4982 - val_loss: 0.4046\n"
     ]
    },
    {
     "name": "stdout",
     "output_type": "stream",
     "text": [
      "\nEpoch 00051: val_loss did not improve from 0.25592\nEpoch 52/100\n"
     ]
    },
    {
     "name": "stdout",
     "output_type": "stream",
     "text": [
      "\r300/300 [==============================] - 2s 8ms/step - loss: 0.3876 - val_loss: 0.2553\n"
     ]
    },
    {
     "name": "stdout",
     "output_type": "stream",
     "text": [
      "\nEpoch 00052: val_loss improved from 0.25592 to 0.25528, saving model to Models/Weights/weights.hdf5\nEpoch 53/100\n"
     ]
    },
    {
     "name": "stdout",
     "output_type": "stream",
     "text": [
      "\r300/300 [==============================] - 2s 7ms/step - loss: 0.2580 - val_loss: 0.2421\n"
     ]
    },
    {
     "name": "stdout",
     "output_type": "stream",
     "text": [
      "\nEpoch 00053: val_loss improved from 0.25528 to 0.24211, saving model to Models/Weights/weights.hdf5\nEpoch 54/100\n"
     ]
    },
    {
     "name": "stdout",
     "output_type": "stream",
     "text": [
      "\r300/300 [==============================] - 2s 7ms/step - loss: 0.2311 - val_loss: 0.2524\n"
     ]
    },
    {
     "name": "stdout",
     "output_type": "stream",
     "text": [
      "\nEpoch 00054: val_loss did not improve from 0.24211\nEpoch 55/100\n"
     ]
    },
    {
     "name": "stdout",
     "output_type": "stream",
     "text": [
      "\r300/300 [==============================] - 2s 6ms/step - loss: 0.2420 - val_loss: 0.2202\n"
     ]
    },
    {
     "name": "stdout",
     "output_type": "stream",
     "text": [
      "\nEpoch 00055: val_loss improved from 0.24211 to 0.22024, saving model to Models/Weights/weights.hdf5\nEpoch 56/100\n"
     ]
    },
    {
     "name": "stdout",
     "output_type": "stream",
     "text": [
      "\r300/300 [==============================] - 2s 7ms/step - loss: 0.2285 - val_loss: 0.2321\n"
     ]
    },
    {
     "name": "stdout",
     "output_type": "stream",
     "text": [
      "\nEpoch 00056: val_loss did not improve from 0.22024\nEpoch 57/100\n"
     ]
    },
    {
     "name": "stdout",
     "output_type": "stream",
     "text": [
      "\r300/300 [==============================] - 2s 7ms/step - loss: 0.2293 - val_loss: 0.2592\n"
     ]
    },
    {
     "name": "stdout",
     "output_type": "stream",
     "text": [
      "\nEpoch 00057: val_loss did not improve from 0.22024\nEpoch 58/100\n"
     ]
    },
    {
     "name": "stdout",
     "output_type": "stream",
     "text": [
      "\r300/300 [==============================] - 2s 7ms/step - loss: 0.2517 - val_loss: 0.2755\n"
     ]
    },
    {
     "name": "stdout",
     "output_type": "stream",
     "text": [
      "\nEpoch 00058: val_loss did not improve from 0.22024\nEpoch 59/100\n"
     ]
    },
    {
     "name": "stdout",
     "output_type": "stream",
     "text": [
      "\r300/300 [==============================] - 2s 7ms/step - loss: 0.2696 - val_loss: 0.2370\n"
     ]
    },
    {
     "name": "stdout",
     "output_type": "stream",
     "text": [
      "\nEpoch 00059: val_loss did not improve from 0.22024\nEpoch 60/100\n"
     ]
    },
    {
     "name": "stdout",
     "output_type": "stream",
     "text": [
      "\r300/300 [==============================] - 2s 6ms/step - loss: 0.2439 - val_loss: 0.2105\n"
     ]
    },
    {
     "name": "stdout",
     "output_type": "stream",
     "text": [
      "\nEpoch 00060: val_loss improved from 0.22024 to 0.21053, saving model to Models/Weights/weights.hdf5\nEpoch 61/100\n"
     ]
    },
    {
     "name": "stdout",
     "output_type": "stream",
     "text": [
      "\r300/300 [==============================] - 2s 6ms/step - loss: 0.2083 - val_loss: 0.1953\n"
     ]
    },
    {
     "name": "stdout",
     "output_type": "stream",
     "text": [
      "\nEpoch 00061: val_loss improved from 0.21053 to 0.19530, saving model to Models/Weights/weights.hdf5\nEpoch 62/100\n"
     ]
    },
    {
     "name": "stdout",
     "output_type": "stream",
     "text": [
      "\r300/300 [==============================] - 2s 7ms/step - loss: 0.2007 - val_loss: 0.2294\n"
     ]
    },
    {
     "name": "stdout",
     "output_type": "stream",
     "text": [
      "\nEpoch 00062: val_loss did not improve from 0.19530\nEpoch 63/100\n"
     ]
    },
    {
     "name": "stdout",
     "output_type": "stream",
     "text": [
      "\r300/300 [==============================] - 2s 6ms/step - loss: 0.2311 - val_loss: 0.2649\n"
     ]
    },
    {
     "name": "stdout",
     "output_type": "stream",
     "text": [
      "\nEpoch 00063: val_loss did not improve from 0.19530\nEpoch 64/100\n"
     ]
    },
    {
     "name": "stdout",
     "output_type": "stream",
     "text": [
      "\r300/300 [==============================] - 2s 7ms/step - loss: 0.2739 - val_loss: 0.2472\n"
     ]
    },
    {
     "name": "stdout",
     "output_type": "stream",
     "text": [
      "\nEpoch 00064: val_loss did not improve from 0.19530\nEpoch 65/100\n"
     ]
    },
    {
     "name": "stdout",
     "output_type": "stream",
     "text": [
      "\r300/300 [==============================] - 2s 7ms/step - loss: 0.2452 - val_loss: 0.1940\n"
     ]
    },
    {
     "name": "stdout",
     "output_type": "stream",
     "text": [
      "\nEpoch 00065: val_loss improved from 0.19530 to 0.19400, saving model to Models/Weights/weights.hdf5\nEpoch 66/100\n"
     ]
    },
    {
     "name": "stdout",
     "output_type": "stream",
     "text": [
      "\r300/300 [==============================] - 2s 7ms/step - loss: 0.1916 - val_loss: 0.1768\n"
     ]
    },
    {
     "name": "stdout",
     "output_type": "stream",
     "text": [
      "\nEpoch 00066: val_loss improved from 0.19400 to 0.17678, saving model to Models/Weights/weights.hdf5\nEpoch 67/100\n"
     ]
    },
    {
     "name": "stdout",
     "output_type": "stream",
     "text": [
      "\r300/300 [==============================] - 2s 7ms/step - loss: 0.1719 - val_loss: 0.1950\n"
     ]
    },
    {
     "name": "stdout",
     "output_type": "stream",
     "text": [
      "\nEpoch 00067: val_loss did not improve from 0.17678\nEpoch 68/100\n"
     ]
    },
    {
     "name": "stdout",
     "output_type": "stream",
     "text": [
      "\r300/300 [==============================] - 2s 6ms/step - loss: 0.1958 - val_loss: 0.2637\n"
     ]
    },
    {
     "name": "stdout",
     "output_type": "stream",
     "text": [
      "\nEpoch 00068: val_loss did not improve from 0.17678\nEpoch 69/100\n"
     ]
    },
    {
     "name": "stdout",
     "output_type": "stream",
     "text": [
      "\r300/300 [==============================] - 2s 6ms/step - loss: 0.2665 - val_loss: 0.2825\n"
     ]
    },
    {
     "name": "stdout",
     "output_type": "stream",
     "text": [
      "\nEpoch 00069: val_loss did not improve from 0.17678\nEpoch 70/100\n"
     ]
    },
    {
     "name": "stdout",
     "output_type": "stream",
     "text": [
      "\r300/300 [==============================] - 2s 7ms/step - loss: 0.2874 - val_loss: 0.2334\n"
     ]
    },
    {
     "name": "stdout",
     "output_type": "stream",
     "text": [
      "\nEpoch 00070: val_loss did not improve from 0.17678\nEpoch 71/100\n"
     ]
    },
    {
     "name": "stdout",
     "output_type": "stream",
     "text": [
      "\r300/300 [==============================] - 2s 7ms/step - loss: 0.2336 - val_loss: 0.2013\n"
     ]
    },
    {
     "name": "stdout",
     "output_type": "stream",
     "text": [
      "\nEpoch 00071: val_loss did not improve from 0.17678\nEpoch 72/100\n"
     ]
    },
    {
     "name": "stdout",
     "output_type": "stream",
     "text": [
      "\r300/300 [==============================] - 2s 6ms/step - loss: 0.2017 - val_loss: 0.1915\n"
     ]
    },
    {
     "name": "stdout",
     "output_type": "stream",
     "text": [
      "\nEpoch 00072: val_loss did not improve from 0.17678\nEpoch 73/100\n"
     ]
    },
    {
     "name": "stdout",
     "output_type": "stream",
     "text": [
      "\r300/300 [==============================] - 2s 6ms/step - loss: 0.1915 - val_loss: 0.2029\n"
     ]
    },
    {
     "name": "stdout",
     "output_type": "stream",
     "text": [
      "\nEpoch 00073: val_loss did not improve from 0.17678\nEpoch 74/100\n"
     ]
    },
    {
     "name": "stdout",
     "output_type": "stream",
     "text": [
      "\r300/300 [==============================] - 2s 7ms/step - loss: 0.2003 - val_loss: 0.1666\n"
     ]
    },
    {
     "name": "stdout",
     "output_type": "stream",
     "text": [
      "\nEpoch 00074: val_loss improved from 0.17678 to 0.16663, saving model to Models/Weights/weights.hdf5\nEpoch 75/100\n"
     ]
    },
    {
     "name": "stdout",
     "output_type": "stream",
     "text": [
      "\r300/300 [==============================] - 2s 6ms/step - loss: 0.1697 - val_loss: 0.1951\n"
     ]
    },
    {
     "name": "stdout",
     "output_type": "stream",
     "text": [
      "\nEpoch 00075: val_loss did not improve from 0.16663\nEpoch 76/100\n"
     ]
    },
    {
     "name": "stdout",
     "output_type": "stream",
     "text": [
      "\r300/300 [==============================] - 2s 6ms/step - loss: 0.1875 - val_loss: 0.2125\n"
     ]
    },
    {
     "name": "stdout",
     "output_type": "stream",
     "text": [
      "\nEpoch 00076: val_loss did not improve from 0.16663\nEpoch 77/100\n"
     ]
    },
    {
     "name": "stdout",
     "output_type": "stream",
     "text": [
      "\r300/300 [==============================] - 2s 7ms/step - loss: 0.2170 - val_loss: 0.2639\n"
     ]
    },
    {
     "name": "stdout",
     "output_type": "stream",
     "text": [
      "\nEpoch 00077: val_loss did not improve from 0.16663\nEpoch 78/100\n"
     ]
    },
    {
     "name": "stdout",
     "output_type": "stream",
     "text": [
      "\r300/300 [==============================] - 2s 7ms/step - loss: 0.2597 - val_loss: 0.2067\n"
     ]
    },
    {
     "name": "stdout",
     "output_type": "stream",
     "text": [
      "\nEpoch 00078: val_loss did not improve from 0.16663\nEpoch 79/100\n"
     ]
    },
    {
     "name": "stdout",
     "output_type": "stream",
     "text": [
      "\r300/300 [==============================] - 2s 6ms/step - loss: 0.2120 - val_loss: 0.1736\n"
     ]
    },
    {
     "name": "stdout",
     "output_type": "stream",
     "text": [
      "\nEpoch 00079: val_loss did not improve from 0.16663\nEpoch 80/100\n"
     ]
    },
    {
     "name": "stdout",
     "output_type": "stream",
     "text": [
      "\r300/300 [==============================] - 2s 7ms/step - loss: 0.1747 - val_loss: 0.1632\n"
     ]
    },
    {
     "name": "stdout",
     "output_type": "stream",
     "text": [
      "\nEpoch 00080: val_loss improved from 0.16663 to 0.16318, saving model to Models/Weights/weights.hdf5\nEpoch 81/100\n"
     ]
    },
    {
     "name": "stdout",
     "output_type": "stream",
     "text": [
      "\r300/300 [==============================] - 2s 7ms/step - loss: 0.1662 - val_loss: 0.1887\n"
     ]
    },
    {
     "name": "stdout",
     "output_type": "stream",
     "text": [
      "\nEpoch 00081: val_loss did not improve from 0.16318\nEpoch 82/100\n"
     ]
    },
    {
     "name": "stdout",
     "output_type": "stream",
     "text": [
      "\r300/300 [==============================] - 2s 7ms/step - loss: 0.1945 - val_loss: 0.1989\n"
     ]
    },
    {
     "name": "stdout",
     "output_type": "stream",
     "text": [
      "\nEpoch 00082: val_loss did not improve from 0.16318\nEpoch 83/100\n"
     ]
    },
    {
     "name": "stdout",
     "output_type": "stream",
     "text": [
      "\r300/300 [==============================] - 2s 6ms/step - loss: 0.1982 - val_loss: 0.1774\n"
     ]
    },
    {
     "name": "stdout",
     "output_type": "stream",
     "text": [
      "\nEpoch 00083: val_loss did not improve from 0.16318\nEpoch 84/100\n"
     ]
    },
    {
     "name": "stdout",
     "output_type": "stream",
     "text": [
      "\r300/300 [==============================] - 2s 7ms/step - loss: 0.1828 - val_loss: 0.1638\n"
     ]
    },
    {
     "name": "stdout",
     "output_type": "stream",
     "text": [
      "\nEpoch 00084: val_loss did not improve from 0.16318\nEpoch 85/100\n"
     ]
    },
    {
     "name": "stdout",
     "output_type": "stream",
     "text": [
      "\r300/300 [==============================] - 2s 7ms/step - loss: 0.1626 - val_loss: 0.1565\n"
     ]
    },
    {
     "name": "stdout",
     "output_type": "stream",
     "text": [
      "\nEpoch 00085: val_loss improved from 0.16318 to 0.15653, saving model to Models/Weights/weights.hdf5\nEpoch 86/100\n"
     ]
    },
    {
     "name": "stdout",
     "output_type": "stream",
     "text": [
      "\r300/300 [==============================] - 2s 7ms/step - loss: 0.1550 - val_loss: 0.1521\n"
     ]
    },
    {
     "name": "stdout",
     "output_type": "stream",
     "text": [
      "\nEpoch 00086: val_loss improved from 0.15653 to 0.15210, saving model to Models/Weights/weights.hdf5\nEpoch 87/100\n"
     ]
    },
    {
     "name": "stdout",
     "output_type": "stream",
     "text": [
      "\r300/300 [==============================] - 2s 6ms/step - loss: 0.1539 - val_loss: 0.1461\n"
     ]
    },
    {
     "name": "stdout",
     "output_type": "stream",
     "text": [
      "\nEpoch 00087: val_loss improved from 0.15210 to 0.14606, saving model to Models/Weights/weights.hdf5\nEpoch 88/100\n"
     ]
    },
    {
     "name": "stdout",
     "output_type": "stream",
     "text": [
      "\r300/300 [==============================] - 2s 6ms/step - loss: 0.1477 - val_loss: 0.1411\n"
     ]
    },
    {
     "name": "stdout",
     "output_type": "stream",
     "text": [
      "\nEpoch 00088: val_loss improved from 0.14606 to 0.14114, saving model to Models/Weights/weights.hdf5\nEpoch 89/100\n"
     ]
    },
    {
     "name": "stdout",
     "output_type": "stream",
     "text": [
      "\r300/300 [==============================] - 2s 6ms/step - loss: 0.1433 - val_loss: 0.1399\n"
     ]
    },
    {
     "name": "stdout",
     "output_type": "stream",
     "text": [
      "\nEpoch 00089: val_loss improved from 0.14114 to 0.13987, saving model to Models/Weights/weights.hdf5\nEpoch 90/100\n"
     ]
    },
    {
     "name": "stdout",
     "output_type": "stream",
     "text": [
      "\r300/300 [==============================] - 2s 7ms/step - loss: 0.1401 - val_loss: 0.1456\n"
     ]
    },
    {
     "name": "stdout",
     "output_type": "stream",
     "text": [
      "\nEpoch 00090: val_loss did not improve from 0.13987\nEpoch 91/100\n"
     ]
    },
    {
     "name": "stdout",
     "output_type": "stream",
     "text": [
      "\r300/300 [==============================] - 2s 6ms/step - loss: 0.1446 - val_loss: 0.1556\n"
     ]
    },
    {
     "name": "stdout",
     "output_type": "stream",
     "text": [
      "\nEpoch 00091: val_loss did not improve from 0.13987\nEpoch 92/100\n"
     ]
    },
    {
     "name": "stdout",
     "output_type": "stream",
     "text": [
      "\r300/300 [==============================] - 2s 6ms/step - loss: 0.1535 - val_loss: 0.1782\n"
     ]
    },
    {
     "name": "stdout",
     "output_type": "stream",
     "text": [
      "\nEpoch 00092: val_loss did not improve from 0.13987\nEpoch 93/100\n"
     ]
    },
    {
     "name": "stdout",
     "output_type": "stream",
     "text": [
      "\r300/300 [==============================] - 2s 7ms/step - loss: 0.1775 - val_loss: 0.1831\n"
     ]
    },
    {
     "name": "stdout",
     "output_type": "stream",
     "text": [
      "\nEpoch 00093: val_loss did not improve from 0.13987\nEpoch 94/100\n"
     ]
    },
    {
     "name": "stdout",
     "output_type": "stream",
     "text": [
      "\r300/300 [==============================] - 2s 7ms/step - loss: 0.1798 - val_loss: 0.1839\n"
     ]
    },
    {
     "name": "stdout",
     "output_type": "stream",
     "text": [
      "\nEpoch 00094: val_loss did not improve from 0.13987\nEpoch 95/100\n"
     ]
    },
    {
     "name": "stdout",
     "output_type": "stream",
     "text": [
      "\r300/300 [==============================] - 2s 6ms/step - loss: 0.1845 - val_loss: 0.1911\n"
     ]
    },
    {
     "name": "stdout",
     "output_type": "stream",
     "text": [
      "\nEpoch 00095: val_loss did not improve from 0.13987\nEpoch 96/100\n"
     ]
    },
    {
     "name": "stdout",
     "output_type": "stream",
     "text": [
      "\r300/300 [==============================] - 2s 7ms/step - loss: 0.1937 - val_loss: 0.1876\n"
     ]
    },
    {
     "name": "stdout",
     "output_type": "stream",
     "text": [
      "\nEpoch 00096: val_loss did not improve from 0.13987\nEpoch 97/100\n"
     ]
    },
    {
     "name": "stdout",
     "output_type": "stream",
     "text": [
      "\r300/300 [==============================] - 2s 6ms/step - loss: 0.1871 - val_loss: 0.1787\n"
     ]
    },
    {
     "name": "stdout",
     "output_type": "stream",
     "text": [
      "\nEpoch 00097: val_loss did not improve from 0.13987\nEpoch 98/100\n"
     ]
    },
    {
     "name": "stdout",
     "output_type": "stream",
     "text": [
      "\r300/300 [==============================] - 2s 6ms/step - loss: 0.1730 - val_loss: 0.1770\n"
     ]
    },
    {
     "name": "stdout",
     "output_type": "stream",
     "text": [
      "\nEpoch 00098: val_loss did not improve from 0.13987\nEpoch 99/100\n"
     ]
    },
    {
     "name": "stdout",
     "output_type": "stream",
     "text": [
      "\r300/300 [==============================] - 2s 7ms/step - loss: 0.1738 - val_loss: 0.1801\n"
     ]
    },
    {
     "name": "stdout",
     "output_type": "stream",
     "text": [
      "\nEpoch 00099: val_loss did not improve from 0.13987\nEpoch 100/100\n"
     ]
    },
    {
     "name": "stdout",
     "output_type": "stream",
     "text": [
      "\r300/300 [==============================] - 2s 6ms/step - loss: 0.1807 - val_loss: 0.2173\n"
     ]
    },
    {
     "name": "stdout",
     "output_type": "stream",
     "text": [
      "\nEpoch 00100: val_loss did not improve from 0.13987\n"
     ]
    }
   ],
   "source": [
    "from keras.callbacks import ModelCheckpoint\n",
    "\n",
    "checkpointer = ModelCheckpoint(filepath=\"Models/Weights/weights.hdf5\", verbose=1, save_best_only=True)\n",
    "\n",
    "vae.fit(x=trainX_nominal, epochs=100, \n",
    "        batch_size=1024,\n",
    "        validation_data=(valX_nominal,None),\n",
    "        callbacks=[checkpointer])\n",
    "vae.load_weights('Models/Weights/weights.hdf5')\n",
    "\n",
    "# vae.save(\"Models/Conv1d_VAE_comp.h5\")"
   ]
  },
  {
   "cell_type": "code",
   "execution_count": 119,
   "metadata": {},
   "outputs": [],
   "source": [
    "import sys\n",
    "\n",
    "orig_stdout = sys.stdout\n",
    "f = open('Logs/out.txt', 'w')\n",
    "sys.stdout = f\n",
    "print(encoder.summary())\n",
    "print(decoder.summary())\n",
    "sys.stdout = orig_stdout\n",
    "f.close()\n"
   ]
  },
  {
   "cell_type": "code",
   "execution_count": 150,
   "metadata": {},
   "outputs": [],
   "source": [
    "\n",
    "\n",
    "\n",
    "nom_autoenc = vae.predict(trainX_nominal)\n",
    "\n",
    "autoenc_df = pd.DataFrame(nom_autoenc[0], columns=boat_csv.columns)\n",
    "\n",
    "plt.plot(boat_csv['Lon'][:1024], boat_csv['Lat'][:1024])\n",
    "plt.show()\n",
    "plt.plot(autoenc_df['Lon'], autoenc_df['Lat'])\n",
    "plt.show()\n",
    "\n",
    "\n",
    "\n"
   ]
  },
  {
   "cell_type": "code",
   "execution_count": 151,
   "metadata": {},
   "outputs": [
    {
     "name": "stdout",
     "output_type": "stream",
     "text": [
      "3 (300, 4)\n"
     ]
    }
   ],
   "source": [
    "nom_enc = encoder.predict(trainX_nominal)\n",
    "print(len(nom_enc), nom_enc[0].shape)\n",
    "\n",
    "titles = [\"Mean\",\"Sigmas\",\"Sampled\"]\n",
    "\n",
    "for i, elem in enumerate(nom_enc):\n",
    "    plt.plot(elem)\n",
    "    plt.title(titles[i])\n",
    "    plt.show()\n",
    "\n",
    "\n",
    "\n",
    "\n",
    "\n",
    "\n"
   ]
  },
  {
   "cell_type": "code",
   "execution_count": null,
   "metadata": {},
   "outputs": [],
   "source": []
  }
 ],
 "metadata": {
  "kernelspec": {
   "display_name": "Python 2",
   "language": "python",
   "name": "python2"
  },
  "language_info": {
   "codemirror_mode": {
    "name": "ipython",
    "version": 2
   },
   "file_extension": ".py",
   "mimetype": "text/x-python",
   "name": "python",
   "nbconvert_exporter": "python",
   "pygments_lexer": "ipython2",
   "version": "2.7.6"
  }
 },
 "nbformat": 4,
 "nbformat_minor": 0
}
