{
 "cells": [
  {
   "cell_type": "code",
   "execution_count": null,
   "metadata": {
    "collapsed": true
   },
   "outputs": [],
   "source": [
    "from Data_loader import Data_loader\n",
    "from LSTM_AE_Model import LSTM_AE_Model\n",
    "from Reconstruction_error_sequences import Reconstruction_error_sequences\n",
    "\n",
    "data_loader = Data_loader()\n",
    "nominal_data = data_loader.load_data(path=\"Data/Boat_data.csv\", index_to_remove=39)\n",
    "anomalous_data = data_loader.load_data(path=\"Data/Boat_data_curved.csv\", index_to_remove=39)\n",
    "\n",
    "\n",
    "trainX_nominal = data_loader.prepare_sequences(data=nominal_data,\n",
    "                                               timesteps=150,\n",
    "                                               interval=15) \n",
    "\n",
    "trainX_anomalous = data_loader.prepare_sequences(data=anomalous_data,\n",
    "                                                 timesteps=150,\n",
    "                                                 interval=15)\n",
    "\n",
    "# lstm_ae = LSTM_AE_Model(hidden_dimensions=10,\n",
    "#                  intermediate_dimension=32,\n",
    "#                  timesteps_sequences=150,\n",
    "#                  input_dim=7,\n",
    "#                  optimizer=\"adam\",\n",
    "#                  loss=\"mse\",\n",
    "#                  metrics=['accuracy'])\n",
    "# lstm_ae.fit_model(x=trainX_nominal, \n",
    "#                   y=trainX_nominal, \n",
    "#                   batch_size=150,\n",
    "#                   epochs=20)\n",
    "# lstm_ae.model.save(\"Models/Nominal_LSTM.model\")\n",
    "\n",
    "print(\"GETTING MODEL AND PREDICTING\")\n",
    "model = data_loader.load_model(\"Models/Nominal_LSTM.model\")\n",
    "autoencoded_nominal = model.predict(trainX_nominal)\n",
    "autoencoded_anomalous = model.predict(trainX_anomalous)\n",
    "\n",
    "print(\"STARTING METHOD\")\n",
    "\n",
    "\n",
    "method = Reconstruction_error_sequences(window_size=150,\n",
    "                                        interval=15,\n",
    "                                        normal_data=trainX_nominal,\n",
    "                                        autoencoded_nominal=autoencoded_nominal,\n",
    "                                        anomalous_data=trainX_anomalous,\n",
    "                                        autoencoded_anomalous=autoencoded_anomalous)\n",
    "\n",
    "print(\"done\")\n"
   ]
  },
  {
   "cell_type": "code",
   "execution_count": null,
   "metadata": {},
   "outputs": [],
   "source": []
  }
 ],
 "metadata": {
  "kernelspec": {
   "display_name": "Python 2",
   "language": "python",
   "name": "python2"
  },
  "language_info": {
   "codemirror_mode": {
    "name": "ipython",
    "version": 2
   },
   "file_extension": ".py",
   "mimetype": "text/x-python",
   "name": "python",
   "nbconvert_exporter": "python",
   "pygments_lexer": "ipython2",
   "version": "2.7.6"
  }
 },
 "nbformat": 4,
 "nbformat_minor": 0
}
