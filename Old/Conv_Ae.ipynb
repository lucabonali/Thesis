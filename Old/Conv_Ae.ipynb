{
 "cells": [
  {
   "cell_type": "code",
   "execution_count": 105,
   "metadata": {
    "collapsed": true
   },
   "outputs": [
    {
     "name": "stdout",
     "output_type": "stream",
     "text": [
      "(307200, 4)\n(300, 1024, 4)\n(30, 1024, 4)\n"
     ]
    }
   ],
   "source": [
    "import pandas as pd\n",
    "from sklearn.preprocessing import StandardScaler\n",
    "import matplotlib.pyplot as plt\n",
    "import numpy as np\n",
    "from scipy.stats import norm\n",
    "from keras.layers import Input, Dense, Lambda, Flatten, Reshape\n",
    "from keras.layers import Conv1D,UpSampling1D\n",
    "from keras.models import Model\n",
    "from keras import backend as K\n",
    "\n",
    "n_features = 4\n",
    "boat_csv = pd.read_csv(\"Data/Boat_nominal_data/Boat_sequences_mix.csv\")\n",
    "boat_csv = boat_csv.drop(columns=[\"Unnamed: 0\", \"M0C\", \"M1C\", \"Acceleration\",\"Speed\"])\n",
    "scaler = StandardScaler()\n",
    "normal_data = scaler.fit_transform(boat_csv)\n",
    "print(normal_data.shape)\n",
    "\n",
    "boat_val = pd.read_csv(\"Data/Boat_nominal_data/Boat_sequence_mix_val.csv\")\n",
    "boat_val = boat_val.drop(columns=[\"Unnamed: 0\", \"M0C\", \"M1C\", \"Acceleration\",\"Speed\"])\n",
    "scaler = StandardScaler()\n",
    "val_nom_data = scaler.fit_transform(boat_val)\n",
    "\n",
    "def prepare_sequences(data, batch_size):\n",
    "    samples = []\n",
    "    for i in range(0,data.shape[0], batch_size):\n",
    "        sample = data[i:i+batch_size]\t\n",
    "        samples.append(sample)\n",
    "    sequences = np.array(samples)\n",
    "    trainX = np.reshape(sequences, (len(sequences), batch_size, n_features))\n",
    "    return trainX\n",
    "\n",
    "\n",
    "def prepare_data():    \n",
    "    trainX_nominal = prepare_sequences(normal_data,1024) \n",
    "    print(trainX_nominal.shape)\n",
    "    \n",
    "    valX_nominal = prepare_sequences(val_nom_data,1024)\n",
    "    print(valX_nominal.shape)\n",
    "\n",
    "    return trainX_nominal, valX_nominal\n",
    "\n",
    "trainX_nominal, valX_nominal = prepare_data()\n"
   ]
  },
  {
   "cell_type": "code",
   "execution_count": 106,
   "metadata": {
    "collapsed": true
   },
   "outputs": [],
   "source": [
    "from keras import Sequential\n",
    "from keras.layers import MaxPooling1D, RepeatVector, LSTM\n",
    "from keras_preprocessing.sequence import TimeseriesGenerator\n",
    "\n",
    "input_shape = (1024, n_features)\n",
    "latent_dim = 20\n",
    "use_mse = True   \n",
    "load_weights = False\n",
    "\n",
    "def create_vae():\n",
    "    units = len(trainX_nominal)\n",
    "    inputs = Input(shape=(1024,n_features), name='Enc_input')\n",
    "    x = inputs\n",
    "    for i in range(2):\n",
    "        x = Dense(units=units,activation='relu')(x)\n",
    "    #lstm, state_h, state_c = LSTM(latent_dim,return_state=True)(x)\n",
    "    embeddings = Dense(latent_dim, name=\"embeddings\", activation='relu')(x)\n",
    "\n",
    "    encoder = Model(inputs, embeddings, name='encoder')\n",
    "    encoder.summary()\n",
    "    \n",
    "    latent_inputs = Input(shape=(latent_dim,))\n",
    "    x = Dense(100)(latent_inputs)\n",
    "\n",
    "    for i in range(2):\n",
    "        x = Dense(units, activation='relu')(x)\n",
    "    #x = RepeatVector(1024)(x)\n",
    "    outputs = Dense(4)(x)\n",
    "    decoder = Model(latent_inputs, outputs)\n",
    "    decoder.summary()\n",
    "    \n",
    "    outputs = decoder(encoder.outputs)    \n",
    "    vae = Model(inputs,outputs)\n",
    "    vae.summary()\n",
    "    vae.compile(optimizer='rmsprop', loss='mse', metrics= ['accuracy'])\n",
    "    return (vae, encoder, decoder)\n"
   ]
  },
  {
   "cell_type": "code",
   "execution_count": 108,
   "metadata": {
    "collapsed": true
   },
   "outputs": [
    {
     "name": "stdout",
     "output_type": "stream",
     "text": [
      "_________________________________________________________________\nLayer (type)                 Output Shape              Param #   \n=================================================================\nEnc_input (InputLayer)       (None, 1024, 4)           0         \n_________________________________________________________________\ndense_222 (Dense)            (None, 1024, 300)         1500      \n_________________________________________________________________\ndense_223 (Dense)            (None, 1024, 300)         90300     \n_________________________________________________________________\nembeddings (Dense)           (None, 1024, 20)          6020      \n=================================================================\nTotal params: 97,820\nTrainable params: 97,820\nNon-trainable params: 0\n_________________________________________________________________\n_________________________________________________________________\nLayer (type)                 Output Shape              Param #   \n=================================================================\ninput_22 (InputLayer)        (None, 20)                0         \n_________________________________________________________________\ndense_224 (Dense)            (None, 100)               2100      \n_________________________________________________________________\ndense_225 (Dense)            (None, 300)               30300     \n_________________________________________________________________\ndense_226 (Dense)            (None, 300)               90300     \n_________________________________________________________________\ndense_227 (Dense)            (None, 4)                 1204      \n=================================================================\nTotal params: 123,904\nTrainable params: 123,904\nNon-trainable params: 0\n_________________________________________________________________\n"
     ]
    },
    {
     "name": "stdout",
     "output_type": "stream",
     "text": [
      "_________________________________________________________________\nLayer (type)                 Output Shape              Param #   \n=================================================================\nEnc_input (InputLayer)       (None, 1024, 4)           0         \n_________________________________________________________________\ndense_222 (Dense)            (None, 1024, 300)         1500      \n_________________________________________________________________\ndense_223 (Dense)            (None, 1024, 300)         90300     \n_________________________________________________________________\nembeddings (Dense)           (None, 1024, 20)          6020      \n_________________________________________________________________\nmodel_49 (Model)             multiple                  123904    \n=================================================================\nTotal params: 221,724\nTrainable params: 221,724\nNon-trainable params: 0\n_________________________________________________________________\n"
     ]
    }
   ],
   "source": [
    "from keras.callbacks import ModelCheckpoint\n",
    "\n",
    "vae, encoder, decoder = create_vae()\n",
    "checkpointer = ModelCheckpoint(filepath=\"Models/Weights/Nominal_weights_ae.hdf5\",\n",
    "                               verbose=1, save_best_only=True)\n"
   ]
  },
  {
   "cell_type": "code",
   "execution_count": 109,
   "metadata": {
    "collapsed": true
   },
   "outputs": [
    {
     "name": "stdout",
     "output_type": "stream",
     "text": [
      "Train on 300 samples, validate on 30 samples\nEpoch 1/100\n"
     ]
    },
    {
     "name": "stdout",
     "output_type": "stream",
     "text": [
      "\r300/300 [==============================] - 10s 34ms/step - loss: 0.9987 - acc: 0.3379 - val_loss: 0.8773 - val_acc: 0.5419\n"
     ]
    },
    {
     "name": "stdout",
     "output_type": "stream",
     "text": [
      "\nEpoch 00001: val_loss improved from inf to 0.87733, saving model to Models/Weights/Nominal_weights_ae.hdf5\n"
     ]
    },
    {
     "name": "stdout",
     "output_type": "stream",
     "text": [
      "Epoch 2/100\n"
     ]
    },
    {
     "name": "stdout",
     "output_type": "stream",
     "text": [
      "\r300/300 [==============================] - 4s 13ms/step - loss: 0.8776 - acc: 0.5476 - val_loss: 0.5130 - val_acc: 0.6566\n"
     ]
    },
    {
     "name": "stdout",
     "output_type": "stream",
     "text": [
      "\nEpoch 00002: val_loss improved from 0.87733 to 0.51297, saving model to Models/Weights/Nominal_weights_ae.hdf5\nEpoch 3/100\n"
     ]
    },
    {
     "name": "stdout",
     "output_type": "stream",
     "text": [
      "\r300/300 [==============================] - 4s 13ms/step - loss: 0.5135 - acc: 0.6583 - val_loss: 0.2433 - val_acc: 0.6415\n"
     ]
    },
    {
     "name": "stdout",
     "output_type": "stream",
     "text": [
      "\nEpoch 00003: val_loss improved from 0.51297 to 0.24329, saving model to Models/Weights/Nominal_weights_ae.hdf5\nEpoch 4/100\n"
     ]
    },
    {
     "name": "stdout",
     "output_type": "stream",
     "text": [
      "\r300/300 [==============================] - 4s 13ms/step - loss: 0.2444 - acc: 0.6422 - val_loss: 0.5566 - val_acc: 0.4560\n"
     ]
    },
    {
     "name": "stdout",
     "output_type": "stream",
     "text": [
      "\nEpoch 00004: val_loss did not improve from 0.24329\nEpoch 5/100\n"
     ]
    },
    {
     "name": "stdout",
     "output_type": "stream",
     "text": [
      "\r300/300 [==============================] - 5s 16ms/step - loss: 0.5576 - acc: 0.4505 - val_loss: 0.3672 - val_acc: 0.6273\n"
     ]
    },
    {
     "name": "stdout",
     "output_type": "stream",
     "text": [
      "\nEpoch 00005: val_loss did not improve from 0.24329\nEpoch 6/100\n"
     ]
    },
    {
     "name": "stdout",
     "output_type": "stream",
     "text": [
      "\r300/300 [==============================] - 4s 15ms/step - loss: 0.3676 - acc: 0.6321 - val_loss: 0.1910 - val_acc: 0.7386\n"
     ]
    },
    {
     "name": "stdout",
     "output_type": "stream",
     "text": [
      "\nEpoch 00006: val_loss improved from 0.24329 to 0.19099, saving model to Models/Weights/Nominal_weights_ae.hdf5\nEpoch 7/100\n"
     ]
    },
    {
     "name": "stdout",
     "output_type": "stream",
     "text": [
      "\r300/300 [==============================] - 4s 13ms/step - loss: 0.1918 - acc: 0.7388 - val_loss: 0.1151 - val_acc: 0.7824\n"
     ]
    },
    {
     "name": "stdout",
     "output_type": "stream",
     "text": [
      "\nEpoch 00007: val_loss improved from 0.19099 to 0.11513, saving model to Models/Weights/Nominal_weights_ae.hdf5\nEpoch 8/100\n"
     ]
    },
    {
     "name": "stdout",
     "output_type": "stream",
     "text": [
      "\r300/300 [==============================] - 3s 11ms/step - loss: 0.1159 - acc: 0.7846 - val_loss: 0.1244 - val_acc: 0.7651\n"
     ]
    },
    {
     "name": "stdout",
     "output_type": "stream",
     "text": [
      "\nEpoch 00008: val_loss did not improve from 0.11513\nEpoch 9/100\n"
     ]
    },
    {
     "name": "stdout",
     "output_type": "stream",
     "text": [
      "\r300/300 [==============================] - 3s 12ms/step - loss: 0.1250 - acc: 0.7684 - val_loss: 0.1843 - val_acc: 0.7663\n"
     ]
    },
    {
     "name": "stdout",
     "output_type": "stream",
     "text": [
      "\nEpoch 00009: val_loss did not improve from 0.11513\nEpoch 10/100\n"
     ]
    },
    {
     "name": "stdout",
     "output_type": "stream",
     "text": [
      "\r300/300 [==============================] - 4s 12ms/step - loss: 0.1847 - acc: 0.7706 - val_loss: 0.1517 - val_acc: 0.7494\n"
     ]
    },
    {
     "name": "stdout",
     "output_type": "stream",
     "text": [
      "\nEpoch 00010: val_loss did not improve from 0.11513\nEpoch 11/100\n"
     ]
    },
    {
     "name": "stdout",
     "output_type": "stream",
     "text": [
      "\r300/300 [==============================] - 4s 14ms/step - loss: 0.1521 - acc: 0.7529 - val_loss: 0.1031 - val_acc: 0.8024\n"
     ]
    },
    {
     "name": "stdout",
     "output_type": "stream",
     "text": [
      "\nEpoch 00011: val_loss improved from 0.11513 to 0.10311, saving model to Models/Weights/Nominal_weights_ae.hdf5\nEpoch 12/100\n"
     ]
    },
    {
     "name": "stdout",
     "output_type": "stream",
     "text": [
      "\r300/300 [==============================] - 3s 11ms/step - loss: 0.1036 - acc: 0.8050 - val_loss: 0.0674 - val_acc: 0.8436\n"
     ]
    },
    {
     "name": "stdout",
     "output_type": "stream",
     "text": [
      "\nEpoch 00012: val_loss improved from 0.10311 to 0.06743, saving model to Models/Weights/Nominal_weights_ae.hdf5\nEpoch 13/100\n"
     ]
    },
    {
     "name": "stdout",
     "output_type": "stream",
     "text": [
      "\r300/300 [==============================] - 3s 12ms/step - loss: 0.0679 - acc: 0.8468 - val_loss: 0.0584 - val_acc: 0.8344\n"
     ]
    },
    {
     "name": "stdout",
     "output_type": "stream",
     "text": [
      "\nEpoch 00013: val_loss improved from 0.06743 to 0.05841, saving model to Models/Weights/Nominal_weights_ae.hdf5\nEpoch 14/100\n"
     ]
    },
    {
     "name": "stdout",
     "output_type": "stream",
     "text": [
      "\r300/300 [==============================] - 3s 11ms/step - loss: 0.0588 - acc: 0.8365 - val_loss: 0.0525 - val_acc: 0.8639\n"
     ]
    },
    {
     "name": "stdout",
     "output_type": "stream",
     "text": [
      "\nEpoch 00014: val_loss improved from 0.05841 to 0.05248, saving model to Models/Weights/Nominal_weights_ae.hdf5\nEpoch 15/100\n"
     ]
    },
    {
     "name": "stdout",
     "output_type": "stream",
     "text": [
      "\r300/300 [==============================] - 3s 11ms/step - loss: 0.0528 - acc: 0.8672 - val_loss: 0.0488 - val_acc: 0.8432\n"
     ]
    },
    {
     "name": "stdout",
     "output_type": "stream",
     "text": [
      "\nEpoch 00015: val_loss improved from 0.05248 to 0.04881, saving model to Models/Weights/Nominal_weights_ae.hdf5\nEpoch 16/100\n"
     ]
    },
    {
     "name": "stdout",
     "output_type": "stream",
     "text": [
      "\r300/300 [==============================] - 3s 11ms/step - loss: 0.0491 - acc: 0.8476 - val_loss: 0.0494 - val_acc: 0.8771\n"
     ]
    },
    {
     "name": "stdout",
     "output_type": "stream",
     "text": [
      "\nEpoch 00016: val_loss did not improve from 0.04881\nEpoch 17/100\n"
     ]
    },
    {
     "name": "stdout",
     "output_type": "stream",
     "text": [
      "\r300/300 [==============================] - 3s 12ms/step - loss: 0.0497 - acc: 0.8794 - val_loss: 0.0668 - val_acc: 0.8033\n"
     ]
    },
    {
     "name": "stdout",
     "output_type": "stream",
     "text": [
      "\nEpoch 00017: val_loss did not improve from 0.04881\nEpoch 18/100\n"
     ]
    },
    {
     "name": "stdout",
     "output_type": "stream",
     "text": [
      "\r300/300 [==============================] - 4s 12ms/step - loss: 0.0670 - acc: 0.8101 - val_loss: 0.0890 - val_acc: 0.7934\n"
     ]
    },
    {
     "name": "stdout",
     "output_type": "stream",
     "text": [
      "\nEpoch 00018: val_loss did not improve from 0.04881\nEpoch 19/100\n"
     ]
    },
    {
     "name": "stdout",
     "output_type": "stream",
     "text": [
      "\r300/300 [==============================] - 3s 12ms/step - loss: 0.0892 - acc: 0.7951 - val_loss: 0.0983 - val_acc: 0.7721\n"
     ]
    },
    {
     "name": "stdout",
     "output_type": "stream",
     "text": [
      "\nEpoch 00019: val_loss did not improve from 0.04881\nEpoch 20/100\n"
     ]
    },
    {
     "name": "stdout",
     "output_type": "stream",
     "text": [
      "\r300/300 [==============================] - 3s 11ms/step - loss: 0.0985 - acc: 0.7756 - val_loss: 0.0524 - val_acc: 0.8296\n"
     ]
    },
    {
     "name": "stdout",
     "output_type": "stream",
     "text": [
      "\nEpoch 00020: val_loss did not improve from 0.04881\nEpoch 21/100\n"
     ]
    },
    {
     "name": "stdout",
     "output_type": "stream",
     "text": [
      "\r300/300 [==============================] - 4s 12ms/step - loss: 0.0524 - acc: 0.8324 - val_loss: 0.0422 - val_acc: 0.9017\n"
     ]
    },
    {
     "name": "stdout",
     "output_type": "stream",
     "text": [
      "\nEpoch 00021: val_loss improved from 0.04881 to 0.04217, saving model to Models/Weights/Nominal_weights_ae.hdf5\nEpoch 22/100\n"
     ]
    },
    {
     "name": "stdout",
     "output_type": "stream",
     "text": [
      "\r300/300 [==============================] - 4s 12ms/step - loss: 0.0424 - acc: 0.9040 - val_loss: 0.0464 - val_acc: 0.8897\n"
     ]
    },
    {
     "name": "stdout",
     "output_type": "stream",
     "text": [
      "\nEpoch 00022: val_loss did not improve from 0.04217\nEpoch 23/100\n"
     ]
    },
    {
     "name": "stdout",
     "output_type": "stream",
     "text": [
      "\r300/300 [==============================] - 4s 12ms/step - loss: 0.0464 - acc: 0.8911 - val_loss: 0.0603 - val_acc: 0.8925\n"
     ]
    },
    {
     "name": "stdout",
     "output_type": "stream",
     "text": [
      "\nEpoch 00023: val_loss did not improve from 0.04217\nEpoch 24/100\n"
     ]
    },
    {
     "name": "stdout",
     "output_type": "stream",
     "text": [
      "\r300/300 [==============================] - 3s 12ms/step - loss: 0.0605 - acc: 0.8939 - val_loss: 0.0517 - val_acc: 0.8675\n"
     ]
    },
    {
     "name": "stdout",
     "output_type": "stream",
     "text": [
      "\nEpoch 00024: val_loss did not improve from 0.04217\nEpoch 25/100\n"
     ]
    },
    {
     "name": "stdout",
     "output_type": "stream",
     "text": [
      "\r300/300 [==============================] - 4s 12ms/step - loss: 0.0517 - acc: 0.8665 - val_loss: 0.0408 - val_acc: 0.8557\n"
     ]
    },
    {
     "name": "stdout",
     "output_type": "stream",
     "text": [
      "\nEpoch 00025: val_loss improved from 0.04217 to 0.04078, saving model to Models/Weights/Nominal_weights_ae.hdf5\nEpoch 26/100\n"
     ]
    },
    {
     "name": "stdout",
     "output_type": "stream",
     "text": [
      "\r300/300 [==============================] - 4s 12ms/step - loss: 0.0411 - acc: 0.8588 - val_loss: 0.0438 - val_acc: 0.8559\n"
     ]
    },
    {
     "name": "stdout",
     "output_type": "stream",
     "text": [
      "\nEpoch 00026: val_loss did not improve from 0.04078\nEpoch 27/100\n"
     ]
    },
    {
     "name": "stdout",
     "output_type": "stream",
     "text": [
      "\r300/300 [==============================] - 4s 14ms/step - loss: 0.0438 - acc: 0.8538 - val_loss: 0.0667 - val_acc: 0.8076\n"
     ]
    },
    {
     "name": "stdout",
     "output_type": "stream",
     "text": [
      "\nEpoch 00027: val_loss did not improve from 0.04078\nEpoch 28/100\n"
     ]
    },
    {
     "name": "stdout",
     "output_type": "stream",
     "text": [
      "\r300/300 [==============================] - 5s 15ms/step - loss: 0.0669 - acc: 0.8108 - val_loss: 0.0767 - val_acc: 0.8214\n"
     ]
    },
    {
     "name": "stdout",
     "output_type": "stream",
     "text": [
      "\nEpoch 00028: val_loss did not improve from 0.04078\nEpoch 29/100\n"
     ]
    },
    {
     "name": "stdout",
     "output_type": "stream",
     "text": [
      "\r300/300 [==============================] - 4s 13ms/step - loss: 0.0766 - acc: 0.8194 - val_loss: 0.0644 - val_acc: 0.8484\n"
     ]
    },
    {
     "name": "stdout",
     "output_type": "stream",
     "text": [
      "\nEpoch 00029: val_loss did not improve from 0.04078\nEpoch 30/100\n"
     ]
    },
    {
     "name": "stdout",
     "output_type": "stream",
     "text": [
      "\r300/300 [==============================] - 4s 12ms/step - loss: 0.0646 - acc: 0.8517 - val_loss: 0.0383 - val_acc: 0.8588\n"
     ]
    },
    {
     "name": "stdout",
     "output_type": "stream",
     "text": [
      "\nEpoch 00030: val_loss improved from 0.04078 to 0.03830, saving model to Models/Weights/Nominal_weights_ae.hdf5\nEpoch 31/100\n"
     ]
    },
    {
     "name": "stdout",
     "output_type": "stream",
     "text": [
      "\r300/300 [==============================] - 4s 13ms/step - loss: 0.0384 - acc: 0.8587 - val_loss: 0.0288 - val_acc: 0.9066\n"
     ]
    },
    {
     "name": "stdout",
     "output_type": "stream",
     "text": [
      "\nEpoch 00031: val_loss improved from 0.03830 to 0.02884, saving model to Models/Weights/Nominal_weights_ae.hdf5\nEpoch 32/100\n"
     ]
    },
    {
     "name": "stdout",
     "output_type": "stream",
     "text": [
      "\r300/300 [==============================] - 4s 12ms/step - loss: 0.0290 - acc: 0.9070 - val_loss: 0.0313 - val_acc: 0.8636\n"
     ]
    },
    {
     "name": "stdout",
     "output_type": "stream",
     "text": [
      "\nEpoch 00032: val_loss did not improve from 0.02884\nEpoch 33/100\n"
     ]
    },
    {
     "name": "stdout",
     "output_type": "stream",
     "text": [
      "\r300/300 [==============================] - 4s 12ms/step - loss: 0.0314 - acc: 0.8664 - val_loss: 0.0334 - val_acc: 0.9099\n"
     ]
    },
    {
     "name": "stdout",
     "output_type": "stream",
     "text": [
      "\nEpoch 00033: val_loss did not improve from 0.02884\nEpoch 34/100\n"
     ]
    },
    {
     "name": "stdout",
     "output_type": "stream",
     "text": [
      "\r300/300 [==============================] - 4s 12ms/step - loss: 0.0336 - acc: 0.9088 - val_loss: 0.0493 - val_acc: 0.8477\n"
     ]
    },
    {
     "name": "stdout",
     "output_type": "stream",
     "text": [
      "\nEpoch 00034: val_loss did not improve from 0.02884\nEpoch 35/100\n"
     ]
    },
    {
     "name": "stdout",
     "output_type": "stream",
     "text": [
      "\r300/300 [==============================] - 3s 11ms/step - loss: 0.0494 - acc: 0.8524 - val_loss: 0.0480 - val_acc: 0.8930\n"
     ]
    },
    {
     "name": "stdout",
     "output_type": "stream",
     "text": [
      "\nEpoch 00035: val_loss did not improve from 0.02884\nEpoch 36/100\n"
     ]
    },
    {
     "name": "stdout",
     "output_type": "stream",
     "text": [
      "\r300/300 [==============================] - 4s 12ms/step - loss: 0.0481 - acc: 0.8910 - val_loss: 0.0591 - val_acc: 0.8149\n"
     ]
    },
    {
     "name": "stdout",
     "output_type": "stream",
     "text": [
      "\nEpoch 00036: val_loss did not improve from 0.02884\nEpoch 37/100\n"
     ]
    },
    {
     "name": "stdout",
     "output_type": "stream",
     "text": [
      "\r300/300 [==============================] - 4s 12ms/step - loss: 0.0590 - acc: 0.8200 - val_loss: 0.0553 - val_acc: 0.8622\n"
     ]
    },
    {
     "name": "stdout",
     "output_type": "stream",
     "text": [
      "\nEpoch 00037: val_loss did not improve from 0.02884\nEpoch 38/100\n"
     ]
    },
    {
     "name": "stdout",
     "output_type": "stream",
     "text": [
      "\r300/300 [==============================] - 3s 11ms/step - loss: 0.0553 - acc: 0.8574 - val_loss: 0.0448 - val_acc: 0.8366\n"
     ]
    },
    {
     "name": "stdout",
     "output_type": "stream",
     "text": [
      "\nEpoch 00038: val_loss did not improve from 0.02884\nEpoch 39/100\n"
     ]
    },
    {
     "name": "stdout",
     "output_type": "stream",
     "text": [
      "\r300/300 [==============================] - 3s 11ms/step - loss: 0.0447 - acc: 0.8405 - val_loss: 0.0376 - val_acc: 0.8747\n"
     ]
    },
    {
     "name": "stdout",
     "output_type": "stream",
     "text": [
      "\nEpoch 00039: val_loss did not improve from 0.02884\nEpoch 40/100\n"
     ]
    },
    {
     "name": "stdout",
     "output_type": "stream",
     "text": [
      "\r300/300 [==============================] - 3s 11ms/step - loss: 0.0377 - acc: 0.8719 - val_loss: 0.0287 - val_acc: 0.8845\n"
     ]
    },
    {
     "name": "stdout",
     "output_type": "stream",
     "text": [
      "\nEpoch 00040: val_loss improved from 0.02884 to 0.02870, saving model to Models/Weights/Nominal_weights_ae.hdf5\nEpoch 41/100\n"
     ]
    },
    {
     "name": "stdout",
     "output_type": "stream",
     "text": [
      "\r300/300 [==============================] - 3s 11ms/step - loss: 0.0286 - acc: 0.8857 - val_loss: 0.0280 - val_acc: 0.9103\n"
     ]
    },
    {
     "name": "stdout",
     "output_type": "stream",
     "text": [
      "\nEpoch 00041: val_loss improved from 0.02870 to 0.02799, saving model to Models/Weights/Nominal_weights_ae.hdf5\nEpoch 42/100\n"
     ]
    },
    {
     "name": "stdout",
     "output_type": "stream",
     "text": [
      "\r300/300 [==============================] - 4s 15ms/step - loss: 0.0281 - acc: 0.9073 - val_loss: 0.0263 - val_acc: 0.9080\n"
     ]
    },
    {
     "name": "stdout",
     "output_type": "stream",
     "text": [
      "\nEpoch 00042: val_loss improved from 0.02799 to 0.02632, saving model to Models/Weights/Nominal_weights_ae.hdf5\nEpoch 43/100\n"
     ]
    },
    {
     "name": "stdout",
     "output_type": "stream",
     "text": [
      "\r300/300 [==============================] - 3s 11ms/step - loss: 0.0263 - acc: 0.9093 - val_loss: 0.0295 - val_acc: 0.9095\n"
     ]
    },
    {
     "name": "stdout",
     "output_type": "stream",
     "text": [
      "\nEpoch 00043: val_loss did not improve from 0.02632\nEpoch 44/100\n"
     ]
    },
    {
     "name": "stdout",
     "output_type": "stream",
     "text": [
      "\r300/300 [==============================] - 16s 54ms/step - loss: 0.0296 - acc: 0.9096 - val_loss: 0.0285 - val_acc: 0.9009\n"
     ]
    },
    {
     "name": "stdout",
     "output_type": "stream",
     "text": [
      "\nEpoch 00044: val_loss did not improve from 0.02632\nEpoch 45/100\n"
     ]
    },
    {
     "name": "stdout",
     "output_type": "stream",
     "text": [
      "\r300/300 [==============================] - 3s 11ms/step - loss: 0.0286 - acc: 0.9020 - val_loss: 0.0367 - val_acc: 0.8662\n"
     ]
    },
    {
     "name": "stdout",
     "output_type": "stream",
     "text": [
      "\nEpoch 00045: val_loss did not improve from 0.02632\nEpoch 46/100\n"
     ]
    },
    {
     "name": "stdout",
     "output_type": "stream",
     "text": [
      "\r300/300 [==============================] - 4s 15ms/step - loss: 0.0367 - acc: 0.8654 - val_loss: 0.0428 - val_acc: 0.8611\n"
     ]
    },
    {
     "name": "stdout",
     "output_type": "stream",
     "text": [
      "\nEpoch 00046: val_loss did not improve from 0.02632\nEpoch 47/100\n"
     ]
    },
    {
     "name": "stdout",
     "output_type": "stream",
     "text": [
      "\r300/300 [==============================] - 4s 12ms/step - loss: 0.0429 - acc: 0.8626 - val_loss: 0.0670 - val_acc: 0.8596\n"
     ]
    },
    {
     "name": "stdout",
     "output_type": "stream",
     "text": [
      "\nEpoch 00047: val_loss did not improve from 0.02632\nEpoch 48/100\n"
     ]
    },
    {
     "name": "stdout",
     "output_type": "stream",
     "text": [
      "\r300/300 [==============================] - 4s 12ms/step - loss: 0.0669 - acc: 0.8594 - val_loss: 0.0748 - val_acc: 0.8374\n"
     ]
    },
    {
     "name": "stdout",
     "output_type": "stream",
     "text": [
      "\nEpoch 00048: val_loss did not improve from 0.02632\nEpoch 49/100\n"
     ]
    },
    {
     "name": "stdout",
     "output_type": "stream",
     "text": [
      "\r300/300 [==============================] - 3s 11ms/step - loss: 0.0750 - acc: 0.8401 - val_loss: 0.0542 - val_acc: 0.8541\n"
     ]
    },
    {
     "name": "stdout",
     "output_type": "stream",
     "text": [
      "\nEpoch 00049: val_loss did not improve from 0.02632\nEpoch 50/100\n"
     ]
    },
    {
     "name": "stdout",
     "output_type": "stream",
     "text": [
      "\r300/300 [==============================] - 3s 12ms/step - loss: 0.0541 - acc: 0.8533 - val_loss: 0.0241 - val_acc: 0.8988\n"
     ]
    },
    {
     "name": "stdout",
     "output_type": "stream",
     "text": [
      "\nEpoch 00050: val_loss improved from 0.02632 to 0.02412, saving model to Models/Weights/Nominal_weights_ae.hdf5\nEpoch 51/100\n"
     ]
    },
    {
     "name": "stdout",
     "output_type": "stream",
     "text": [
      "\r300/300 [==============================] - 3s 11ms/step - loss: 0.0243 - acc: 0.9009 - val_loss: 0.0131 - val_acc: 0.9155\n"
     ]
    },
    {
     "name": "stdout",
     "output_type": "stream",
     "text": [
      "\nEpoch 00051: val_loss improved from 0.02412 to 0.01310, saving model to Models/Weights/Nominal_weights_ae.hdf5\nEpoch 52/100\n"
     ]
    },
    {
     "name": "stdout",
     "output_type": "stream",
     "text": [
      "\r300/300 [==============================] - 3s 11ms/step - loss: 0.0132 - acc: 0.9145 - val_loss: 0.0116 - val_acc: 0.9249\n"
     ]
    },
    {
     "name": "stdout",
     "output_type": "stream",
     "text": [
      "\nEpoch 00052: val_loss improved from 0.01310 to 0.01161, saving model to Models/Weights/Nominal_weights_ae.hdf5\nEpoch 53/100\n"
     ]
    },
    {
     "name": "stdout",
     "output_type": "stream",
     "text": [
      "\r300/300 [==============================] - 3s 11ms/step - loss: 0.0117 - acc: 0.9286 - val_loss: 0.0122 - val_acc: 0.9493\n"
     ]
    },
    {
     "name": "stdout",
     "output_type": "stream",
     "text": [
      "\nEpoch 00053: val_loss did not improve from 0.01161\nEpoch 54/100\n"
     ]
    },
    {
     "name": "stdout",
     "output_type": "stream",
     "text": [
      "\r300/300 [==============================] - 3s 11ms/step - loss: 0.0123 - acc: 0.9476 - val_loss: 0.0200 - val_acc: 0.9095\n"
     ]
    },
    {
     "name": "stdout",
     "output_type": "stream",
     "text": [
      "\nEpoch 00054: val_loss did not improve from 0.01161\nEpoch 55/100\n"
     ]
    },
    {
     "name": "stdout",
     "output_type": "stream",
     "text": [
      "\r300/300 [==============================] - 3s 12ms/step - loss: 0.0200 - acc: 0.9149 - val_loss: 0.0286 - val_acc: 0.9381\n"
     ]
    },
    {
     "name": "stdout",
     "output_type": "stream",
     "text": [
      "\nEpoch 00055: val_loss did not improve from 0.01161\nEpoch 56/100\n"
     ]
    },
    {
     "name": "stdout",
     "output_type": "stream",
     "text": [
      "\r300/300 [==============================] - 3s 11ms/step - loss: 0.0287 - acc: 0.9375 - val_loss: 0.0480 - val_acc: 0.8778\n"
     ]
    },
    {
     "name": "stdout",
     "output_type": "stream",
     "text": [
      "\nEpoch 00056: val_loss did not improve from 0.01161\nEpoch 57/100\n"
     ]
    },
    {
     "name": "stdout",
     "output_type": "stream",
     "text": [
      "\r300/300 [==============================] - 3s 12ms/step - loss: 0.0480 - acc: 0.8828 - val_loss: 0.0422 - val_acc: 0.8953\n"
     ]
    },
    {
     "name": "stdout",
     "output_type": "stream",
     "text": [
      "\nEpoch 00057: val_loss did not improve from 0.01161\nEpoch 58/100\n"
     ]
    },
    {
     "name": "stdout",
     "output_type": "stream",
     "text": [
      "\r300/300 [==============================] - 4s 13ms/step - loss: 0.0423 - acc: 0.8925 - val_loss: 0.0391 - val_acc: 0.8470\n"
     ]
    },
    {
     "name": "stdout",
     "output_type": "stream",
     "text": [
      "\nEpoch 00058: val_loss did not improve from 0.01161\nEpoch 59/100\n"
     ]
    },
    {
     "name": "stdout",
     "output_type": "stream",
     "text": [
      "\r300/300 [==============================] - 4s 12ms/step - loss: 0.0390 - acc: 0.8505 - val_loss: 0.0380 - val_acc: 0.8720\n"
     ]
    },
    {
     "name": "stdout",
     "output_type": "stream",
     "text": [
      "\nEpoch 00059: val_loss did not improve from 0.01161\nEpoch 60/100\n"
     ]
    },
    {
     "name": "stdout",
     "output_type": "stream",
     "text": [
      "\r300/300 [==============================] - 4s 12ms/step - loss: 0.0381 - acc: 0.8681 - val_loss: 0.0371 - val_acc: 0.8720\n"
     ]
    },
    {
     "name": "stdout",
     "output_type": "stream",
     "text": [
      "\nEpoch 00060: val_loss did not improve from 0.01161\nEpoch 61/100\n"
     ]
    },
    {
     "name": "stdout",
     "output_type": "stream",
     "text": [
      "\r300/300 [==============================] - 4s 12ms/step - loss: 0.0370 - acc: 0.8731 - val_loss: 0.0324 - val_acc: 0.8745\n"
     ]
    },
    {
     "name": "stdout",
     "output_type": "stream",
     "text": [
      "\nEpoch 00061: val_loss did not improve from 0.01161\nEpoch 62/100\n"
     ]
    },
    {
     "name": "stdout",
     "output_type": "stream",
     "text": [
      "\r300/300 [==============================] - 4s 12ms/step - loss: 0.0325 - acc: 0.8726 - val_loss: 0.0270 - val_acc: 0.8893\n"
     ]
    },
    {
     "name": "stdout",
     "output_type": "stream",
     "text": [
      "\nEpoch 00062: val_loss did not improve from 0.01161\nEpoch 63/100\n"
     ]
    },
    {
     "name": "stdout",
     "output_type": "stream",
     "text": [
      "\r300/300 [==============================] - 3s 11ms/step - loss: 0.0269 - acc: 0.8892 - val_loss: 0.0282 - val_acc: 0.9000\n"
     ]
    },
    {
     "name": "stdout",
     "output_type": "stream",
     "text": [
      "\nEpoch 00063: val_loss did not improve from 0.01161\nEpoch 64/100\n"
     ]
    },
    {
     "name": "stdout",
     "output_type": "stream",
     "text": [
      "\r300/300 [==============================] - 3s 12ms/step - loss: 0.0283 - acc: 0.8988 - val_loss: 0.0337 - val_acc: 0.9069\n"
     ]
    },
    {
     "name": "stdout",
     "output_type": "stream",
     "text": [
      "\nEpoch 00064: val_loss did not improve from 0.01161\nEpoch 65/100\n"
     ]
    },
    {
     "name": "stdout",
     "output_type": "stream",
     "text": [
      "\r300/300 [==============================] - 4s 13ms/step - loss: 0.0337 - acc: 0.9081 - val_loss: 0.0573 - val_acc: 0.8506\n"
     ]
    },
    {
     "name": "stdout",
     "output_type": "stream",
     "text": [
      "\nEpoch 00065: val_loss did not improve from 0.01161\nEpoch 66/100\n"
     ]
    },
    {
     "name": "stdout",
     "output_type": "stream",
     "text": [
      "\r300/300 [==============================] - 4s 12ms/step - loss: 0.0573 - acc: 0.8506 - val_loss: 0.0680 - val_acc: 0.8378\n"
     ]
    },
    {
     "name": "stdout",
     "output_type": "stream",
     "text": [
      "\nEpoch 00066: val_loss did not improve from 0.01161\nEpoch 67/100\n"
     ]
    },
    {
     "name": "stdout",
     "output_type": "stream",
     "text": [
      "\r300/300 [==============================] - 3s 12ms/step - loss: 0.0680 - acc: 0.8411 - val_loss: 0.0528 - val_acc: 0.8509\n"
     ]
    },
    {
     "name": "stdout",
     "output_type": "stream",
     "text": [
      "\nEpoch 00067: val_loss did not improve from 0.01161\nEpoch 68/100\n"
     ]
    },
    {
     "name": "stdout",
     "output_type": "stream",
     "text": [
      "\r300/300 [==============================] - 4s 12ms/step - loss: 0.0528 - acc: 0.8492 - val_loss: 0.0333 - val_acc: 0.8979\n"
     ]
    },
    {
     "name": "stdout",
     "output_type": "stream",
     "text": [
      "\nEpoch 00068: val_loss did not improve from 0.01161\nEpoch 69/100\n"
     ]
    },
    {
     "name": "stdout",
     "output_type": "stream",
     "text": [
      "\r300/300 [==============================] - 4s 12ms/step - loss: 0.0334 - acc: 0.8998 - val_loss: 0.0267 - val_acc: 0.8913\n"
     ]
    },
    {
     "name": "stdout",
     "output_type": "stream",
     "text": [
      "\nEpoch 00069: val_loss did not improve from 0.01161\nEpoch 70/100\n"
     ]
    },
    {
     "name": "stdout",
     "output_type": "stream",
     "text": [
      "\r300/300 [==============================] - 4s 12ms/step - loss: 0.0267 - acc: 0.8897 - val_loss: 0.0236 - val_acc: 0.9140\n"
     ]
    },
    {
     "name": "stdout",
     "output_type": "stream",
     "text": [
      "\nEpoch 00070: val_loss did not improve from 0.01161\nEpoch 71/100\n"
     ]
    },
    {
     "name": "stdout",
     "output_type": "stream",
     "text": [
      "\r300/300 [==============================] - 3s 12ms/step - loss: 0.0238 - acc: 0.9158 - val_loss: 0.0241 - val_acc: 0.9142\n"
     ]
    },
    {
     "name": "stdout",
     "output_type": "stream",
     "text": [
      "\nEpoch 00071: val_loss did not improve from 0.01161\nEpoch 72/100\n"
     ]
    },
    {
     "name": "stdout",
     "output_type": "stream",
     "text": [
      "\r300/300 [==============================] - 4s 12ms/step - loss: 0.0241 - acc: 0.9126 - val_loss: 0.0197 - val_acc: 0.9243\n"
     ]
    },
    {
     "name": "stdout",
     "output_type": "stream",
     "text": [
      "\nEpoch 00072: val_loss did not improve from 0.01161\nEpoch 73/100\n"
     ]
    },
    {
     "name": "stdout",
     "output_type": "stream",
     "text": [
      "\r300/300 [==============================] - 4s 12ms/step - loss: 0.0199 - acc: 0.9252 - val_loss: 0.0184 - val_acc: 0.9286\n"
     ]
    },
    {
     "name": "stdout",
     "output_type": "stream",
     "text": [
      "\nEpoch 00073: val_loss did not improve from 0.01161\nEpoch 74/100\n"
     ]
    },
    {
     "name": "stdout",
     "output_type": "stream",
     "text": [
      "\r300/300 [==============================] - 4s 12ms/step - loss: 0.0184 - acc: 0.9284 - val_loss: 0.0149 - val_acc: 0.9338\n"
     ]
    },
    {
     "name": "stdout",
     "output_type": "stream",
     "text": [
      "\nEpoch 00074: val_loss did not improve from 0.01161\nEpoch 75/100\n"
     ]
    },
    {
     "name": "stdout",
     "output_type": "stream",
     "text": [
      "\r300/300 [==============================] - 4s 13ms/step - loss: 0.0150 - acc: 0.9343 - val_loss: 0.0138 - val_acc: 0.9468\n"
     ]
    },
    {
     "name": "stdout",
     "output_type": "stream",
     "text": [
      "\nEpoch 00075: val_loss did not improve from 0.01161\nEpoch 76/100\n"
     ]
    },
    {
     "name": "stdout",
     "output_type": "stream",
     "text": [
      "\r300/300 [==============================] - 4s 12ms/step - loss: 0.0139 - acc: 0.9459 - val_loss: 0.0129 - val_acc: 0.9407\n"
     ]
    },
    {
     "name": "stdout",
     "output_type": "stream",
     "text": [
      "\nEpoch 00076: val_loss did not improve from 0.01161\nEpoch 77/100\n"
     ]
    },
    {
     "name": "stdout",
     "output_type": "stream",
     "text": [
      "\r300/300 [==============================] - 3s 11ms/step - loss: 0.0130 - acc: 0.9415 - val_loss: 0.0142 - val_acc: 0.9570\n"
     ]
    },
    {
     "name": "stdout",
     "output_type": "stream",
     "text": [
      "\nEpoch 00077: val_loss did not improve from 0.01161\nEpoch 78/100\n"
     ]
    },
    {
     "name": "stdout",
     "output_type": "stream",
     "text": [
      "\r300/300 [==============================] - 3s 11ms/step - loss: 0.0142 - acc: 0.9546 - val_loss: 0.0194 - val_acc: 0.9410\n"
     ]
    },
    {
     "name": "stdout",
     "output_type": "stream",
     "text": [
      "\nEpoch 00078: val_loss did not improve from 0.01161\nEpoch 79/100\n"
     ]
    },
    {
     "name": "stdout",
     "output_type": "stream",
     "text": [
      "\r300/300 [==============================] - 3s 11ms/step - loss: 0.0195 - acc: 0.9430 - val_loss: 0.0308 - val_acc: 0.9299\n"
     ]
    },
    {
     "name": "stdout",
     "output_type": "stream",
     "text": [
      "\nEpoch 00079: val_loss did not improve from 0.01161\nEpoch 80/100\n"
     ]
    },
    {
     "name": "stdout",
     "output_type": "stream",
     "text": [
      "\r300/300 [==============================] - 3s 11ms/step - loss: 0.0309 - acc: 0.9274 - val_loss: 0.0550 - val_acc: 0.8492\n"
     ]
    },
    {
     "name": "stdout",
     "output_type": "stream",
     "text": [
      "\nEpoch 00080: val_loss did not improve from 0.01161\nEpoch 81/100\n"
     ]
    },
    {
     "name": "stdout",
     "output_type": "stream",
     "text": [
      "\r300/300 [==============================] - 4s 12ms/step - loss: 0.0550 - acc: 0.8530 - val_loss: 0.0590 - val_acc: 0.8657\n"
     ]
    },
    {
     "name": "stdout",
     "output_type": "stream",
     "text": [
      "\nEpoch 00081: val_loss did not improve from 0.01161\nEpoch 82/100\n"
     ]
    },
    {
     "name": "stdout",
     "output_type": "stream",
     "text": [
      "\r300/300 [==============================] - 3s 12ms/step - loss: 0.0590 - acc: 0.8621 - val_loss: 0.0526 - val_acc: 0.8347\n"
     ]
    },
    {
     "name": "stdout",
     "output_type": "stream",
     "text": [
      "\nEpoch 00082: val_loss did not improve from 0.01161\nEpoch 83/100\n"
     ]
    },
    {
     "name": "stdout",
     "output_type": "stream",
     "text": [
      "\r300/300 [==============================] - 3s 11ms/step - loss: 0.0526 - acc: 0.8384 - val_loss: 0.0304 - val_acc: 0.8668\n"
     ]
    },
    {
     "name": "stdout",
     "output_type": "stream",
     "text": [
      "\nEpoch 00083: val_loss did not improve from 0.01161\nEpoch 84/100\n"
     ]
    },
    {
     "name": "stdout",
     "output_type": "stream",
     "text": [
      "\r300/300 [==============================] - 3s 11ms/step - loss: 0.0306 - acc: 0.8646 - val_loss: 0.0222 - val_acc: 0.8972\n"
     ]
    },
    {
     "name": "stdout",
     "output_type": "stream",
     "text": [
      "\nEpoch 00084: val_loss did not improve from 0.01161\nEpoch 85/100\n"
     ]
    },
    {
     "name": "stdout",
     "output_type": "stream",
     "text": [
      "\r300/300 [==============================] - 3s 11ms/step - loss: 0.0221 - acc: 0.8960 - val_loss: 0.0193 - val_acc: 0.9022\n"
     ]
    },
    {
     "name": "stdout",
     "output_type": "stream",
     "text": [
      "\nEpoch 00085: val_loss did not improve from 0.01161\nEpoch 86/100\n"
     ]
    },
    {
     "name": "stdout",
     "output_type": "stream",
     "text": [
      "\r300/300 [==============================] - 3s 11ms/step - loss: 0.0194 - acc: 0.9019 - val_loss: 0.0198 - val_acc: 0.9014\n"
     ]
    },
    {
     "name": "stdout",
     "output_type": "stream",
     "text": [
      "\nEpoch 00086: val_loss did not improve from 0.01161\nEpoch 87/100\n"
     ]
    },
    {
     "name": "stdout",
     "output_type": "stream",
     "text": [
      "\r300/300 [==============================] - 3s 12ms/step - loss: 0.0198 - acc: 0.8992 - val_loss: 0.0220 - val_acc: 0.9003\n"
     ]
    },
    {
     "name": "stdout",
     "output_type": "stream",
     "text": [
      "\nEpoch 00087: val_loss did not improve from 0.01161\nEpoch 88/100\n"
     ]
    },
    {
     "name": "stdout",
     "output_type": "stream",
     "text": [
      "\r300/300 [==============================] - 4s 12ms/step - loss: 0.0221 - acc: 0.9018 - val_loss: 0.0200 - val_acc: 0.9115\n"
     ]
    },
    {
     "name": "stdout",
     "output_type": "stream",
     "text": [
      "\nEpoch 00088: val_loss did not improve from 0.01161\nEpoch 89/100\n"
     ]
    },
    {
     "name": "stdout",
     "output_type": "stream",
     "text": [
      "\r300/300 [==============================] - 3s 11ms/step - loss: 0.0200 - acc: 0.9100 - val_loss: 0.0262 - val_acc: 0.9201\n"
     ]
    },
    {
     "name": "stdout",
     "output_type": "stream",
     "text": [
      "\nEpoch 00089: val_loss did not improve from 0.01161\nEpoch 90/100\n"
     ]
    },
    {
     "name": "stdout",
     "output_type": "stream",
     "text": [
      "\r300/300 [==============================] - 4s 12ms/step - loss: 0.0263 - acc: 0.9203 - val_loss: 0.0199 - val_acc: 0.9223\n"
     ]
    },
    {
     "name": "stdout",
     "output_type": "stream",
     "text": [
      "\nEpoch 00090: val_loss did not improve from 0.01161\nEpoch 91/100\n"
     ]
    },
    {
     "name": "stdout",
     "output_type": "stream",
     "text": [
      "\r300/300 [==============================] - 3s 12ms/step - loss: 0.0199 - acc: 0.9213 - val_loss: 0.0292 - val_acc: 0.9133\n"
     ]
    },
    {
     "name": "stdout",
     "output_type": "stream",
     "text": [
      "\nEpoch 00091: val_loss did not improve from 0.01161\nEpoch 92/100\n"
     ]
    },
    {
     "name": "stdout",
     "output_type": "stream",
     "text": [
      "\r300/300 [==============================] - 4s 12ms/step - loss: 0.0292 - acc: 0.9141 - val_loss: 0.0186 - val_acc: 0.9158\n"
     ]
    },
    {
     "name": "stdout",
     "output_type": "stream",
     "text": [
      "\nEpoch 00092: val_loss did not improve from 0.01161\nEpoch 93/100\n"
     ]
    },
    {
     "name": "stdout",
     "output_type": "stream",
     "text": [
      "\r300/300 [==============================] - 3s 12ms/step - loss: 0.0187 - acc: 0.9136 - val_loss: 0.0318 - val_acc: 0.8839\n"
     ]
    },
    {
     "name": "stdout",
     "output_type": "stream",
     "text": [
      "\nEpoch 00093: val_loss did not improve from 0.01161\nEpoch 94/100\n"
     ]
    },
    {
     "name": "stdout",
     "output_type": "stream",
     "text": [
      "\r300/300 [==============================] - 3s 12ms/step - loss: 0.0318 - acc: 0.8858 - val_loss: 0.0377 - val_acc: 0.8523\n"
     ]
    },
    {
     "name": "stdout",
     "output_type": "stream",
     "text": [
      "\nEpoch 00094: val_loss did not improve from 0.01161\nEpoch 95/100\n"
     ]
    },
    {
     "name": "stdout",
     "output_type": "stream",
     "text": [
      "\r300/300 [==============================] - 3s 12ms/step - loss: 0.0378 - acc: 0.8497 - val_loss: 0.0856 - val_acc: 0.8324\n"
     ]
    },
    {
     "name": "stdout",
     "output_type": "stream",
     "text": [
      "\nEpoch 00095: val_loss did not improve from 0.01161\nEpoch 96/100\n"
     ]
    },
    {
     "name": "stdout",
     "output_type": "stream",
     "text": [
      "\r300/300 [==============================] - 3s 11ms/step - loss: 0.0856 - acc: 0.8353 - val_loss: 0.0834 - val_acc: 0.8347\n"
     ]
    },
    {
     "name": "stdout",
     "output_type": "stream",
     "text": [
      "\nEpoch 00096: val_loss did not improve from 0.01161\nEpoch 97/100\n"
     ]
    },
    {
     "name": "stdout",
     "output_type": "stream",
     "text": [
      "\r300/300 [==============================] - 3s 11ms/step - loss: 0.0834 - acc: 0.8345 - val_loss: 0.0213 - val_acc: 0.9014\n"
     ]
    },
    {
     "name": "stdout",
     "output_type": "stream",
     "text": [
      "\nEpoch 00097: val_loss did not improve from 0.01161\nEpoch 98/100\n"
     ]
    },
    {
     "name": "stdout",
     "output_type": "stream",
     "text": [
      "\r300/300 [==============================] - 3s 11ms/step - loss: 0.0213 - acc: 0.9007 - val_loss: 0.0086 - val_acc: 0.9357\n"
     ]
    },
    {
     "name": "stdout",
     "output_type": "stream",
     "text": [
      "\nEpoch 00098: val_loss improved from 0.01161 to 0.00863, saving model to Models/Weights/Nominal_weights_ae.hdf5\nEpoch 99/100\n"
     ]
    },
    {
     "name": "stdout",
     "output_type": "stream",
     "text": [
      "\r300/300 [==============================] - 3s 11ms/step - loss: 0.0087 - acc: 0.9368 - val_loss: 0.0074 - val_acc: 0.9499\n"
     ]
    },
    {
     "name": "stdout",
     "output_type": "stream",
     "text": [
      "\nEpoch 00099: val_loss improved from 0.00863 to 0.00745, saving model to Models/Weights/Nominal_weights_ae.hdf5\nEpoch 100/100\n"
     ]
    },
    {
     "name": "stdout",
     "output_type": "stream",
     "text": [
      "\r300/300 [==============================] - 3s 11ms/step - loss: 0.0075 - acc: 0.9492 - val_loss: 0.0090 - val_acc: 0.9347\n"
     ]
    },
    {
     "name": "stdout",
     "output_type": "stream",
     "text": [
      "\nEpoch 00100: val_loss did not improve from 0.00745\n"
     ]
    }
   ],
   "source": [
    "\n",
    "vae.fit(x=trainX_nominal,\n",
    "        y=trainX_nominal,\n",
    "        epochs=100,\n",
    "        validation_data=(valX_nominal,valX_nominal),\n",
    "        batch_size=1024,\n",
    "        callbacks=[checkpointer])\n",
    "vae.load_weights('Models/Weights/Nominal_weights_ae.hdf5')\n"
   ]
  },
  {
   "cell_type": "code",
   "execution_count": 111,
   "metadata": {
    "collapsed": true
   },
   "outputs": [
    {
     "name": "stdout",
     "output_type": "stream",
     "text": [
      "(300, 20)\n"
     ]
    }
   ],
   "source": [
    "vaes = []\n",
    "vaes.append(vae)\n",
    "\n",
    "def return_mask(num, labels):\n",
    "    return np.squeeze(np.argwhere(labels == num))\n",
    "\n",
    "labels = pd.read_csv(\"Data/Boat_nominal_data/Boat_mix_labels.csv\")\n",
    "labels = labels.drop(columns=\"Unnamed: 0\")\n",
    "labels = np.array(labels)\n",
    "\n",
    "masks = [return_mask(num,labels)[:,0] for num in range(0,9)]\n",
    "\n",
    "\n",
    "from sklearn.decomposition import PCA\n",
    "\n",
    "model_index = 0\n",
    "# \n",
    "# for i in vaes:\n",
    "#     encodings.append(i[1].predict(trainX_nominal))\n",
    "\n",
    "encodings = []\n",
    "encodings.append(np.average(encoder.predict(trainX_nominal), axis=1))\n",
    "#encodings.append(encoder.predict(trainX_nominal))\n",
    "print(encodings[0].shape)\n",
    "\n",
    "def check_z_sampling(encoded_values):\n",
    "    m = encoded_values[0]\n",
    "    var = np.exp(0.5*encoded_values[1])\n",
    "    eps = np.random.normal(0,1,latent_dim)\n",
    "    \n",
    "    sampled = []\n",
    "    index = 0\n",
    "    var_zero = np.zeros(10)\n",
    "    for means in m:\n",
    "        sample = means+var[index]*eps\n",
    "        #sample = means+var_zero*eps \n",
    "        sampled.append(sample)\n",
    "        index += 1\n",
    "    \n",
    "    sampled = np.array(sampled)\n",
    "    return sampled\n",
    "\n",
    "def plot_pca(title, type): \n",
    "    x_val = []\n",
    "    y_val= []\n",
    "    for i in range(principalComponents.shape[0]):\n",
    "        x_val.append(principalComponents[i][0])\n",
    "        y_val.append(principalComponents[i][1])\n",
    "    x_val = np.array(x_val)\n",
    "    y_val = np.array(y_val)\n",
    "    \n",
    "    for mask in masks:\n",
    "        plt.scatter(x=x_val[mask], y=y_val[mask], alpha=0.5)\n",
    "\n",
    "    plt.legend(labels=np.arange(0,9))\n",
    "    plt.title(str(title)+\"\"+type)\n",
    "    plt.show()\n",
    "    \n",
    "#print(encodings[0][0][0], encodings[0][1][0], encodings[0][2][0])\n",
    "for i, encod in enumerate(encodings):\n",
    "        latent_values = check_z_sampling(encod)\n",
    "        scaler = StandardScaler()\n",
    "        enc_input = scaler.fit_transform(encod) \n",
    "        pca = PCA(2)\n",
    "        principalComponents = pca.fit_transform(enc_input)\n",
    "        #print(pca.explained_variance_ratio_)\n",
    "        plot_pca('?', '?')\n"
   ]
  },
  {
   "cell_type": "code",
   "execution_count": 112,
   "metadata": {
    "collapsed": true
   },
   "outputs": [
    {
     "name": "stdout",
     "output_type": "stream",
     "text": [
      "(200, 1024, 4)\n(9, 1024, 4)\n(9, 1024, 4)\n(14, 1024, 4)\n(14, 1024, 4)\n(13, 1024, 4)\n(13, 1024, 4)\n(15, 1024, 4)\n(13, 1024, 4)\n"
     ]
    }
   ],
   "source": [
    "runs = []\n",
    "for mask in masks:\n",
    "    run_for_class = trainX_nominal[mask]\n",
    "    print(run_for_class.shape)\n",
    "    runs.append(run_for_class)\n",
    "\n",
    "for j in range(9):    \n",
    "    for i in runs[j]:\n",
    "        run = np.reshape(i, (1, 1024,4))\n",
    "        rec = vaes[0].predict(run)\n",
    "        rec = np.reshape(rec, (len(trainX_nominal[0]), n_features))\n",
    "        reconstruction_df = pd.DataFrame(rec, columns=boat_csv.columns)\n",
    "        plt.plot(reconstruction_df[\"Lon\"], reconstruction_df[\"Lat\"])\n",
    "        #plt.savefig(\"Imgs/Latent_reconstruction/\"+str(title)+\".png\")\n",
    "        plt.show()\n",
    "        break\n",
    "    \n"
   ]
  },
  {
   "cell_type": "code",
   "execution_count": 13,
   "metadata": {
    "collapsed": true
   },
   "outputs": [
    {
     "name": "stdout",
     "output_type": "stream",
     "text": [
      "<class 'numpy.ndarray'> <class 'numpy.int64'>\n"
     ]
    }
   ],
   "source": [
    "\n",
    "encodings = encoder.predict(trainX_nominal)\n",
    "\n",
    "\n",
    "labels = pd.read_csv(\"Data/Boat_nominal_data/Boat_mix_labels.csv\")\n",
    "labels = labels.drop(columns=\"Unnamed: 0\")\n",
    "labels = np.array(labels)\n",
    "\n",
    "mat_mask = np.array([labels for i in range(latent_dim)])\n",
    "print(mat_mask.shape)\n",
    "\n"
   ]
  },
  {
   "cell_type": "code",
   "execution_count": 16,
   "metadata": {
    "collapsed": true
   },
   "outputs": [
    {
     "name": "stdout",
     "output_type": "stream",
     "text": [
      "<class 'numpy.ndarray'> <class 'numpy.int64'>\n"
     ]
    }
   ],
   "source": [
    "from sklearn.decomposition import PCA\n",
    "\n",
    "labels = np.array(pd.read_csv(\"Data/Boat_nominal_data/Boat_mix_labels.csv\")['label']) \n",
    "nominals = np.squeeze(np.argwhere(labels==1))\n",
    "anomalous = np.squeeze(np.argwhere(labels==0))\n",
    "print(type(nominals), type(nominals[0]))\n",
    "\n",
    "model_index = 0\n",
    "\n",
    "titles = [\"Mean\", \"Std\", \"Sampled\"]\n",
    "\n",
    "scaler = StandardScaler()\n",
    "enc_input = scaler.fit_transform(encodings)\n",
    "pca = PCA(n_components=2)\n",
    "principalComponents = pca.fit_transform(enc_input)\n",
    "x_val = []\n",
    "y_val=[]\n",
    "for i in range(principalComponents.shape[0]):\n",
    "    x_val.append(principalComponents[i][0])\n",
    "    y_val.append(principalComponents[i][1])\n",
    "x_val = np.array(x_val)\n",
    "y_val = np.array(y_val)\n",
    "\n",
    "\n",
    "plt.scatter(x=x_val[nominals],y=y_val[nominals], alpha=0.5)\n",
    "plt.scatter(x=x_val[anomalous],y=y_val[anomalous], alpha=0.5)\n",
    "plt.show()\n",
    "\n",
    "\n",
    "from sklearn.manifold import TSNE\n",
    "\n",
    "def tsne(data, title):\n",
    "    tsne = TSNE(n_components=2, random_state=0)\n",
    "    \n",
    "    tsne_obj= tsne.fit_transform(data)\n",
    "    tsne_df = pd.DataFrame({'X':tsne_obj[:,0],\n",
    "                            'Y':tsne_obj[:,1],\n",
    "                            })\n",
    "    \n",
    "    plt.scatter(x=tsne_df[\"X\"][nominals],\n",
    "                y=tsne_df[\"Y\"][nominals], alpha=0.5)\n",
    "    plt.scatter(x=tsne_df[\"X\"][anomalous],\n",
    "                y=tsne_df[\"Y\"][anomalous], alpha=0.5)\n",
    "    plt.title(title)\n",
    "    plt.show()\n",
    "    \n",
    "    return tsne_df\n",
    "\n",
    "tsne_enc_nom_df = tsne(encodings, \"Values\")\n"
   ]
  },
  {
   "cell_type": "code",
   "execution_count": 23,
   "metadata": {
    "collapsed": true
   },
   "outputs": [],
   "source": [
    "def sample_from_latent_space(xCoord, yCoord):\n",
    "    point = np.array([xCoord,yCoord])\n",
    "    latent_point = pca.inverse_transform(point)\n",
    "    return np.reshape(latent_point,(1, latent_dim))\n",
    "\n",
    "def visualize_reconstruction(reconstructed_run, title):\n",
    "    plt.plot(reconstructed_run[\"Lon\"], reconstructed_run[\"Lat\"])\n",
    "    plt.title(title)\n",
    "    plt.show()\n",
    "    # plt.plot(reconstructed_run[\"Sin\"])\n",
    "    # plt.plot(reconstructed_run[\"Cosin\"])\n",
    "    # plt.show()\n",
    "\n",
    "X,Y = np.mgrid[-5:5.1:0.5, -5:5.1:0.5]\n",
    "XY = np.vstack((X.flatten(), Y.flatten())).T\n",
    "\n",
    "point = [0,0]\n",
    "\n",
    "for i in XY:\n",
    "    point = sample_from_latent_space(i[0],i[1])\n",
    "    reconstructed = np.reshape(decoder.predict(point), (len(trainX_nominal[0]),n_features))\n",
    "    visualize_reconstruction(pd.DataFrame(reconstructed, columns=boat_csv.columns), \n",
    "                         title=\"Reconstruction\")\n"
   ]
  },
  {
   "cell_type": "heading",
   "metadata": {
    "collapsed": true
   },
   "level": 1,
   "source": [
    "OLD STUFF\n"
   ]
  },
  {
   "cell_type": "code",
   "execution_count": 20,
   "metadata": {
    "collapsed": true
   },
   "outputs": [],
   "source": [
    "import scipy.cluster.hierarchy as shc\n",
    "from sklearn.cluster import AgglomerativeClustering\n",
    "\n",
    "plt.figure(figsize=(10, 7))\n",
    "plt.title(\"Customer Dendograms\")\n",
    "dend_nom = shc.dendrogram(shc.linkage(tsne_dec_nom_df, method='ward'))\n",
    "dend_anom = shc.dendrogram(shc.linkage(tsne_dec_anom_df, method='ward'))\n",
    "\n"
   ]
  },
  {
   "cell_type": "code",
   "execution_count": 21,
   "metadata": {
    "collapsed": true
   },
   "outputs": [],
   "source": [
    "\n",
    "n_clusters = 4\n",
    "cluster = AgglomerativeClustering(n_clusters=n_clusters, \n",
    "                                  affinity='euclidean',\n",
    "                                  linkage='ward')\n",
    "cl_nom = cluster.fit_predict(tsne_dec_nom_df)\n",
    "cl_anom = cluster.fit_predict(tsne_dec_anom_df)\n",
    "plt.plot(cl_nom)\n",
    "plt.title(\"NOMINAL CLUSTERS\")\n",
    "plt.show()\n",
    "\n",
    "plt.plot(cl_anom)\n",
    "plt.title(\"Anomalous_clusters\")\n",
    "plt.show()"
   ]
  },
  {
   "cell_type": "code",
   "execution_count": 22,
   "metadata": {
    "collapsed": true
   },
   "outputs": [],
   "source": [
    "\n",
    "df_nom = pd.DataFrame(normal_data, columns=boat_csv.columns)\n",
    "df_anom = pd.DataFrame(anomalous_data, columns=boat_anom_csv.columns)\n",
    "def plot_clusters(cl, df, nominal):\n",
    "    for i in range(n_clusters):\n",
    "        cluster = np.squeeze(np.argwhere(cl==i))    \n",
    "        if nominal:\n",
    "            plt.scatter(x=df['Lon'][cluster],y=df[\"Lat\"][cluster],s=5)\n",
    "        else:\n",
    "            plt.scatter(x=df['lon'][cluster],y=df[\"lat\"][cluster],s=5)\n",
    "    plt.show()\n",
    "\n",
    "\n",
    "plot_clusters(cl_nom, df_nom, True)\n",
    "plot_clusters(cl_anom, df_anom, False)\n"
   ]
  },
  {
   "cell_type": "code",
   "execution_count": 32,
   "metadata": {
    "collapsed": true
   },
   "outputs": [],
   "source": [
    "df_nominal = pd.DataFrame(normal_data, columns=boat_csv.columns)\n",
    "df = pd.DataFrame(nom_enc[0])\n",
    "\n",
    "plt.figure(1)\n",
    "axis_list = []\n",
    "\n",
    "for i in range(df.shape[1]):\n",
    "    plt.plot(df[i])\n",
    "\n",
    "plt.show()    "
   ]
  },
  {
   "cell_type": "code",
   "execution_count": 23,
   "metadata": {
    "collapsed": true
   },
   "outputs": [
    {
     "ename": "NameError",
     "evalue": "name 'tsne_enc_df' is not defined",
     "traceback": [
      "\u001b[1;31m---------------------------------------------------------------------------\u001b[0m",
      "\u001b[1;31mNameError\u001b[0m                                 Traceback (most recent call last)",
      "\u001b[1;32m<ipython-input-23-e703b214c579>\u001b[0m in \u001b[0;36m<module>\u001b[1;34m\u001b[0m\n\u001b[0;32m      6\u001b[0m \u001b[0mclusters_normal\u001b[0m \u001b[1;33m=\u001b[0m \u001b[0mkmeans_normal\u001b[0m\u001b[1;33m.\u001b[0m\u001b[0mpredict\u001b[0m\u001b[1;33m(\u001b[0m\u001b[0mnp\u001b[0m\u001b[1;33m.\u001b[0m\u001b[0maverage\u001b[0m\u001b[1;33m(\u001b[0m\u001b[0mtrainX_nominal\u001b[0m\u001b[1;33m,\u001b[0m\u001b[0maxis\u001b[0m\u001b[1;33m=\u001b[0m\u001b[1;36m0\u001b[0m\u001b[1;33m)\u001b[0m\u001b[1;33m)\u001b[0m\u001b[1;33m\u001b[0m\u001b[1;33m\u001b[0m\u001b[0m\n\u001b[0;32m      7\u001b[0m \u001b[1;33m\u001b[0m\u001b[0m\n\u001b[1;32m----> 8\u001b[1;33m \u001b[0mkmeans_enc\u001b[0m \u001b[1;33m=\u001b[0m \u001b[0mKMeans\u001b[0m\u001b[1;33m(\u001b[0m\u001b[0mn_clusters\u001b[0m\u001b[1;33m=\u001b[0m\u001b[1;36m2\u001b[0m\u001b[1;33m,\u001b[0m \u001b[0mrandom_state\u001b[0m\u001b[1;33m=\u001b[0m\u001b[1;36m0\u001b[0m\u001b[1;33m)\u001b[0m\u001b[1;33m.\u001b[0m\u001b[0mfit\u001b[0m\u001b[1;33m(\u001b[0m\u001b[0mtsne_enc_df\u001b[0m\u001b[1;33m)\u001b[0m\u001b[1;33m\u001b[0m\u001b[1;33m\u001b[0m\u001b[0m\n\u001b[0m\u001b[0;32m      9\u001b[0m \u001b[0mclusters_enc\u001b[0m \u001b[1;33m=\u001b[0m \u001b[0mkmeans_enc\u001b[0m\u001b[1;33m.\u001b[0m\u001b[0mpredict\u001b[0m\u001b[1;33m(\u001b[0m\u001b[0mtsne_enc_df\u001b[0m\u001b[1;33m)\u001b[0m\u001b[1;33m\u001b[0m\u001b[1;33m\u001b[0m\u001b[0m\n\u001b[0;32m     10\u001b[0m \u001b[0mplt\u001b[0m\u001b[1;33m.\u001b[0m\u001b[0mplot\u001b[0m\u001b[1;33m(\u001b[0m\u001b[0mclusters_enc\u001b[0m\u001b[1;33m)\u001b[0m\u001b[1;33m\u001b[0m\u001b[1;33m\u001b[0m\u001b[0m\n",
      "\u001b[1;31mNameError\u001b[0m: name 'tsne_enc_df' is not defined"
     ],
     "output_type": "error"
    }
   ],
   "source": [
    "from sklearn.cluster import KMeans\n",
    "cluster_comp = [0,1,2,3]# print(tsne_enc_df)\n",
    "# print(tsne_dec_df)\n",
    "\n",
    "kmeans_normal = KMeans(n_clusters=2, random_state=0).fit(normal_data)\n",
    "clusters_normal = kmeans_normal.predict(np.average(trainX_nominal,axis=0))\n",
    "\n",
    "kmeans_enc = KMeans(n_clusters=2, random_state=0).fit(tsne_enc_df)\n",
    "clusters_enc = kmeans_enc.predict(tsne_enc_df)\n",
    "plt.plot(clusters_enc)\n",
    "plt.show()\n",
    "\n",
    "kmeans_dec = KMeans(n_clusters=2, random_state=0).fit(tsne_dec_df)\n",
    "clusters_dec = kmeans_dec.predict(tsne_dec_df)"
   ]
  },
  {
   "cell_type": "code",
   "execution_count": 25,
   "metadata": {
    "collapsed": true
   },
   "outputs": [
    {
     "ename": "NameError",
     "evalue": "name 'clusters_enc' is not defined",
     "traceback": [
      "\u001b[1;31m---------------------------------------------------------------------------\u001b[0m",
      "\u001b[1;31mNameError\u001b[0m                                 Traceback (most recent call last)",
      "\u001b[1;32m<ipython-input-25-3eff785d6bce>\u001b[0m in \u001b[0;36m<module>\u001b[1;34m\u001b[0m\n\u001b[0;32m     23\u001b[0m \u001b[0mmasks_normal\u001b[0m \u001b[1;33m=\u001b[0m \u001b[0mnp\u001b[0m\u001b[1;33m.\u001b[0m\u001b[0marray\u001b[0m\u001b[1;33m(\u001b[0m\u001b[0mget_mask_list\u001b[0m\u001b[1;33m(\u001b[0m\u001b[0mclusters_normal\u001b[0m\u001b[1;33m)\u001b[0m\u001b[1;33m)\u001b[0m\u001b[1;33m\u001b[0m\u001b[1;33m\u001b[0m\u001b[0m\n\u001b[0;32m     24\u001b[0m \u001b[1;33m\u001b[0m\u001b[0m\n\u001b[1;32m---> 25\u001b[1;33m \u001b[0mmasks_enc\u001b[0m \u001b[1;33m=\u001b[0m \u001b[0mnp\u001b[0m\u001b[1;33m.\u001b[0m\u001b[0marray\u001b[0m\u001b[1;33m(\u001b[0m\u001b[0mget_mask_list\u001b[0m\u001b[1;33m(\u001b[0m\u001b[0mclusters_enc\u001b[0m\u001b[1;33m)\u001b[0m\u001b[1;33m)\u001b[0m\u001b[1;33m\u001b[0m\u001b[1;33m\u001b[0m\u001b[0m\n\u001b[0m\u001b[0;32m     26\u001b[0m \u001b[1;33m\u001b[0m\u001b[0m\n\u001b[0;32m     27\u001b[0m \u001b[0mmasks_dec\u001b[0m \u001b[1;33m=\u001b[0m \u001b[0mnp\u001b[0m\u001b[1;33m.\u001b[0m\u001b[0marray\u001b[0m\u001b[1;33m(\u001b[0m\u001b[0mget_mask_list\u001b[0m\u001b[1;33m(\u001b[0m\u001b[0mclusters_dec\u001b[0m\u001b[1;33m)\u001b[0m\u001b[1;33m)\u001b[0m\u001b[1;33m\u001b[0m\u001b[1;33m\u001b[0m\u001b[0m\n",
      "\u001b[1;31mNameError\u001b[0m: name 'clusters_enc' is not defined"
     ],
     "output_type": "error"
    }
   ],
   "source": [
    "def transform_to_mask(cl_label, clust_obj):\n",
    "    mask = []\n",
    "    part = []\n",
    "    for i, elem in enumerate(clust_obj):\n",
    "        if elem == cl_label:\n",
    "            part.append(i)\n",
    "        else:\n",
    "            if part:\n",
    "                mask.append(part)\n",
    "                part = []\n",
    "            else:\n",
    "                pass\n",
    "    return mask\n",
    "\n",
    "\n",
    "def get_mask_list(clust_obj):\n",
    "    mask_list = []\n",
    "    for i in cluster_comp:\n",
    "        mask_list.append(transform_to_mask(i, clust_obj))\n",
    "    return mask_list\n",
    "\n",
    "\n",
    "masks_normal = np.array(get_mask_list(clusters_normal))\n",
    "\n",
    "masks_enc = np.array(get_mask_list(clusters_enc))\n",
    "\n",
    "masks_dec = np.array(get_mask_list(clusters_dec))\n",
    "\n",
    "print(masks_normal)\n",
    "masks = (masks_normal, masks_enc,masks_dec)\n",
    "print(masks_normal.shape, masks_enc.shape, masks_enc.shape)\n"
   ]
  },
  {
   "cell_type": "code",
   "execution_count": 41,
   "metadata": {},
   "outputs": [
    {
     "name": "stdout",
     "output_type": "stream",
     "text": [
      "(6620, 7)\n"
     ]
    }
   ],
   "source": [
    "def plot_cl(cl, color):\n",
    "    plt.plot(cl[\"lon\"], cl[\"lat\"], color=color)\n",
    "        \n",
    "    \n",
    "def plot_clusters_on_map():\n",
    "    titles = ['Nominal Normal','Nominal Encoded','Nominal Decoded']\n",
    "    color_list = ['blue','green','red','black']\n",
    "    map = anomalous_data[:6620]\n",
    "    print(map.shape)\n",
    "    for k,mask in enumerate(masks):\n",
    "        for i, elem in enumerate(mask):\n",
    "            for j in elem:\n",
    "                cl = pd.DataFrame(map[j], columns=boat_anom_csv.columns)\n",
    "                plot_cl(cl, color_list[i]) \n",
    "        plt.title(titles[k])\n",
    "        plt.show()\n",
    "      \n",
    "               \n",
    "plot_clusters_on_map()\n"
   ]
  },
  {
   "cell_type": "code",
   "execution_count": null,
   "metadata": {},
   "outputs": [],
   "source": []
  }
 ],
 "metadata": {
  "kernelspec": {
   "display_name": "Python 2",
   "language": "python",
   "name": "python2"
  },
  "language_info": {
   "codemirror_mode": {
    "name": "ipython",
    "version": 2
   },
   "file_extension": ".py",
   "mimetype": "text/x-python",
   "name": "python",
   "nbconvert_exporter": "python",
   "pygments_lexer": "ipython2",
   "version": "2.7.6"
  }
 },
 "nbformat": 4,
 "nbformat_minor": 0
}
