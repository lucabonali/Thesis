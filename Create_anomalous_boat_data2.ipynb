{
 "cells": [
  {
   "cell_type": "code",
   "execution_count": 35,
   "metadata": {
    "collapsed": true
   },
   "outputs": [
    {
     "name": "stdout",
     "output_type": "stream",
     "text": [
      "Done\n"
     ]
    }
   ],
   "source": [
    "import matplotlib.pyplot as plt\n",
    "from keras import Sequential\n",
    "import keras as kr\n",
    "from keras.layers import Dense, LSTM\n",
    "import numpy as np\n",
    "import pandas as pd\n",
    "from datetime import datetime\n",
    "from keras.callbacks import TensorBoard\n",
    "from sklearn.manifold import TSNE\n",
    "from sklearn.preprocessing import StandardScaler\n",
    "from sklearn.decomposition import PCA\n",
    "\n",
    "\n",
    "def read_data(data_path):\n",
    "    data = pd.read_csv(data_path)\n",
    "    return data\n",
    "\n",
    "boat_csv = read_data(\"Data/Boat_data.csv\")\n",
    "boat_csv = boat_csv.drop(columns=[\"Unnamed: 0\"])\n",
    "#print(boat_csv)\n"
   ]
  },
  {
   "cell_type": "code",
   "execution_count": 36,
   "metadata": {
    "collapsed": true
   },
   "outputs": [
    {
     "name": "stdout",
     "output_type": "stream",
     "text": [
      "Done\n"
     ]
    }
   ],
   "source": [
    "\n",
    "for i in range(400):\n",
    "    boat_csv.iloc[i+100][\"G_Lon\"] = boat_csv.iloc[i+100][\"G_Lon\"] - i*0.000001 \n",
    "for i in range(200):\n",
    "    boat_csv.iloc[i+200][\"G_Lon\"] = boat_csv.iloc[i+200][\"G_Lon\"] + i*0.000001*2 \n",
    "    pass\n",
    "plt.plot(np.array(boat_csv[\"G_Lon\"]),np.array(boat_csv[\"G_Lat\"]))\n",
    "plt.show()\n",
    "\n",
    "scaler = StandardScaler()\n",
    "normal_data = scaler.fit_transform(boat_csv)\n",
    "\n",
    "normal_df = pd.DataFrame(normal_data, columns=boat_csv.columns)\n",
    "\n",
    "plt.plot(normal_df[\"G_Lon\"], normal_df[\"G_Lat\"])\n",
    "plt.show()\n",
    "\n",
    "normal_df.to_csv(\"Data/Boat_data_curved.csv\")\n",
    "\n",
    "print(\"Done\")\n"
   ]
  },
  {
   "cell_type": "code",
   "execution_count": 20,
   "metadata": {},
   "outputs": [],
   "source": []
  },
  {
   "cell_type": "code",
   "execution_count": null,
   "metadata": {},
   "outputs": [],
   "source": []
  }
 ],
 "metadata": {
  "kernelspec": {
   "display_name": "Python 2",
   "language": "python",
   "name": "python2"
  },
  "language_info": {
   "codemirror_mode": {
    "name": "ipython",
    "version": 2
   },
   "file_extension": ".py",
   "mimetype": "text/x-python",
   "name": "python",
   "nbconvert_exporter": "python",
   "pygments_lexer": "ipython2",
   "version": "2.7.6"
  }
 },
 "nbformat": 4,
 "nbformat_minor": 0
}
