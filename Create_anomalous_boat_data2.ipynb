{
 "cells": [
  {
   "cell_type": "code",
   "execution_count": 9,
   "metadata": {
    "collapsed": true
   },
   "outputs": [
    {
     "name": "stdout",
     "output_type": "stream",
     "text": [
      "         Speed     Degrees  Acceleration       M0C       M1C        Lat  \\\n0     0.252888  245.631688     -1.335609 -1.191920 -0.129304  45.359665   \n1     0.699133  244.039412      0.199949  0.324324 -0.182356  45.359676   \n2     0.440721  248.577589      0.065274 -0.405056 -0.592578  45.359672   \n3     0.149736  247.667356     -0.729609  1.129427 -0.003399  45.359680   \n4     0.245180  247.493050     -0.234328 -0.127677  0.119220  45.359685   \n...        ...         ...           ...       ...       ...        ...   \n5734 -1.049251   67.455244     -1.024958  0.869907 -0.334810  45.359806   \n5735 -0.193745   74.381256      0.497797  0.470691  0.274604  45.359801   \n5736 -0.843213   69.682387      0.421558  0.634288  0.057111  45.359793   \n5737 -0.813915   70.923029      0.442943  0.367144 -0.272330  45.359777   \n5738 -0.477470   64.442178     -0.053143 -0.356348 -0.126609  45.359787   \n\n            Lon  \n0     11.020598  \n1     11.020598  \n2     11.020597  \n3     11.020591  \n4     11.020592  \n...         ...  \n5734  11.021298  \n5735  11.021299  \n5736  11.021302  \n5737  11.021301  \n5738  11.021305  \n\n[5739 rows x 7 columns]\n"
     ]
    }
   ],
   "source": [
    "import matplotlib.pyplot as plt\n",
    "from keras import Sequential\n",
    "import keras as kr\n",
    "from keras.layers import Dense, LSTM\n",
    "import numpy as np\n",
    "import pandas as pd\n",
    "from datetime import datetime\n",
    "from keras.callbacks import TensorBoard\n",
    "from sklearn.manifold import TSNE\n",
    "from sklearn.preprocessing import StandardScaler\n",
    "from sklearn.decomposition import PCA\n",
    "\n",
    "\n",
    "def read_data(data_path):\n",
    "    data = pd.read_csv(data_path)\n",
    "    return data\n",
    "\n",
    "boat_csv = read_data(\"Data/Boat_nominal_data/Boat_nominal_long.csv\")\n",
    "boat_csv = boat_csv.drop(columns=[\"Unnamed: 0\"])\n",
    "boat_csv = boat_csv[0:5739]    \n",
    "print(boat_csv)\n",
    "\n",
    "\n",
    "\n",
    "for i in range(200):\n",
    "    boat_csv.iloc[i+100][\"Lon\"] = boat_csv.iloc[i+100][\"Lon\"] - i*0.000001 \n",
    "for i in range(100):\n",
    "    boat_csv.iloc[i+200][\"Lon\"] = boat_csv.iloc[i+200][\"Lon\"] + i*0.000001*2 \n",
    "    pass\n",
    "\n",
    "\n",
    "\n",
    "plt.plot(np.array(boat_csv[\"Lon\"]),np.array(boat_csv[\"Lat\"]))\n",
    "plt.show()\n",
    "\n",
    "scaler = StandardScaler()\n",
    "normal_data = scaler.fit_transform(boat_csv)\n",
    "\n",
    "normal_df = pd.DataFrame(normal_data, columns=boat_csv.columns)\n"
   ]
  },
  {
   "cell_type": "code",
   "execution_count": 11,
   "metadata": {
    "collapsed": true
   },
   "outputs": [
    {
     "name": "stdout",
     "output_type": "stream",
     "text": [
      "Done\n"
     ]
    }
   ],
   "source": [
    "\n",
    "\n",
    "normal_df.to_csv(\"Data/Boat_data_curved.csv\")\n",
    "\n",
    "print(\"Done\")\n"
   ]
  },
  {
   "cell_type": "code",
   "execution_count": 20,
   "metadata": {},
   "outputs": [],
   "source": []
  },
  {
   "cell_type": "code",
   "execution_count": null,
   "metadata": {},
   "outputs": [],
   "source": []
  }
 ],
 "metadata": {
  "kernelspec": {
   "display_name": "Python 2",
   "language": "python",
   "name": "python2"
  },
  "language_info": {
   "codemirror_mode": {
    "name": "ipython",
    "version": 2
   },
   "file_extension": ".py",
   "mimetype": "text/x-python",
   "name": "python",
   "nbconvert_exporter": "python",
   "pygments_lexer": "ipython2",
   "version": "2.7.6"
  }
 },
 "nbformat": 4,
 "nbformat_minor": 0
}
