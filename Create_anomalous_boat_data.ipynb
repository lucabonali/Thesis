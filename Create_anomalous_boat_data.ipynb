{
 "cells": [
  {
   "cell_type": "code",
   "execution_count": 15,
   "metadata": {
    "collapsed": true
   },
   "outputs": [
    {
     "name": "stdout",
     "output_type": "stream",
     "text": [
      "Index(['speed', 'm0_current', 'm1_current', 'acceleration', 'latitude',\n       'longitude', 'degrees'],\n      dtype='object')\n(6620, 7)\n"
     ]
    }
   ],
   "source": [
    "from keras.layers import *\n",
    "from keras import Model\n",
    "import pandas as pd\n",
    "from sklearn.preprocessing import StandardScaler\n",
    "import matplotlib.pyplot as plt\n",
    "from keras import Sequential\n",
    "import keras as kr\n",
    "import keras.losses as losses\n",
    " \n",
    "columns = ['Speed','m0c','m1c','acc','lat','lon','deg']\n",
    "\n",
    "boat_curved = pd.read_csv(\"Data/Anomalous_boat_data.csv\")\n",
    "boat_curved= boat_curved.drop(columns=[\"Unnamed: 0\", \"heading\"])    \n",
    "print(boat_curved.columns)\n",
    "scaler = StandardScaler()\n",
    "anomalous_data = scaler.fit_transform(boat_curved)\n",
    "anomalous_df = pd.DataFrame(anomalous_data, columns = columns)\n",
    "print(anomalous_data.shape)\n",
    "\n",
    "\n",
    "for i in range(7):\n",
    "    plt.plot(anomalous_df[columns[i]])\n",
    "    plt.title(columns[i])\n",
    "    plt.show()\n",
    "\n",
    "plt.plot(anomalous_df['lon'], anomalous_df['lat'])\n",
    "plt.show()\n"
   ]
  },
  {
   "cell_type": "code",
   "execution_count": null,
   "metadata": {},
   "outputs": [],
   "source": []
  }
 ],
 "metadata": {
  "kernelspec": {
   "display_name": "Python 2",
   "language": "python",
   "name": "python2"
  },
  "language_info": {
   "codemirror_mode": {
    "name": "ipython",
    "version": 2
   },
   "file_extension": ".py",
   "mimetype": "text/x-python",
   "name": "python",
   "nbconvert_exporter": "python",
   "pygments_lexer": "ipython2",
   "version": "2.7.6"
  }
 },
 "nbformat": 4,
 "nbformat_minor": 0
}
