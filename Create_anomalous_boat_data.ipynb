{
 "cells": [
  {
   "cell_type": "code",
   "execution_count": 13,
   "metadata": {
    "collapsed": true
   },
   "outputs": [
    {
     "name": "stdout",
     "output_type": "stream",
     "text": [
      "Index(['speed', 'm0_current', 'm1_current', 'acceleration', 'latitude',\n       'longitude', 'degrees'],\n      dtype='object')\n(6620, 7)\n"
     ]
    },
    {
     "name": "stdout",
     "output_type": "stream",
     "text": [
      "         Speed       m0c       m1c       acc       lat       lon       deg\n0     4.422086 -0.777963 -0.678748  2.412782 -3.556580  0.840828 -3.275324\n1     5.100250 -0.739293  1.598850  4.942267 -3.498659  0.847674  2.321059\n2     5.440515 -1.962318  2.127814 -1.992835 -3.457567  0.811720  2.212916\n3     5.895900  2.661937 -3.249239  0.174993 -3.470486  0.736793  2.383736\n4     4.428923  1.469924 -3.327613 -1.802005 -3.463527  0.787805  2.138177\n...        ...       ...       ...       ...       ...       ...       ...\n6615 -3.269739  0.314175 -1.557380  2.590115 -3.154799  4.693612 -0.736155\n6616 -2.278835 -0.996850  1.518185  4.058405 -3.108980  4.693370 -1.215463\n6617 -1.824440  0.491250 -1.157634  2.024631 -3.125875  4.734821 -1.115648\n6618 -0.322671 -1.482926  1.142134 -4.097147 -3.123130  4.754099 -1.111658\n6619 -2.328655  1.117518  0.421204  0.111786 -3.173295  4.790304 -1.184861\n\n[72820 rows x 7 columns]\n"
     ]
    }
   ],
   "source": [
    "from keras.layers import *\n",
    "from keras import Model\n",
    "import pandas as pd\n",
    "from sklearn.preprocessing import StandardScaler\n",
    "import matplotlib.pyplot as plt\n",
    "from keras import Sequential\n",
    "import keras as kr\n",
    "import keras.losses as losses\n",
    " \n",
    "columns = ['Speed','m0c','m1c','acc','lat','lon','deg']\n",
    "\n",
    "boat_curved = pd.read_csv(\"Data/Anomalous_boat_data.csv\")\n",
    "boat_curved= boat_curved.drop(columns=[\"Unnamed: 0\", \"heading\"])    \n",
    "print(boat_curved.columns)\n",
    "scaler = StandardScaler()\n",
    "anomalous_data = scaler.fit_transform(boat_curved)\n",
    "anomalous_df = pd.DataFrame(anomalous_data, columns = columns)\n",
    "print(anomalous_data.shape)\n",
    "\n",
    "def plot_df(df, title):\n",
    "    for i in range(7-2):\n",
    "        plt.plot(df[columns[i]])\n",
    "        plt.title(columns[i] + \" \" +title)\n",
    "        plt.show()\n",
    "        pass\n",
    "    # plt.plot(df['lon'], df['lat'])\n",
    "    # plt.title(title)\n",
    "    # plt.show()\n",
    "\n",
    "def add_noise(st_devs):\n",
    "    data = np.ones(shape=(6620,7))\n",
    "    for i in range(6620):\n",
    "        for j, value in enumerate(columns):\n",
    "            v = anomalous_data[i][j]\n",
    "            noise = np.random.normal(v, st_devs[j])\n",
    "            data[i][j] = v + noise\n",
    "    return data\n",
    "\n",
    "devs = [0.5,1,1,2,0.03,0.03,0.15]\n",
    "noisy_data = add_noise(devs)\n",
    "noisy_df = pd.DataFrame(noisy_data, columns=columns)\n",
    "\n",
    "\n",
    "lenght = 10\n",
    "for i in range(lenght):\n",
    "    noisy_df = noisy_df.append(pd.DataFrame(add_noise(devs), columns=columns)) \n",
    "    plot_df(noisy_df[-6620:],'ciao')\n",
    "\n",
    "print(noisy_df)\n",
    "\n"
   ]
  },
  {
   "cell_type": "code",
   "execution_count": 14,
   "metadata": {},
   "outputs": [],
   "source": [
    "noisy_df.to_csv(\"Data/Boat_anomalous_Big.csv\")"
   ]
  },
  {
   "cell_type": "code",
   "execution_count": null,
   "metadata": {},
   "outputs": [],
   "source": []
  }
 ],
 "metadata": {
  "kernelspec": {
   "display_name": "Python 2",
   "language": "python",
   "name": "python2"
  },
  "language_info": {
   "codemirror_mode": {
    "name": "ipython",
    "version": 2
   },
   "file_extension": ".py",
   "mimetype": "text/x-python",
   "name": "python",
   "nbconvert_exporter": "python",
   "pygments_lexer": "ipython2",
   "version": "2.7.6"
  }
 },
 "nbformat": 4,
 "nbformat_minor": 0
}
