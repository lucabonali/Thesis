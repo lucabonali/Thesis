{
 "cells": [
  {
   "cell_type": "code",
   "execution_count": 88,
   "metadata": {
    "collapsed": true
   },
   "outputs": [
    {
     "name": "stdout",
     "output_type": "stream",
     "text": [
      "         Speed       m0c       m1c       acc       lat       lon       sin  \\\n0     5.621329  0.289131 -0.312179 -2.135119 -3.548943  0.897262 -0.928684   \n1     5.138855 -0.821228  1.500425  2.775360 -3.483321  0.875290 -0.915923   \n2     6.231602 -1.660474  2.293065 -3.078832 -3.475313  0.763078 -0.924624   \n3     4.697377  1.195294 -1.928085 -1.876235 -3.434160  0.765237 -0.919457   \n4     4.905521  2.426659 -1.390575  3.904188 -3.454338  0.816576 -0.924536   \n...        ...       ...       ...       ...       ...       ...       ...   \n6595 -1.529504 -0.027810 -0.889648 -0.438932 -2.976241  4.414905  0.987395   \n6596 -0.472938 -0.501245  1.534650  0.101797 -2.975422  4.426089  0.977915   \n6597  0.276292  1.965984 -2.097410 -2.520142 -3.022935  4.434338  0.987892   \n6598 -1.561877  1.110594 -0.095172 -4.424351 -2.954052  4.495397  0.999431   \n6599 -1.726300 -1.457063 -1.140267 -0.872076 -3.001786  4.454672  0.985104   \n\n           cos  \n0    -0.370873  \n1    -0.401355  \n2    -0.380882  \n3    -0.393191  \n4    -0.381094  \n...        ...  \n6595 -0.158276  \n6596 -0.209003  \n6597 -0.155144  \n6598  0.033726  \n6599  0.171960  \n\n[72600 rows x 8 columns]\n"
     ]
    }
   ],
   "source": [
    "import math\n",
    "\n",
    "from keras.layers import *\n",
    "import pandas as pd\n",
    "from sklearn.preprocessing import StandardScaler\n",
    "import matplotlib.pyplot as plt\n",
    " \n",
    "columns = ['Speed','m0c','m1c','acc','lat','lon']\n",
    "\n",
    "boat_curved = pd.read_csv(\"Data/Anomalous_boat_data.csv\")\n",
    "boat_curved= boat_curved.drop(columns=[\"Unnamed: 0\", \"heading\"])    \n",
    "boat_curved['degrees'][0] = 250\n",
    "boat_curved= boat_curved[:6600]\n",
    "scaler = StandardScaler()\n",
    "anomalous_data = scaler.fit_transform(boat_curved.drop(columns=['degrees']))\n",
    "anomalous_df = pd.DataFrame(anomalous_data, columns=columns)\n",
    "\n",
    "def add_noise(st_devs):\n",
    "    data = np.ones(shape=(6600,6))\n",
    "    for i in range(6600):\n",
    "        for j, value in enumerate(columns):\n",
    "            v = anomalous_data[i][j]\n",
    "            noise = np.random.normal(v, st_devs[j])\n",
    "            data[i][j] = v + noise\n",
    "    return data\n",
    "\n",
    "columns_new = ['Speed', 'm0c', 'm1c', 'acc', 'lat', 'lon', 'sin', 'cos']\n",
    "\n",
    "devs = [0.5, 1, 1, 2, 0.03, 0.03]\n",
    "noisy_data = add_noise(devs)\n",
    "zeros = np.zeros(shape=(6600,8))\n",
    "zeros[:noisy_data.shape[0], :noisy_data.shape[1]] = noisy_data\n",
    "noisy_data = zeros\n",
    "noisy_df = pd.DataFrame(noisy_data, columns=columns_new)\n",
    "\n",
    "\n",
    "\n",
    "id_list = []\n",
    "def sin_cos():\n",
    "    sins = []\n",
    "    cosins = []\n",
    "    for i, degree in enumerate(boat_curved[\"degrees\"]):\n",
    "        value = degree + np.random.normal(0, 2)\n",
    "        sin = np.sin(np.deg2rad(value))\n",
    "        cos = np.cos(np.deg2rad(value))\n",
    "        id_list.append(sin**2+cos**2)\n",
    "        sins.append(sin)\n",
    "        cosins.append(cos)\n",
    "    return sins, cosins    \n",
    "\n",
    "sin,cos = sin_cos()\n",
    "noisy_df['sin'] = sin\n",
    "noisy_df['cos'] = cos\n",
    "\n",
    "lenght = 10\n",
    "for i in range(lenght):\n",
    "    new_data = pd.DataFrame(add_noise(devs), columns=columns)\n",
    "    sin, cos = sin_cos()\n",
    "    new_data['sin'] = sin\n",
    "    new_data['cos'] = cos\n",
    "    noisy_df = noisy_df.append(new_data) \n",
    "# \n",
    "# plt.plot(noisy_df['sin'][6620:13240])\n",
    "# plt.plot(noisy_df['cos'][6620:13240])\n",
    "# plt.title(\"Sins-Cosins\")\n",
    "# plt.show()\n",
    "# \n",
    "# plt.plot(id_list)\n",
    "# plt.title(\"IDLIST\")\n",
    "# plt.show()\n",
    "# \n",
    "# plt.plot(boat_curved['degrees'][:6620])\n",
    "# plt.title(\"DEGREES\")\n",
    "# plt.show()\n",
    "\n",
    "\n",
    "print(noisy_df)\n",
    "\n"
   ]
  },
  {
   "cell_type": "code",
   "execution_count": 89,
   "metadata": {},
   "outputs": [],
   "source": [
    "noisy_df.to_csv(\"Data/Boat_anomalous_Big.csv\")"
   ]
  },
  {
   "cell_type": "code",
   "execution_count": null,
   "metadata": {},
   "outputs": [],
   "source": []
  }
 ],
 "metadata": {
  "kernelspec": {
   "display_name": "Python 2",
   "language": "python",
   "name": "python2"
  },
  "language_info": {
   "codemirror_mode": {
    "name": "ipython",
    "version": 2
   },
   "file_extension": ".py",
   "mimetype": "text/x-python",
   "name": "python",
   "nbconvert_exporter": "python",
   "pygments_lexer": "ipython2",
   "version": "2.7.6"
  }
 },
 "nbformat": 4,
 "nbformat_minor": 0
}
