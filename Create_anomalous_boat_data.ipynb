{
 "cells": [
  {
   "cell_type": "code",
   "execution_count": 4,
   "metadata": {
    "collapsed": true
   },
   "outputs": [
    {
     "name": "stdout",
     "output_type": "stream",
     "text": [
      "         Speed       m0c       m1c       acc       lat       lon       sin  \\\n0     4.727042  1.211135  0.319713  0.963110 -3.494182  0.893308 -0.931652   \n1     5.996897 -0.956716  1.968090  1.993158 -3.525949  0.831522 -0.947293   \n2     6.931250 -2.101735  1.150638 -5.347093 -3.467695  0.782439 -0.907227   \n3     4.988403  0.954801  0.482011 -1.175013 -3.443318  0.787395 -0.919837   \n4     5.268159  0.967480 -2.293241 -0.610502 -3.429674  0.795345 -0.922596   \n...        ...       ...       ...       ...       ...       ...       ...   \n6595 -0.518240 -0.720287 -1.202694  1.040152 -2.948955  4.345733  0.980194   \n6596  0.461944 -1.116251  2.872071  0.836972 -3.006043  4.390318  0.990572   \n6597  0.230013 -0.574882 -2.013143 -3.593722 -2.985166  4.421186  0.993796   \n6598 -1.110622  0.585431  0.182326 -3.274700 -2.973222  4.457709  0.999497   \n6599 -1.537429 -0.291918 -0.333150  2.034964 -3.016558  4.439984  0.983534   \n\n           cos  \n0    -0.363352  \n1    -0.320368  \n2    -0.420641  \n3    -0.392301  \n4    -0.385768  \n...        ...  \n6595 -0.198042  \n6596 -0.136995  \n6597 -0.111216  \n6598  0.031716  \n6599  0.180724  \n\n[13200 rows x 8 columns]\n"
     ]
    }
   ],
   "source": [
    "import math\n",
    "\n",
    "from keras.layers import *\n",
    "import pandas as pd\n",
    "from sklearn.preprocessing import StandardScaler\n",
    "import matplotlib.pyplot as plt\n",
    " \n",
    "columns = ['Speed','m0c','m1c','acc','lat','lon']\n",
    "\n",
    "boat_curved = pd.read_csv(\"Data/Anomalous_boat_data.csv\")\n",
    "boat_curved= boat_curved.drop(columns=[\"Unnamed: 0\", \"heading\"])    \n",
    "boat_curved['degrees'][0] = 250\n",
    "boat_curved= boat_curved[:6600]\n",
    "scaler = StandardScaler()\n",
    "anomalous_data = scaler.fit_transform(boat_curved.drop(columns=['degrees']))\n",
    "anomalous_df = pd.DataFrame(anomalous_data, columns=columns)\n",
    "\n",
    "def add_noise(st_devs):\n",
    "    data = np.ones(shape=(6600,6))\n",
    "    for i in range(6600):\n",
    "        for j, value in enumerate(columns):\n",
    "            v = anomalous_data[i][j]\n",
    "            noise = np.random.normal(v, st_devs[j])\n",
    "            data[i][j] = v + noise\n",
    "    return data\n",
    "\n",
    "columns_new = ['Speed', 'm0c', 'm1c', 'acc', 'lat', 'lon', 'sin', 'cos']\n",
    "\n",
    "devs = [0.5, 1, 1, 2, 0.03, 0.03]\n",
    "noisy_data = add_noise(devs)\n",
    "zeros = np.zeros(shape=(6600,8))\n",
    "zeros[:noisy_data.shape[0], :noisy_data.shape[1]] = noisy_data\n",
    "noisy_data = zeros\n",
    "noisy_df = pd.DataFrame(noisy_data, columns=columns_new)\n",
    "\n",
    "\n",
    "\n",
    "id_list = []\n",
    "def sin_cos():\n",
    "    sins = []\n",
    "    cosins = []\n",
    "    for i, degree in enumerate(boat_curved[\"degrees\"]):\n",
    "        value = degree + np.random.normal(0, 2)\n",
    "        sin = np.sin(np.deg2rad(value))\n",
    "        cos = np.cos(np.deg2rad(value))\n",
    "        id_list.append(sin**2+cos**2)\n",
    "        sins.append(sin)\n",
    "        cosins.append(cos)\n",
    "    return sins, cosins    \n",
    "\n",
    "sin,cos = sin_cos()\n",
    "noisy_df['sin'] = sin\n",
    "noisy_df['cos'] = cos\n",
    "\n",
    "lenght = 1\n",
    "for i in range(lenght):\n",
    "    new_data = pd.DataFrame(add_noise(devs), columns=columns)\n",
    "    sin, cos = sin_cos()\n",
    "    new_data['sin'] = sin\n",
    "    new_data['cos'] = cos\n",
    "    noisy_df = noisy_df.append(new_data) \n",
    "# \n",
    "# plt.plot(noisy_df['sin'][6620:13240])\n",
    "# plt.plot(noisy_df['cos'][6620:13240])\n",
    "# plt.title(\"Sins-Cosins\")\n",
    "# plt.show()\n",
    "# \n",
    "# plt.plot(id_list)\n",
    "# plt.title(\"IDLIST\")\n",
    "# plt.show()\n",
    "# \n",
    "# plt.plot(boat_curved['degrees'][:6620])\n",
    "# plt.title(\"DEGREES\")\n",
    "# plt.show()\n",
    "\n",
    "\n",
    "print(noisy_df)\n",
    "\n"
   ]
  },
  {
   "cell_type": "code",
   "execution_count": 5,
   "metadata": {},
   "outputs": [],
   "source": [
    "noisy_df.to_csv(\"Data/Boat_anomalous_validation.csv\")"
   ]
  },
  {
   "cell_type": "code",
   "execution_count": null,
   "metadata": {},
   "outputs": [],
   "source": []
  }
 ],
 "metadata": {
  "kernelspec": {
   "display_name": "Python 2",
   "language": "python",
   "name": "python2"
  },
  "language_info": {
   "codemirror_mode": {
    "name": "ipython",
    "version": 2
   },
   "file_extension": ".py",
   "mimetype": "text/x-python",
   "name": "python",
   "nbconvert_exporter": "python",
   "pygments_lexer": "ipython2",
   "version": "2.7.6"
  }
 },
 "nbformat": 4,
 "nbformat_minor": 0
}
