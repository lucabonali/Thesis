{
 "cells": [
  {
   "cell_type": "code",
   "execution_count": 65,
   "metadata": {
    "collapsed": true
   },
   "outputs": [
    {
     "name": "stdout",
     "output_type": "stream",
     "text": [
      "Index(['speed', 'm0_current', 'm1_current', 'acceleration', 'latitude',\n       'longitude', 'degrees'],\n      dtype='object')\n(6620, 7)\n"
     ]
    }
   ],
   "source": [
    "from keras.layers import *\n",
    "from keras import Model\n",
    "import pandas as pd\n",
    "from sklearn.preprocessing import StandardScaler\n",
    "import matplotlib.pyplot as plt\n",
    "from keras import Sequential\n",
    "import keras as kr\n",
    "import keras.losses as losses\n",
    " \n",
    "columns = ['Speed','m0c','m1c','acc','lat','lon','deg']\n",
    "\n",
    "boat_curved = pd.read_csv(\"Data/Anomalous_boat_data.csv\")\n",
    "boat_curved= boat_curved.drop(columns=[\"Unnamed: 0\", \"heading\"])    \n",
    "print(boat_curved.columns)\n",
    "scaler = StandardScaler()\n",
    "anomalous_data = scaler.fit_transform(boat_curved)\n",
    "anomalous_df = pd.DataFrame(anomalous_data, columns = columns)\n",
    "print(anomalous_data.shape)\n",
    "\n",
    "def plot_df(df, title):\n",
    "    for i in range(7):\n",
    "        plt.plot(df[columns[i]][:-6])\n",
    "        plt.title(columns[i] + \" \" +title)\n",
    "        plt.show()\n",
    "        pass\n",
    "    plt.plot(df['lon'], df['lat'])\n",
    "    plt.title(title)\n",
    "    plt.show()\n",
    "\n",
    "def add_noise(st_devs):\n",
    "    data = np.ones(shape=(6620,7))\n",
    "    for i in range(6620):\n",
    "        for j, value in enumerate(columns):\n",
    "            v = anomalous_data[i][j]\n",
    "            noise = np.random.normal(v, st_devs[j])\n",
    "            data[i][j] = v + noise\n",
    "    return data\n",
    "\n",
    "devs = [0.5,1,1,2,0.01,0.01,0.15]\n",
    "noisy_data = add_noise(devs)\n",
    "noisy_df = pd.DataFrame(noisy_data, columns=columns)\n",
    "plot_df(anomalous_df, 'anomalous')\n",
    "plot_df(noisy_df, 'noisy')    \n",
    "\n",
    "\n",
    "\n",
    "\n",
    "\n"
   ]
  },
  {
   "cell_type": "code",
   "execution_count": null,
   "metadata": {},
   "outputs": [],
   "source": []
  }
 ],
 "metadata": {
  "kernelspec": {
   "display_name": "Python 2",
   "language": "python",
   "name": "python2"
  },
  "language_info": {
   "codemirror_mode": {
    "name": "ipython",
    "version": 2
   },
   "file_extension": ".py",
   "mimetype": "text/x-python",
   "name": "python",
   "nbconvert_exporter": "python",
   "pygments_lexer": "ipython2",
   "version": "2.7.6"
  }
 },
 "nbformat": 4,
 "nbformat_minor": 0
}
