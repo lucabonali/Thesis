{
 "cells": [
  {
   "cell_type": "code",
   "execution_count": 3,
   "metadata": {
    "collapsed": true
   },
   "outputs": [
    {
     "name": "stdout",
     "output_type": "stream",
     "text": [
      "Done\n"
     ]
    }
   ],
   "source": [
    "from keras.layers import *\n",
    "from keras.layers import LSTM, RepeatVector\n",
    "from keras import Model, objectives\n",
    "import pandas as pd\n",
    "from sklearn.preprocessing import StandardScaler\n",
    "import matplotlib.pyplot as plt\n",
    "from keras import Sequential\n",
    "import keras as kr\n",
    "\n",
    "def create_lstm_vae(input_dim,\n",
    "                    timesteps,\n",
    "                    batch_size,\n",
    "                    intermediate_dim=75,\n",
    "                    latent_dim=7,\n",
    "                    epsilon_std=1.):\n",
    " \n",
    "    x = Input(shape=(timesteps, input_dim,))\n",
    "\n",
    "    print(K.shape(x))\n",
    "    h = LSTM(intermediate_dim)(x)\n",
    "\n",
    "    z_mean = Dense(latent_dim)(h)\n",
    "    z_log_sigma = Dense(latent_dim)(h)\n",
    "\n",
    "    def sampling(args):\n",
    "        z_mean, z_log_sigma = args\n",
    "        epsilon = K.random_normal(shape=(375, latent_dim),\n",
    "                                  mean=0., stddev=epsilon_std)\n",
    "        return z_mean + z_log_sigma * epsilon\n",
    "\n",
    "    z = Lambda(sampling, output_shape=(latent_dim,))([z_mean, z_log_sigma])\n",
    "\n",
    "    decoder_h = LSTM(intermediate_dim, return_sequences=True)\n",
    "    decoder_mean = LSTM(input_dim, return_sequences=True)\n",
    "\n",
    "    h_decoded = RepeatVector(timesteps)(z)\n",
    "    h_decoded = decoder_h(h_decoded)\n",
    "\n",
    "    x_decoded_mean = decoder_mean(h_decoded)\n",
    "\n",
    "    vae = Model(x, x_decoded_mean)\n",
    "    \n",
    "    encoder = Model(x, z_mean)\n",
    "\n",
    "    decoder_input = Input(shape=(latent_dim,))\n",
    "\n",
    "    _h_decoded = RepeatVector(timesteps)(decoder_input)\n",
    "    _h_decoded = decoder_h(_h_decoded)\n",
    "\n",
    "    _x_decoded_mean = decoder_mean(_h_decoded)\n",
    "    generator = Model(decoder_input, _x_decoded_mean)\n",
    "\n",
    "    def vae_loss(x, x_decoded_mean):\n",
    "        xent_loss = objectives.mse(x, x_decoded_mean)\n",
    "        kl_loss = - 0.5 * K.mean(1 + z_log_sigma - K.square(z_mean) - K.exp(z_log_sigma))\n",
    "        loss = xent_loss + kl_loss\n",
    "        return loss\n",
    "\n",
    "    print(\"Compiling\")\n",
    "    vae.compile(optimizer='rmsprop', loss=vae_loss, metrics=['accuracy'])\n",
    "    vae.summary()\n",
    "    return vae, encoder, generator\n",
    "\n",
    "print(\"Done\")\n"
   ]
  },
  {
   "cell_type": "code",
   "execution_count": 5,
   "metadata": {
    "collapsed": true
   },
   "outputs": [
    {
     "name": "stdout",
     "output_type": "stream",
     "text": [
      "Done\n"
     ]
    }
   ],
   "source": [
    "def read_data(data_path):\n",
    "    data = pd.read_csv(data_path)\n",
    "    return data\n",
    "\n",
    "boat_csv = read_data(\"Data/Boat_data.csv\")\n",
    "boat_csv = boat_csv.drop(columns=[\"Unnamed: 0\"])\n",
    "boat_csv = boat_csv.drop(boat_csv.index[-39:])\n",
    "scaler = StandardScaler()\n",
    "normal_data = scaler.fit_transform(boat_csv)\n",
    "\n",
    "boat_csv = read_data(\"Data/Anomalous_boat_data.csv\")\n",
    "boat_csv = boat_csv.drop(columns=[\"Unnamed: 0\", \"heading\"])\n",
    "boat_csv = boat_csv.drop(boat_csv.index[-20:])    \n",
    "scaler = StandardScaler()\n",
    "anomalous_data = scaler.fit_transform(boat_csv)\n",
    "\n",
    "print(\"Done\")"
   ]
  },
  {
   "cell_type": "code",
   "execution_count": 6,
   "metadata": {
    "collapsed": true
   },
   "outputs": [
    {
     "name": "stdout",
     "output_type": "stream",
     "text": [
      "(375, 75, 7)\n(435, 75, 7)\n"
     ]
    }
   ],
   "source": [
    "batch_size, timesteps = 75 , 75\n",
    "interval = 15\n",
    "def prepare_sequences(data):\n",
    "    samples = []\n",
    "    for i in range(0,data.shape[0] - batch_size, interval ):\n",
    "        sample = data[i:i+batch_size]\t\n",
    "        samples.append(sample)\n",
    "        \n",
    "    sequences = np.array(samples)\n",
    "    \n",
    "    # Batch size (Number of samples time steps and number of features\n",
    "    trainX = np.reshape(sequences, (len(sequences), batch_size, 7))\n",
    "    \n",
    "    return trainX\n",
    "\n",
    "trainX_nominal = prepare_sequences(normal_data) \n",
    "print(trainX_nominal.shape)\n",
    "\n",
    "input_length = trainX_nominal.shape[0]\n",
    "trainX_anomalous = prepare_sequences(anomalous_data)\n",
    "print(trainX_anomalous.shape)  \n"
   ]
  },
  {
   "cell_type": "code",
   "execution_count": 8,
   "metadata": {
    "collapsed": true
   },
   "outputs": [
    {
     "name": "stdout",
     "output_type": "stream",
     "text": [
      "Tensor(\"Shape_1:0\", shape=(3,), dtype=int32)\n"
     ]
    },
    {
     "name": "stdout",
     "output_type": "stream",
     "text": [
      "Compiling\n__________________________________________________________________________________________________\nLayer (type)                    Output Shape         Param #     Connected to                     \n==================================================================================================\ninput_3 (InputLayer)            (None, 75, 7)        0                                            \n__________________________________________________________________________________________________\nlstm_4 (LSTM)                   (None, 75)           24900       input_3[0][0]                    \n__________________________________________________________________________________________________\ndense_3 (Dense)                 (None, 7)            532         lstm_4[0][0]                     \n__________________________________________________________________________________________________\ndense_4 (Dense)                 (None, 7)            532         lstm_4[0][0]                     \n__________________________________________________________________________________________________\nlambda_2 (Lambda)               (None, 7)            0           dense_3[0][0]                    \n                                                                 dense_4[0][0]                    \n__________________________________________________________________________________________________\nrepeat_vector_3 (RepeatVector)  (None, 75, 7)        0           lambda_2[0][0]                   \n__________________________________________________________________________________________________\nlstm_5 (LSTM)                   (None, 75, 75)       24900       repeat_vector_3[0][0]            \n__________________________________________________________________________________________________\nlstm_6 (LSTM)                   (None, 75, 7)        2324        lstm_5[0][0]                     \n==================================================================================================\nTotal params: 53,188\nTrainable params: 53,188\nNon-trainable params: 0\n__________________________________________________________________________________________________\nDone\n"
     ]
    }
   ],
   "source": [
    "epochs = 1\n",
    "vae, encoder, generator = create_lstm_vae(input_dim=7,timesteps=timesteps,\n",
    "                                          batch_size=375,\n",
    "                                          intermediate_dim=75,latent_dim=7)\n",
    "print(\"Done\")\n"
   ]
  },
  {
   "cell_type": "code",
   "execution_count": 25,
   "metadata": {
    "collapsed": true
   },
   "outputs": [
    {
     "name": "stdout",
     "output_type": "stream",
     "text": [
      "Epoch 1/1\n"
     ]
    },
    {
     "ename": "InvalidArgumentError",
     "evalue": "Incompatible shapes: [375] vs. [75]\n\t [[{{node training_3/RMSprop/gradients/loss_5/lstm_18_loss/mul_1_grad/BroadcastGradientArgs}}]]",
     "traceback": [
      "\u001b[1;31m---------------------------------------------------------------------------\u001b[0m",
      "\u001b[1;31mInvalidArgumentError\u001b[0m                      Traceback (most recent call last)",
      "\u001b[1;32m<ipython-input-25-cdf94dcb1cc2>\u001b[0m in \u001b[0;36m<module>\u001b[1;34m\u001b[0m\n\u001b[0;32m      1\u001b[0m \u001b[1;33m\u001b[0m\u001b[0m\n\u001b[0;32m      2\u001b[0m vae.fit(x=trainX_nominal, y=trainX_nominal, epochs=epochs, \n\u001b[1;32m----> 3\u001b[1;33m         batch_size=batch_size)\n\u001b[0m\u001b[0;32m      4\u001b[0m \u001b[1;33m\u001b[0m\u001b[0m\n\u001b[0;32m      5\u001b[0m \u001b[0mvae\u001b[0m\u001b[1;33m.\u001b[0m\u001b[0msave\u001b[0m\u001b[1;33m(\u001b[0m\u001b[1;34m\"Models/Nominal_LSTM_VAE.model\"\u001b[0m\u001b[1;33m)\u001b[0m\u001b[1;33m\u001b[0m\u001b[1;33m\u001b[0m\u001b[0m\n",
      "\u001b[1;32m~\\Anaconda3\\envs\\Lstm_vae_boat_data\\lib\\site-packages\\keras\\engine\\training.py\u001b[0m in \u001b[0;36mfit\u001b[1;34m(self, x, y, batch_size, epochs, verbose, callbacks, validation_split, validation_data, shuffle, class_weight, sample_weight, initial_epoch, steps_per_epoch, validation_steps, **kwargs)\u001b[0m\n\u001b[0;32m   1037\u001b[0m                                         \u001b[0minitial_epoch\u001b[0m\u001b[1;33m=\u001b[0m\u001b[0minitial_epoch\u001b[0m\u001b[1;33m,\u001b[0m\u001b[1;33m\u001b[0m\u001b[1;33m\u001b[0m\u001b[0m\n\u001b[0;32m   1038\u001b[0m                                         \u001b[0msteps_per_epoch\u001b[0m\u001b[1;33m=\u001b[0m\u001b[0msteps_per_epoch\u001b[0m\u001b[1;33m,\u001b[0m\u001b[1;33m\u001b[0m\u001b[1;33m\u001b[0m\u001b[0m\n\u001b[1;32m-> 1039\u001b[1;33m                                         validation_steps=validation_steps)\n\u001b[0m\u001b[0;32m   1040\u001b[0m \u001b[1;33m\u001b[0m\u001b[0m\n\u001b[0;32m   1041\u001b[0m     def evaluate(self, x=None, y=None,\n",
      "\u001b[1;32m~\\Anaconda3\\envs\\Lstm_vae_boat_data\\lib\\site-packages\\keras\\engine\\training_arrays.py\u001b[0m in \u001b[0;36mfit_loop\u001b[1;34m(model, f, ins, out_labels, batch_size, epochs, verbose, callbacks, val_f, val_ins, shuffle, callback_metrics, initial_epoch, steps_per_epoch, validation_steps)\u001b[0m\n\u001b[0;32m    197\u001b[0m                     \u001b[0mins_batch\u001b[0m\u001b[1;33m[\u001b[0m\u001b[0mi\u001b[0m\u001b[1;33m]\u001b[0m \u001b[1;33m=\u001b[0m \u001b[0mins_batch\u001b[0m\u001b[1;33m[\u001b[0m\u001b[0mi\u001b[0m\u001b[1;33m]\u001b[0m\u001b[1;33m.\u001b[0m\u001b[0mtoarray\u001b[0m\u001b[1;33m(\u001b[0m\u001b[1;33m)\u001b[0m\u001b[1;33m\u001b[0m\u001b[1;33m\u001b[0m\u001b[0m\n\u001b[0;32m    198\u001b[0m \u001b[1;33m\u001b[0m\u001b[0m\n\u001b[1;32m--> 199\u001b[1;33m                 \u001b[0mouts\u001b[0m \u001b[1;33m=\u001b[0m \u001b[0mf\u001b[0m\u001b[1;33m(\u001b[0m\u001b[0mins_batch\u001b[0m\u001b[1;33m)\u001b[0m\u001b[1;33m\u001b[0m\u001b[1;33m\u001b[0m\u001b[0m\n\u001b[0m\u001b[0;32m    200\u001b[0m                 \u001b[0mouts\u001b[0m \u001b[1;33m=\u001b[0m \u001b[0mto_list\u001b[0m\u001b[1;33m(\u001b[0m\u001b[0mouts\u001b[0m\u001b[1;33m)\u001b[0m\u001b[1;33m\u001b[0m\u001b[1;33m\u001b[0m\u001b[0m\n\u001b[0;32m    201\u001b[0m                 \u001b[1;32mfor\u001b[0m \u001b[0ml\u001b[0m\u001b[1;33m,\u001b[0m \u001b[0mo\u001b[0m \u001b[1;32min\u001b[0m \u001b[0mzip\u001b[0m\u001b[1;33m(\u001b[0m\u001b[0mout_labels\u001b[0m\u001b[1;33m,\u001b[0m \u001b[0mouts\u001b[0m\u001b[1;33m)\u001b[0m\u001b[1;33m:\u001b[0m\u001b[1;33m\u001b[0m\u001b[1;33m\u001b[0m\u001b[0m\n",
      "\u001b[1;32m~\\Anaconda3\\envs\\Lstm_vae_boat_data\\lib\\site-packages\\keras\\backend\\tensorflow_backend.py\u001b[0m in \u001b[0;36m__call__\u001b[1;34m(self, inputs)\u001b[0m\n\u001b[0;32m   2713\u001b[0m                 \u001b[1;32mreturn\u001b[0m \u001b[0mself\u001b[0m\u001b[1;33m.\u001b[0m\u001b[0m_legacy_call\u001b[0m\u001b[1;33m(\u001b[0m\u001b[0minputs\u001b[0m\u001b[1;33m)\u001b[0m\u001b[1;33m\u001b[0m\u001b[1;33m\u001b[0m\u001b[0m\n\u001b[0;32m   2714\u001b[0m \u001b[1;33m\u001b[0m\u001b[0m\n\u001b[1;32m-> 2715\u001b[1;33m             \u001b[1;32mreturn\u001b[0m \u001b[0mself\u001b[0m\u001b[1;33m.\u001b[0m\u001b[0m_call\u001b[0m\u001b[1;33m(\u001b[0m\u001b[0minputs\u001b[0m\u001b[1;33m)\u001b[0m\u001b[1;33m\u001b[0m\u001b[1;33m\u001b[0m\u001b[0m\n\u001b[0m\u001b[0;32m   2716\u001b[0m         \u001b[1;32melse\u001b[0m\u001b[1;33m:\u001b[0m\u001b[1;33m\u001b[0m\u001b[1;33m\u001b[0m\u001b[0m\n\u001b[0;32m   2717\u001b[0m             \u001b[1;32mif\u001b[0m \u001b[0mpy_any\u001b[0m\u001b[1;33m(\u001b[0m\u001b[0mis_tensor\u001b[0m\u001b[1;33m(\u001b[0m\u001b[0mx\u001b[0m\u001b[1;33m)\u001b[0m \u001b[1;32mfor\u001b[0m \u001b[0mx\u001b[0m \u001b[1;32min\u001b[0m \u001b[0minputs\u001b[0m\u001b[1;33m)\u001b[0m\u001b[1;33m:\u001b[0m\u001b[1;33m\u001b[0m\u001b[1;33m\u001b[0m\u001b[0m\n",
      "\u001b[1;32m~\\Anaconda3\\envs\\Lstm_vae_boat_data\\lib\\site-packages\\keras\\backend\\tensorflow_backend.py\u001b[0m in \u001b[0;36m_call\u001b[1;34m(self, inputs)\u001b[0m\n\u001b[0;32m   2673\u001b[0m             \u001b[0mfetched\u001b[0m \u001b[1;33m=\u001b[0m \u001b[0mself\u001b[0m\u001b[1;33m.\u001b[0m\u001b[0m_callable_fn\u001b[0m\u001b[1;33m(\u001b[0m\u001b[1;33m*\u001b[0m\u001b[0marray_vals\u001b[0m\u001b[1;33m,\u001b[0m \u001b[0mrun_metadata\u001b[0m\u001b[1;33m=\u001b[0m\u001b[0mself\u001b[0m\u001b[1;33m.\u001b[0m\u001b[0mrun_metadata\u001b[0m\u001b[1;33m)\u001b[0m\u001b[1;33m\u001b[0m\u001b[1;33m\u001b[0m\u001b[0m\n\u001b[0;32m   2674\u001b[0m         \u001b[1;32melse\u001b[0m\u001b[1;33m:\u001b[0m\u001b[1;33m\u001b[0m\u001b[1;33m\u001b[0m\u001b[0m\n\u001b[1;32m-> 2675\u001b[1;33m             \u001b[0mfetched\u001b[0m \u001b[1;33m=\u001b[0m \u001b[0mself\u001b[0m\u001b[1;33m.\u001b[0m\u001b[0m_callable_fn\u001b[0m\u001b[1;33m(\u001b[0m\u001b[1;33m*\u001b[0m\u001b[0marray_vals\u001b[0m\u001b[1;33m)\u001b[0m\u001b[1;33m\u001b[0m\u001b[1;33m\u001b[0m\u001b[0m\n\u001b[0m\u001b[0;32m   2676\u001b[0m         \u001b[1;32mreturn\u001b[0m \u001b[0mfetched\u001b[0m\u001b[1;33m[\u001b[0m\u001b[1;33m:\u001b[0m\u001b[0mlen\u001b[0m\u001b[1;33m(\u001b[0m\u001b[0mself\u001b[0m\u001b[1;33m.\u001b[0m\u001b[0moutputs\u001b[0m\u001b[1;33m)\u001b[0m\u001b[1;33m]\u001b[0m\u001b[1;33m\u001b[0m\u001b[1;33m\u001b[0m\u001b[0m\n\u001b[0;32m   2677\u001b[0m \u001b[1;33m\u001b[0m\u001b[0m\n",
      "\u001b[1;32m~\\Anaconda3\\envs\\Lstm_vae_boat_data\\lib\\site-packages\\tensorflow\\python\\client\\session.py\u001b[0m in \u001b[0;36m__call__\u001b[1;34m(self, *args, **kwargs)\u001b[0m\n\u001b[0;32m   1456\u001b[0m         ret = tf_session.TF_SessionRunCallable(self._session._session,\n\u001b[0;32m   1457\u001b[0m                                                \u001b[0mself\u001b[0m\u001b[1;33m.\u001b[0m\u001b[0m_handle\u001b[0m\u001b[1;33m,\u001b[0m \u001b[0margs\u001b[0m\u001b[1;33m,\u001b[0m\u001b[1;33m\u001b[0m\u001b[1;33m\u001b[0m\u001b[0m\n\u001b[1;32m-> 1458\u001b[1;33m                                                run_metadata_ptr)\n\u001b[0m\u001b[0;32m   1459\u001b[0m         \u001b[1;32mif\u001b[0m \u001b[0mrun_metadata\u001b[0m\u001b[1;33m:\u001b[0m\u001b[1;33m\u001b[0m\u001b[1;33m\u001b[0m\u001b[0m\n\u001b[0;32m   1460\u001b[0m           \u001b[0mproto_data\u001b[0m \u001b[1;33m=\u001b[0m \u001b[0mtf_session\u001b[0m\u001b[1;33m.\u001b[0m\u001b[0mTF_GetBuffer\u001b[0m\u001b[1;33m(\u001b[0m\u001b[0mrun_metadata_ptr\u001b[0m\u001b[1;33m)\u001b[0m\u001b[1;33m\u001b[0m\u001b[1;33m\u001b[0m\u001b[0m\n",
      "\u001b[1;31mInvalidArgumentError\u001b[0m: Incompatible shapes: [375] vs. [75]\n\t [[{{node training_3/RMSprop/gradients/loss_5/lstm_18_loss/mul_1_grad/BroadcastGradientArgs}}]]"
     ],
     "output_type": "error"
    }
   ],
   "source": [
    "\n",
    "vae.fit(x=trainX_nominal, y=trainX_nominal, epochs=epochs, \n",
    "        batch_size=batch_size)\n",
    "\n",
    "vae.save(\"Models/Nominal_LSTM_VAE.model\")\n",
    "print(\"MODEL SAVED\")\n"
   ]
  },
  {
   "cell_type": "code",
   "execution_count": null,
   "metadata": {
    "collapsed": true
   },
   "outputs": [],
   "source": [
    "\n",
    "autoencoded_nominal = generator.predict(encoder.predict(trainX_nominal))\n",
    "\n",
    "autoencoded_anomalous = generator.predict(encoder.predict(trainX_anomalous))\n",
    "\n",
    "anomalous_sequences = []\n",
    "reconstr_error_nominal_sequences, reconstr_error_anomalous_sequences = [], []\n",
    "MUs, SIGMAs = [], []\n",
    "window = batch_size\n",
    "interval = interval\n",
    "cont = 0\n",
    "\n",
    "for i in autoencoded_nominal:\n",
    "    reconstr_error_nominal_sequences.append(abs(normal_data[cont:cont+window] - i))\n",
    "    cont += interval\n",
    "    MUs.append(np.average(reconstr_error_nominal_sequences[-1], axis=0))\n",
    "    SIGMAs.append(np.cov(reconstr_error_nominal_sequences[-1], rowvar=False))\n",
    "\n",
    "cont = 0\n",
    "for j in autoencoded_anomalous:\n",
    "    reconstr_error_anomalous_sequences.append(abs(anomalous_data[cont:cont+window] - j))\n",
    "    cont += interval\n",
    "\n",
    "print(len(reconstr_error_nominal_sequences), len(reconstr_error_nominal_sequences[0]))\n",
    "print(len(MUs), MUs[0])\n",
    "print(\"Done\") \n"
   ]
  },
  {
   "cell_type": "code",
   "execution_count": null,
   "metadata": {
    "collapsed": true
   },
   "outputs": [],
   "source": [
    "def calculate_anomaly_score_sequence(i, element):\n",
    "    scores = []\n",
    "    for j, elem in enumerate(element):\n",
    "        scores.append(np.dot(np.transpose(element[j]-MUs[i]), \n",
    "                             np.dot(SIGMAs[i], (element[j]-MUs[i]))))\n",
    "    return np.average(scores)\n",
    "\n",
    "anomaly_scores = []\n",
    "for i,element in enumerate(reconstr_error_anomalous_sequences[:-60]):\n",
    "    anomaly_scores.append(calculate_anomaly_score_sequence(i, element))\n",
    "\n",
    "anomaly_scores_nominal = []\n",
    "for i, element in enumerate(reconstr_error_nominal_sequences):\n",
    "    anomaly_scores_nominal.append(calculate_anomaly_score_sequence(i, element))\n",
    "\n",
    "print(len(anomaly_scores), len(anomaly_scores_nominal))\n"
   ]
  },
  {
   "cell_type": "code",
   "execution_count": null,
   "metadata": {
    "collapsed": true
   },
   "outputs": [
    {
     "name": "stdout",
     "output_type": "stream",
     "text": [
      "\n\n\n\n\n\n\n\n\n\n\n\n\n\n\n\n\n\n\n\n\n\n\n\n\n\n\n\n\n\n\n\n\n\n\n\n\n\n\n\n\n\n\n\n\n\n\n\n\n\n\n\n\n\n\n\n"
     ]
    }
   ],
   "source": [
    "\n",
    "plt.plot(anomaly_scores)\n",
    "plt.show()\n"
   ]
  },
  {
   "cell_type": "code",
   "execution_count": 53,
   "metadata": {
    "collapsed": true
   },
   "outputs": [
    {
     "name": "stdout",
     "output_type": "stream",
     "text": [
      "\n\n\n\n\n\n\n\n\n\n\n\n\n\n\n\n\n\n\n\n\n\n\n\n\n\n\n\n\n\n\n\n\n\n\n\n\n\n\n\n\n\n\n\n\n\n\n\n\n\n\n\n\n\n\n\n"
     ]
    }
   ],
   "source": [
    "def detectOutliers(x, outlierConstant):\n",
    "    a = np.array(x)\n",
    "    upper_quartile = np.percentile(a, 75)\n",
    "    lower_quartile = np.percentile(a, 25)\n",
    "    IQR = (upper_quartile - lower_quartile) * outlierConstant\n",
    "    quartileSet = (lower_quartile - IQR, upper_quartile + IQR)\n",
    "    resultList = []\n",
    "    outlierList = []\n",
    "    \n",
    "    list = a.tolist()\n",
    "    for y in range(len(list)):\n",
    "        if list[y] >= quartileSet[0] and list[y] <= quartileSet[1]:\n",
    "            resultList.append(list[y])\n",
    "        else:\n",
    "            outlierList.append((y,list[y]))\n",
    "            resultList.append(list[y-1])\n",
    "    return resultList, outlierList\n",
    "\n",
    "nominal_without_outliers, outlier_list = detectOutliers(anomaly_scores_nominal,\n",
    "                                                        outlierConstant=1)\n",
    "\n",
    "anomalous_without_outliers, outliers_anomalous_list = detectOutliers(anomaly_scores,\n",
    "                                                                     outlierConstant=0.001)\n",
    "\n",
    "print(\"Done\")\n"
   ]
  },
  {
   "cell_type": "code",
   "execution_count": 54,
   "metadata": {
    "collapsed": true
   },
   "outputs": [
    {
     "name": "stdout",
     "output_type": "stream",
     "text": [
      "\n\n\n\n\n\n\n\n\n\n\n\n\n\n\n\n\n\n\n\n\n\n\n\n\n\n\n\n\n\n\n\n\n\n\n\n\n\n\n\n\n\n\n\n\n\n\n\n\n\n\n\n\n\n\n\n"
     ]
    }
   ],
   "source": [
    "\n",
    "#PLOT THE GRAPHS AND OUTLINE THE POINTS OF THE SUSPECTED ANOMALIES\n",
    "\n",
    "boat_csv = read_data(\"Data/Boat_data.csv\")\n",
    "boat_csv = boat_csv.drop(columns=[\"Unnamed: 0\"])\n",
    "\n",
    "plt.plot(boat_csv[\"G_Lon\"], boat_csv[\"G_Lat\"])\n",
    "plt.title(\"Nominal anoamalies points LSTM_AE\")\n",
    "for i in outlier_list:\n",
    "    anomaly_position = i[0]*interval \n",
    "    plt.plot(boat_csv[\"G_Lon\"][anomaly_position],boat_csv[\"G_Lat\"][anomaly_position], 'bo')\n",
    "    print()\n",
    "    \n",
    "plt.show()\n",
    "\n",
    "\n",
    "an_csv = read_data(\"Data/Anomalous_boat_data.csv\")\n",
    "an_csv = an_csv.drop(columns=[\"Unnamed: 0\"])\n",
    "\n",
    "plt.plot(an_csv[\"longitude\"], an_csv[\"latitude\"])\n",
    "plt.title(\"Nominal anoamalies points LSTM_AE\")\n",
    "for i in outliers_anomalous_list:\n",
    "    anomaly_position = i[0] * interval \n",
    "    plt.plot(an_csv[\"longitude\"][anomaly_position:anomaly_position+window],\n",
    "             an_csv[\"latitude\"][anomaly_position:anomaly_position+window], 'bo')\n",
    "\n",
    "plt.show()\n"
   ]
  },
  {
   "cell_type": "code",
   "execution_count": 24,
   "metadata": {},
   "outputs": [],
   "source": [
    "# MU SIGMA FOR THE NOMINAL ERROR\n",
    "MU = np.average(reconstr_nominal, axis=0)\n",
    "SIGMA = np.cov(reconstr_nominal, rowvar=False)\n",
    "\n",
    "anomaly_scores = []\n",
    "\n",
    "def calculate_anomaly_score(i):\n",
    "    return np.dot(np.transpose(i-MU), np.dot(SIGMA, (i-MU)))\n",
    "\n",
    "for i in reconstruct_anomalous:\n",
    "    anomaly_scores.append(calculate_anomaly_score(i))\n",
    "\n",
    "anomaly_scores_nominal = []\n",
    "for i in reconstr_nominal:\n",
    "    anomaly_scores_nominal.append(calculate_anomaly_score(i))\n",
    "\n",
    "plt.plot(anomaly_scores)\n",
    "plt.xlabel(\"OBSERVATIONS\")\n",
    "plt.ylabel(\"ANOMALY SCORE\")\n",
    "plt.title(\"ANOMALOUS DATASET LSTM_VAE\")\n",
    "plt.show()\n",
    "\n",
    "plt.plot(anomaly_scores_nominal)\n",
    "plt.xlabel(\"OBSERVATIONS\")\n",
    "plt.ylabel(\"ANOMALY SCORE\")\n",
    "plt.title(\"NOMINAL DATASET LSTM_VAE\")\n",
    "plt.show()"
   ]
  },
  {
   "cell_type": "code",
   "execution_count": 21,
   "metadata": {},
   "outputs": [
    {
     "name": "stdout",
     "output_type": "stream",
     "text": [
      "24\n"
     ]
    }
   ],
   "source": [
    "def detectOutliers(x, outlierConstant):\n",
    "    a = np.array(x)\n",
    "    upper_quartile = np.percentile(a, 75)\n",
    "    lower_quartile = np.percentile(a, 25)\n",
    "    IQR = (upper_quartile - lower_quartile) * outlierConstant\n",
    "    quartileSet = (lower_quartile - IQR, upper_quartile + IQR)\n",
    "    resultList = []\n",
    "    outlierList = []\n",
    "    \n",
    "    list = a.tolist()\n",
    "    for y in range(len(list)):\n",
    "        if list[y] >= quartileSet[0] and list[y] <= quartileSet[1]:\n",
    "            resultList.append(list[y])\n",
    "        else:\n",
    "            outlierList.append((y,list[y]))\n",
    "            resultList.append(list[y-1])\n",
    "    return resultList, outlierList\n",
    "\n",
    "nominal_without_outliers, outlier_list = detectOutliers(anomaly_scores_nominal,\n",
    "                                                        outlierConstant=7)\n",
    "\n",
    "anomalous_without_outliers, outliers_anomalous_list = detectOutliers(anomaly_scores,\n",
    "                                                                     outlierConstant=10)\n",
    "\n",
    "\n",
    "\n",
    "print(len(outlier_list))\n"
   ]
  },
  {
   "cell_type": "code",
   "execution_count": null,
   "metadata": {},
   "outputs": [],
   "source": [
    "\n",
    "#PLOT THE GRAPHS AND OUTLINE THE POINTS OF THE SUSPECTED ANOMALIES\n",
    "\n",
    "boat_csv = read_data(\"Data/Boat_data.csv\")\n",
    "boat_csv = boat_csv.drop(columns=[\"Unnamed: 0\"])\n",
    "\n",
    "plt.plot(boat_csv[\"G_Lon\"], boat_csv[\"G_Lat\"])\n",
    "plt.title(\"Nominal anoamalies points LSTM_VAE\")\n",
    "for i in outlier_list:\n",
    "    plt.plot(boat_csv[\"G_Lon\"][i[0]],boat_csv[\"G_Lat\"][i[0]], 'bo')\n",
    "    \n",
    "    print()\n",
    "    \n",
    "plt.show()\n",
    "\n",
    "\n",
    "an_csv = read_data(\"Data/Anomalous_boat_data.csv\")\n",
    "an_csv = an_csv.drop(columns=[\"Unnamed: 0\"])\n",
    "\n",
    "plt.plot(an_csv[\"longitude\"], an_csv[\"latitude\"])\n",
    "plt.title(\"Nominal anoamalies points LSTM_VAE\")\n",
    "for i in outliers_anomalous_list:\n",
    "    plt.plot(an_csv[\"longitude\"][i[0]],an_csv[\"latitude\"][i[0]], 'bo')\n",
    "\n",
    "plt.show()\n"
   ]
  },
  {
   "cell_type": "code",
   "execution_count": null,
   "metadata": {},
   "outputs": [],
   "source": [
    "\n"
   ]
  },
  {
   "cell_type": "code",
   "execution_count": 27,
   "metadata": {},
   "outputs": [
    {
     "name": "stdout",
     "output_type": "stream",
     "text": [
      "         Speed   Degrees  Accelleration       M0C       M1C     G_Lat  \\\n0     0.002750  0.007589       0.001174 -0.004248  0.001974 -0.015252   \n1     0.007234  0.017179      -0.000572 -0.009060  0.007041 -0.043760   \n2     0.015100  0.028747      -0.003854 -0.013901  0.013474 -0.083505   \n3     0.027534  0.042639      -0.007451 -0.018465  0.020042 -0.131481   \n4     0.045241  0.059306      -0.010557 -0.022524  0.025989 -0.184079   \n...        ...       ...            ...       ...       ...       ...   \n5620 -0.818537 -0.779765       0.117596 -0.038906  0.055378 -0.744715   \n5621 -0.818533 -0.779784       0.117650 -0.038906  0.055398 -0.744683   \n5622 -0.818530 -0.779801       0.117697 -0.038906  0.055417 -0.744653   \n5623 -0.818526 -0.779817       0.117739 -0.038906  0.055434 -0.744623   \n5624 -0.818522 -0.779831       0.117775 -0.038905  0.055450 -0.744595   \n\n         G_Lon  \n0     0.004835  \n1     0.017813  \n2     0.038941  \n3     0.067125  \n4     0.100591  \n...        ...  \n5620  0.741520  \n5621  0.741483  \n5622  0.741448  \n5623  0.741415  \n5624  0.741384  \n\n[5625 rows x 7 columns]\nEnd\n"
     ]
    }
   ],
   "source": [
    "autoenc_df = pd.DataFrame(autoencoded_nominal, columns= boat_csv.columns)\n",
    "print(autoenc_df)\n",
    "\n",
    "\n",
    "plt.plot(boat_csv[\"Speed\"][:-114])\n",
    "plt.plot(autoenc_df['Speed'])\n",
    "plt.show()\n",
    "\n",
    "print(\"End\")"
   ]
  },
  {
   "cell_type": "code",
   "execution_count": null,
   "metadata": {},
   "outputs": [],
   "source": []
  }
 ],
 "metadata": {
  "kernelspec": {
   "display_name": "Python 2",
   "language": "python",
   "name": "python2"
  },
  "language_info": {
   "codemirror_mode": {
    "name": "ipython",
    "version": 2
   },
   "file_extension": ".py",
   "mimetype": "text/x-python",
   "name": "python",
   "nbconvert_exporter": "python",
   "pygments_lexer": "ipython2",
   "version": "2.7.6"
  }
 },
 "nbformat": 4,
 "nbformat_minor": 0
}
