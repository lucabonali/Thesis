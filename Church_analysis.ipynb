{
 "cells": [
  {
   "cell_type": "code",
   "execution_count": 71,
   "metadata": {
    "collapsed": false
   },
   "outputs": [
    {
     "name": "stdout",
     "output_type": "stream",
     "text": [
      "FINE\n"
     ]
    }
   ],
   "source": [
    "import pandas as pd\n",
    "import pandas.core.apply as app\n",
    "import matplotlib.pyplot as plt\n",
    "import numpy as np\n",
    "import scipy.signal as sig\n",
    "import scipy as sps\n",
    "import scipy.interpolate as inter\n",
    "\n",
    "data = pd.read_csv(\"Data/Church_data/Church1.txt\")\n",
    "data2 = pd.read_csv(\"Data/Church_data/Church2.txt\")\n",
    "data3 = pd.read_csv(\"Data/Church_data/Church3.txt\")\n",
    "data4 = pd.read_csv(\"Data/Church_data/Church4.txt\")\n",
    "data5 = pd.read_csv(\"Data/Church_data/Church5.txt\")\n",
    "data6 = pd.read_csv(\"Data/Church_data/Church6.txt\")\n",
    "data7 = pd.read_csv(\"Data/Church_data/Church7.txt\")\n",
    "data8 = pd.read_csv(\"Data/Church_data/Church8.txt\")\n",
    "\n",
    "data_list = [data,data2,data3,data4,data5,data6,data7,data8]\n",
    "\n",
    "index = 0\n",
    "for i in data_list:\n",
    "    #i = i.drop(columns=i.columns[0])\n",
    "    data_list[index] = i \n",
    "    i += 1\n",
    "\n",
    "print(\"FINE\")"
   ]
  },
  {
   "cell_type": "code",
   "execution_count": 72,
   "metadata": {
    "collapsed": false
   },
   "outputs": [
    {
     "name": "stdout",
     "output_type": "stream",
     "text": [
      "Fine\n"
     ]
    }
   ],
   "source": [
    "x_val = []\n",
    "y_val = []\n",
    "z_val = []\n",
    "\n",
    "for i in range(len(data_list)):\n",
    "    x_val.append(data_list[i][\"seconds\"])\n",
    "    y_val.append(data_list[i][\"y\"])\n",
    "    z_val.append(data_list[i][\"z\"])\n",
    "    \n",
    "    '''\n",
    "    fig = plt.figure()\n",
    "    ax = Axes3D(fig)\n",
    "    ax.plot(x_val[i],y_val[i],z_val[i])\n",
    "    ax.set_xlim(300)\n",
    "    ax.set_ylim(100)\n",
    "    ax.set_zlim(100)\n",
    "    '''\n",
    "    plt.plot(x_val[i])\n",
    "    plt.title(\"FIG\"+ str(i+1))\n",
    "    #str_path = \"Data/Church_data/Gen_images/Fig\"+str(i+1)+\".png\"\n",
    "    #plt.savefig(str_path)\n",
    "    plt.show()\n",
    "print(\"Fine\")\n"
   ]
  },
  {
   "cell_type": "code",
   "execution_count": 73,
   "metadata": {
    "collapsed": false
   },
   "outputs": [],
   "source": [
    "inter_list =[] \n",
    "for j in range(len(data_list)):\n",
    "    j_list = []\n",
    "    for i in range(len(data_list[j][\"seconds\"])-1):\n",
    "        j_list.append(data_list[j][\"seconds\"][i+1]\n",
    "                      - data_list[j][\"seconds\"][i])  \n",
    "    j_list.append(0.1)\n",
    "    inter_list.append(j_list)\n",
    "    "
   ]
  },
  {
   "cell_type": "code",
   "execution_count": 75,
   "metadata": {},
   "outputs": [
    {
     "name": "stdout",
     "output_type": "stream",
     "text": [
      "FATTO\n"
     ]
    },
    {
     "name": "stdout",
     "output_type": "stream",
     "text": [
      "FATTO\n"
     ]
    },
    {
     "name": "stdout",
     "output_type": "stream",
     "text": [
      "FATTO\n"
     ]
    },
    {
     "name": "stdout",
     "output_type": "stream",
     "text": [
      "FATTO\n"
     ]
    },
    {
     "name": "stdout",
     "output_type": "stream",
     "text": [
      "FATTO\n"
     ]
    },
    {
     "name": "stdout",
     "output_type": "stream",
     "text": [
      "FATTO\n"
     ]
    },
    {
     "name": "stdout",
     "output_type": "stream",
     "text": [
      "FATTO\n"
     ]
    },
    {
     "name": "stdout",
     "output_type": "stream",
     "text": [
      "FATTO\n"
     ]
    }
   ],
   "source": [
    "#Speed\n",
    "\n",
    "import math\n",
    "\n",
    "speed = []\n",
    "def get_speed(data, interval_list):\n",
    "    speed = []\n",
    "    for i in range(data.shape[0]):\n",
    "        try:\n",
    "            delta_s_x = abs(data[\"x\"][i+1] - data[\"x\"][i])\n",
    "            delta_s_y = abs(data[\"y\"][i+1] - data[\"y\"][i])\n",
    "            delta_s = math.sqrt(delta_s_x**2+delta_s_y**2)\n",
    "            delta_s = delta_s / interval_list[i]\n",
    "            speed.append(delta_s)\n",
    "        except:\n",
    "            speed.append(0) \n",
    "    print(\"FATTO\")\n",
    "    return speed\n",
    "\n",
    "def removeOutliers(x, outlierConstant):\n",
    "    a = np.array(x)\n",
    "    upper_quartile = np.percentile(a, 75)\n",
    "    lower_quartile = np.percentile(a, 25)\n",
    "    IQR = (upper_quartile - lower_quartile) * outlierConstant\n",
    "    quartileSet = (lower_quartile - IQR, upper_quartile + IQR)\n",
    "    resultList = []\n",
    "    \n",
    "    list = a.tolist()\n",
    "    for y in range(len(list)):\n",
    "        if list[y] >= quartileSet[0] and list[y] <= quartileSet[1]:\n",
    "            resultList.append(list[y])\n",
    "        else:\n",
    "            resultList.append(list[y-1])\n",
    "    return resultList\n",
    "\n",
    "\n",
    "index = 0\n",
    "for i in data_list:\n",
    "    sp = get_speed(i, inter_list[index])\n",
    "    sp = removeOutliers(sp,outlierConstant=10)\n",
    "    plt.plot(sp)\n",
    "    plt.show()\n",
    "    index += 1\n",
    "    speed.append(sp)\n",
    "    "
   ]
  },
  {
   "cell_type": "code",
   "execution_count": 76,
   "metadata": {},
   "outputs": [],
   "source": [
    "for i in range(len(data_list)):\n",
    "    data_list[i][\"speed\"] = speed[i]\n",
    "    \n"
   ]
  },
  {
   "cell_type": "code",
   "execution_count": 56,
   "metadata": {},
   "outputs": [],
   "source": [
    "df = pd.read_csv(\"Data/Raw_boat_data\")\n",
    "plt.plot(df[\"acceleration\"])\n",
    "plt.show()\n"
   ]
  },
  {
   "cell_type": "code",
   "execution_count": 78,
   "metadata": {},
   "outputs": [
    {
     "name": "stdout",
     "output_type": "stream",
     "text": [
      "FATTO\n"
     ]
    },
    {
     "name": "stdout",
     "output_type": "stream",
     "text": [
      "FATTO\n"
     ]
    },
    {
     "name": "stdout",
     "output_type": "stream",
     "text": [
      "FATTO\n"
     ]
    },
    {
     "name": "stdout",
     "output_type": "stream",
     "text": [
      "FATTO\n"
     ]
    },
    {
     "name": "stdout",
     "output_type": "stream",
     "text": [
      "FATTO\n"
     ]
    },
    {
     "name": "stdout",
     "output_type": "stream",
     "text": [
      "FATTO\n"
     ]
    },
    {
     "name": "stdout",
     "output_type": "stream",
     "text": [
      "FATTO\n"
     ]
    },
    {
     "name": "stdout",
     "output_type": "stream",
     "text": [
      "FATTO\n"
     ]
    }
   ],
   "source": [
    "#Acceleration\n",
    "\n",
    "acc_total = []\n",
    "def get_acc(data, interval_list):\n",
    "    acc = []\n",
    "    for i in range(data.shape[0]):\n",
    "        try:\n",
    "            delta_v = data[\"speed\"][i+1] - data[\"speed\"][i]\n",
    "            acc_value = delta_v / interval_list[i]\n",
    "            acc.append(acc_value)\n",
    "        except:\n",
    "            acc.append(0) \n",
    "    print(\"FATTO\")\n",
    "    return acc\n",
    "\n",
    "\n",
    "\n",
    "\n",
    "index = 0\n",
    "for i in data_list:\n",
    "    ac = get_acc(i, inter_list[index])\n",
    "    ac = removeOutliers(ac,outlierConstant=25)\n",
    "    plt.plot(ac)\n",
    "    plt.show()\n",
    "    index += 1\n",
    "    acc_total.append(ac)\n"
   ]
  },
  {
   "cell_type": "code",
   "execution_count": 79,
   "metadata": {},
   "outputs": [],
   "source": [
    "for i in range(len(data_list)):\n",
    "    data_list[i][\"acceleration\"] = acc_total[i]\n",
    "    \n"
   ]
  },
  {
   "cell_type": "code",
   "execution_count": 81,
   "metadata": {},
   "outputs": [
    {
     "name": "stdout",
     "output_type": "stream",
     "text": [
      "LOOP end\n"
     ]
    },
    {
     "name": "stdout",
     "output_type": "stream",
     "text": [
      "LOOP end\n"
     ]
    },
    {
     "name": "stdout",
     "output_type": "stream",
     "text": [
      "LOOP end\n"
     ]
    },
    {
     "name": "stdout",
     "output_type": "stream",
     "text": [
      "LOOP end\n"
     ]
    },
    {
     "name": "stdout",
     "output_type": "stream",
     "text": [
      "LOOP end\n"
     ]
    },
    {
     "name": "stdout",
     "output_type": "stream",
     "text": [
      "LOOP end\n"
     ]
    },
    {
     "name": "stdout",
     "output_type": "stream",
     "text": [
      "LOOP end\n"
     ]
    },
    {
     "name": "stdout",
     "output_type": "stream",
     "text": [
      "LOOP end\n"
     ]
    }
   ],
   "source": [
    "from math import degrees, sqrt\n",
    "\n",
    "def headingFromCoordinates(lat1, lon1, lat2, lon2, last_degree): \n",
    "    if(lon2-lon1 < 0): #2nd and 3rd quadrant \n",
    "        return 180 - degrees(np.arcsin((lat2-lat1)/(sqrt((lat2-lat1)**2 + (lon2-lon1)**2))))\n",
    "    if(lat2-lat1 < 0): #4th quadrant\n",
    "        return 360 + degrees(np.arcsin((lat2-lat1)/(sqrt((lat2-lat1)**2 + (lon2-lon1)**2))))\n",
    "    else:\n",
    "        if (lat2 == lat1 and lon2 == lon1):\n",
    "            return last_degree\n",
    "        else:\n",
    "            return degrees(np.arcsin((lat2-lat1)/(sqrt((lat2-lat1)**2 + (lon2-lon1)**2)))) #1st quadrant\n",
    "\n",
    "\n",
    "for j in range(len(data_list)):\n",
    "    h = []\n",
    "    h.append(200)\n",
    "    index = 1   \n",
    "    for i in range(data_list[j].shape[0]-1):\n",
    "        x = headingFromCoordinates(data_list[j]['y'][index-1], \n",
    "                                   data_list[j]['x'][index-1],\n",
    "                                   data_list[j]['y'][index],\n",
    "                                   data_list[j]['x'][index], \n",
    "                                   h[i-1])\n",
    "        x = x + 140\n",
    "        if(x > 360):\n",
    "            x = x -360\n",
    "        h.append(x)\n",
    "        index += 1\n",
    "    print(\"LOOP end\")\n",
    "    data_list[j]['degrees'] = h\n",
    "    \n",
    "#x_val= np.linspace(0, len(h), len(h))\n",
    "#print(len(h), len(x_val))\n",
    "#h = np.array(h)\n",
    "#x_val = np.array(x_val)\n"
   ]
  },
  {
   "cell_type": "code",
   "execution_count": 82,
   "metadata": {},
   "outputs": [
    {
     "name": "stdout",
     "output_type": "stream",
     "text": [
      "357.24799243971455 178.56233807932426 0.002936786972071559\n"
     ]
    },
    {
     "name": "stdout",
     "output_type": "stream",
     "text": [
      "357.36702355882187 178.38886467841215 4.210807584455761\n"
     ]
    },
    {
     "name": "stdout",
     "output_type": "stream",
     "text": [
      "358.4425457879445 179.135932960778 0.359184888551739\n"
     ]
    },
    {
     "name": "stdout",
     "output_type": "stream",
     "text": [
      "357.4457214085689 180.33050091418036 0.18440162499513424\n"
     ]
    },
    {
     "name": "stdout",
     "output_type": "stream",
     "text": [
      "358.1425531163871 182.62800886547078 1.496144825619266\n"
     ]
    },
    {
     "name": "stdout",
     "output_type": "stream",
     "text": [
      "357.09450198604407 185.2585615259282 1.3510760840705878\n"
     ]
    },
    {
     "name": "stdout",
     "output_type": "stream",
     "text": [
      "361.1399618295123 177.9724331888496 5.168652569667436\n"
     ]
    },
    {
     "name": "stdout",
     "output_type": "stream",
     "text": [
      "357.12910168047694 178.5471532208995 0.002949525256610741\n"
     ]
    }
   ],
   "source": [
    "ind = 1\n",
    "for i in data_list:\n",
    "    x_val = np.linspace(0, len(i[\"degrees\"]), len(i[\"degrees\"]))\n",
    "    # print(\"VALUE BEFORE DROPNA\",i)\n",
    "    # i.dropna(inplace=True)\n",
    "    # print(\"VALUE AFTER DROPNA\",i)\n",
    "    # \n",
    "    for j in range(100):\n",
    "        i[\"degrees\"] = sig.medfilt(i[\"degrees\"])\n",
    "        i[\"degrees\"] = sig.savgol_filter(x= i[\"degrees\"], \n",
    "                                        window_length= 9, \n",
    "                                        polyorder= 5)\n",
    "    \n",
    "    i[\"degrees\"] = abs(i[\"degrees\"])\n",
    "    plt.plot(i[\"degrees\"][:1000])\n",
    "    plt.title(\"FIG\"+ str(ind))\n",
    "    plt.show()\n",
    "    print(np.max(i[\"degrees\"]), np.average(i[\"degrees\"]), np.min(i[\"degrees\"]))\n",
    "    \n",
    "    data_list[ind-1][\"degrees\"] = i[\"degrees\"]\n",
    "    ind += 1\n",
    "    \n",
    "\n"
   ]
  },
  {
   "cell_type": "code",
   "execution_count": 83,
   "metadata": {},
   "outputs": [],
   "source": [
    "index = 1\n",
    "for i in data_list:\n",
    "    plt.plot(i[\"degrees\"][0:10000])\n",
    "    plt.title(\"FIG\"+ str(index))\n",
    "    index += 1\n",
    "    plt.show()\n"
   ]
  },
  {
   "cell_type": "code",
   "execution_count": 84,
   "metadata": {},
   "outputs": [],
   "source": [
    "ind = 0\n",
    "for i in data_list:\n",
    "    string_path = \"Data/Church_csv/\"+str(ind+1)+\"^_RUN.csv\"\n",
    "    i.to_csv(string_path)\n",
    "    ind +=1\n",
    "    \n",
    "    "
   ]
  },
  {
   "cell_type": "code",
   "execution_count": null,
   "metadata": {},
   "outputs": [],
   "source": []
  }
 ],
 "metadata": {
  "kernelspec": {
   "display_name": "Python 2",
   "language": "python",
   "name": "python2"
  },
  "language_info": {
   "codemirror_mode": {
    "name": "ipython",
    "version": 2
   },
   "file_extension": ".py",
   "mimetype": "text/x-python",
   "name": "python",
   "nbconvert_exporter": "python",
   "pygments_lexer": "ipython2",
   "version": "2.7.6"
  }
 },
 "nbformat": 4,
 "nbformat_minor": 0
}
