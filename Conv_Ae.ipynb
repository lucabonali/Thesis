{
 "cells": [
  {
   "cell_type": "code",
   "execution_count": 117,
   "metadata": {
    "collapsed": true
   },
   "outputs": [
    {
     "name": "stdout",
     "output_type": "stream",
     "text": [
      "(66256, 8)\n"
     ]
    },
    {
     "name": "stdout",
     "output_type": "stream",
     "text": [
      "(72600, 8)\n(100, 656, 8)\n(10, 6600, 8)\n"
     ]
    }
   ],
   "source": [
    "from keras.layers import *\n",
    "from keras import Model\n",
    "import pandas as pd\n",
    "from sklearn.preprocessing import StandardScaler\n",
    "import matplotlib.pyplot as plt\n",
    "from keras import Sequential\n",
    "import keras as kr\n",
    "import keras.losses as losses\n",
    " \n",
    " \n",
    "# Setup the network parameters:\n",
    "intermediate_dim = 300\n",
    "latent_dim = 4\n",
    "beta = 5\n",
    "n_sequences = 200\n",
    "n_features = 8\n",
    "\n",
    "boat_csv = pd.read_csv(\"Data/Boat_nominal_data/Boat_sequences.csv\")\n",
    "boat_csv = boat_csv.drop(columns=[\"Unnamed: 0\"])\n",
    "# boat_csv = boat_csv[:5739]\n",
    "scaler = StandardScaler()\n",
    "normal_data = scaler.fit_transform(boat_csv)\n",
    "print(normal_data.shape)\n",
    "\n",
    "boat_curved = pd.read_csv(\"Data/Boat_anomalous_big.csv\")\n",
    "boat_curved= boat_curved.drop(columns=[\"Unnamed: 0\"])    \n",
    "scaler = StandardScaler()\n",
    "anomalous_data = scaler.fit_transform(boat_curved)\n",
    "print(anomalous_data.shape)\n",
    "\n",
    "\n",
    "def prepare_sequences(data, batch_size, interval):\n",
    "    samples = []\n",
    "    for i in range(0,data.shape[0]- batch_size, interval):\n",
    "        sample = data[i:i+batch_size]\t\n",
    "        samples.append(sample)\n",
    "\n",
    "    sequences = np.array(samples)\n",
    "\n",
    "    # Batch size (Number of samples time steps and number of features\n",
    "    trainX = np.reshape(sequences, (len(sequences), batch_size, n_features))\n",
    "\n",
    "    return trainX\n",
    "\n",
    "trainX_nominal = prepare_sequences(normal_data,656,656) \n",
    "print(trainX_nominal.shape)\n",
    "\n",
    "input_length = trainX_nominal.shape[0]\n",
    "trainX_anomalous = prepare_sequences(anomalous_data,6600,6600)\n",
    "print(trainX_anomalous.shape)  \n"
   ]
  },
  {
   "cell_type": "code",
   "execution_count": 120,
   "metadata": {
    "collapsed": true
   },
   "outputs": [
    {
     "name": "stdout",
     "output_type": "stream",
     "text": [
      "_________________________________________________________________\nLayer (type)                 Output Shape              Param #   \n=================================================================\ninput (InputLayer)           (None, 6600, 8)           0         \n_________________________________________________________________\nConv1 (Conv1D)               (None, 6600, 300)         19500     \n_________________________________________________________________\nMaxpool1 (MaxPooling1D)      (None, 3300, 300)         0         \n_________________________________________________________________\nConv2 (Conv1D)               (None, 3300, 200)         480200    \n_________________________________________________________________\nMaxpool2 (MaxPooling1D)      (None, 1650, 200)         0         \n_________________________________________________________________\nConv3 (Conv1D)               (None, 1650, 150)         240150    \n_________________________________________________________________\nMaxpool3 (MaxPooling1D)      (None, 825, 150)          0         \n_________________________________________________________________\nConv4 (Conv1D)               (None, 825, 100)          120100    \n_________________________________________________________________\nMaxpool4 (MaxPooling1D)      (None, 165, 100)          0         \n_________________________________________________________________\nConv5 (Conv1D)               (None, 165, 4)            3204      \n_________________________________________________________________\nMaxpool5 (MaxPooling1D)      (None, 33, 4)             0         \n_________________________________________________________________\nflatten_64 (Flatten)         (None, 132)               0         \n_________________________________________________________________\nembedding (Dense)            (None, 4)                 532       \n_________________________________________________________________\ndense_50 (Dense)             (None, 6600)              33000     \n_________________________________________________________________\nreshape_43 (Reshape)         (None, 33, 200)           0         \n_________________________________________________________________\nconv-decode1 (Conv1D)        (None, 33, 8)             12808     \n_________________________________________________________________\nupsampling1 (UpSampling1D)   (None, 165, 8)            0         \n_________________________________________________________________\nconv-decode2 (Conv1D)        (None, 165, 150)          9750      \n_________________________________________________________________\nupsampling2 (UpSampling1D)   (None, 825, 150)          0         \n_________________________________________________________________\nconv-decode3 (Conv1D)        (None, 825, 200)          240200    \n_________________________________________________________________\nupsampling3 (UpSampling1D)   (None, 3300, 200)         0         \n_________________________________________________________________\nconv-decode4 (Conv1D)        (None, 3300, 8)           12808     \n_________________________________________________________________\nupsampling4 (UpSampling1D)   (None, 6600, 8)           0         \n=================================================================\nTotal params: 1,172,252\nTrainable params: 1,172,252\nNon-trainable params: 0\n_________________________________________________________________\n"
     ]
    },
    {
     "name": "stdout",
     "output_type": "stream",
     "text": [
      "Epoch 1/50\n"
     ]
    },
    {
     "name": "stdout",
     "output_type": "stream",
     "text": [
      "\r10/10 [==============================] - 59s 6s/step - loss: 1.0005 - acc: 0.0956\n"
     ]
    },
    {
     "name": "stdout",
     "output_type": "stream",
     "text": [
      "Epoch 2/50\n"
     ]
    },
    {
     "name": "stdout",
     "output_type": "stream",
     "text": [
      "\r10/10 [==============================] - 3s 307ms/step - loss: 1.0003 - acc: 0.1547\n"
     ]
    },
    {
     "name": "stdout",
     "output_type": "stream",
     "text": [
      "Epoch 3/50\n"
     ]
    },
    {
     "name": "stdout",
     "output_type": "stream",
     "text": [
      "\r10/10 [==============================] - 3s 312ms/step - loss: 0.9994 - acc: 0.1632\n"
     ]
    },
    {
     "name": "stdout",
     "output_type": "stream",
     "text": [
      "Epoch 4/50\n"
     ]
    },
    {
     "name": "stdout",
     "output_type": "stream",
     "text": [
      "\r10/10 [==============================] - 3s 311ms/step - loss: 0.9965 - acc: 0.2528\n"
     ]
    },
    {
     "name": "stdout",
     "output_type": "stream",
     "text": [
      "Epoch 5/50\n"
     ]
    },
    {
     "name": "stdout",
     "output_type": "stream",
     "text": [
      "\r10/10 [==============================] - 3s 316ms/step - loss: 0.9845 - acc: 0.3457\n"
     ]
    },
    {
     "name": "stdout",
     "output_type": "stream",
     "text": [
      "Epoch 6/50\n"
     ]
    },
    {
     "name": "stdout",
     "output_type": "stream",
     "text": [
      "\r10/10 [==============================] - 3s 326ms/step - loss: 0.9393 - acc: 0.3980\n"
     ]
    },
    {
     "name": "stdout",
     "output_type": "stream",
     "text": [
      "Epoch 7/50\n"
     ]
    },
    {
     "name": "stdout",
     "output_type": "stream",
     "text": [
      "\r10/10 [==============================] - 3s 320ms/step - loss: 0.8117 - acc: 0.4288\n"
     ]
    },
    {
     "name": "stdout",
     "output_type": "stream",
     "text": [
      "Epoch 8/50\n"
     ]
    },
    {
     "name": "stdout",
     "output_type": "stream",
     "text": [
      "\r10/10 [==============================] - 3s 320ms/step - loss: 0.6820 - acc: 0.4517\n"
     ]
    },
    {
     "name": "stdout",
     "output_type": "stream",
     "text": [
      "Epoch 9/50\n"
     ]
    },
    {
     "name": "stdout",
     "output_type": "stream",
     "text": [
      "\r10/10 [==============================] - 3s 311ms/step - loss: 0.5961 - acc: 0.4733\n"
     ]
    },
    {
     "name": "stdout",
     "output_type": "stream",
     "text": [
      "Epoch 10/50\n"
     ]
    },
    {
     "name": "stdout",
     "output_type": "stream",
     "text": [
      "\r10/10 [==============================] - 3s 316ms/step - loss: 0.5756 - acc: 0.5125\n"
     ]
    },
    {
     "name": "stdout",
     "output_type": "stream",
     "text": [
      "Epoch 11/50\n"
     ]
    },
    {
     "name": "stdout",
     "output_type": "stream",
     "text": [
      "\r10/10 [==============================] - 3s 334ms/step - loss: 0.5676 - acc: 0.5579\n"
     ]
    },
    {
     "name": "stdout",
     "output_type": "stream",
     "text": [
      "Epoch 12/50\n"
     ]
    },
    {
     "name": "stdout",
     "output_type": "stream",
     "text": [
      "\r10/10 [==============================] - 3s 315ms/step - loss: 0.6409 - acc: 0.5648\n"
     ]
    },
    {
     "name": "stdout",
     "output_type": "stream",
     "text": [
      "Epoch 13/50\n"
     ]
    },
    {
     "name": "stdout",
     "output_type": "stream",
     "text": [
      "\r10/10 [==============================] - 3s 317ms/step - loss: 0.6118 - acc: 0.5652\n"
     ]
    },
    {
     "name": "stdout",
     "output_type": "stream",
     "text": [
      "Epoch 14/50\n"
     ]
    },
    {
     "name": "stdout",
     "output_type": "stream",
     "text": [
      "\r10/10 [==============================] - 3s 315ms/step - loss: 0.5817 - acc: 0.5458\n"
     ]
    },
    {
     "name": "stdout",
     "output_type": "stream",
     "text": [
      "Epoch 15/50\n"
     ]
    },
    {
     "name": "stdout",
     "output_type": "stream",
     "text": [
      "\r10/10 [==============================] - 3s 319ms/step - loss: 0.5286 - acc: 0.5206\n"
     ]
    },
    {
     "name": "stdout",
     "output_type": "stream",
     "text": [
      "Epoch 16/50\n"
     ]
    },
    {
     "name": "stdout",
     "output_type": "stream",
     "text": [
      "\r10/10 [==============================] - 3s 328ms/step - loss: 0.5183 - acc: 0.5455\n"
     ]
    },
    {
     "name": "stdout",
     "output_type": "stream",
     "text": [
      "Epoch 17/50\n"
     ]
    },
    {
     "name": "stdout",
     "output_type": "stream",
     "text": [
      "\r10/10 [==============================] - 3s 316ms/step - loss: 0.4864 - acc: 0.5772\n"
     ]
    },
    {
     "name": "stdout",
     "output_type": "stream",
     "text": [
      "Epoch 18/50\n"
     ]
    },
    {
     "name": "stdout",
     "output_type": "stream",
     "text": [
      "\r10/10 [==============================] - 3s 314ms/step - loss: 0.4973 - acc: 0.5576\n"
     ]
    },
    {
     "name": "stdout",
     "output_type": "stream",
     "text": [
      "Epoch 19/50\n"
     ]
    },
    {
     "name": "stdout",
     "output_type": "stream",
     "text": [
      "\r10/10 [==============================] - 3s 311ms/step - loss: 0.4886 - acc: 0.5550\n"
     ]
    },
    {
     "name": "stdout",
     "output_type": "stream",
     "text": [
      "Epoch 20/50\n"
     ]
    },
    {
     "name": "stdout",
     "output_type": "stream",
     "text": [
      "\r10/10 [==============================] - 3s 310ms/step - loss: 0.4800 - acc: 0.5571\n"
     ]
    },
    {
     "name": "stdout",
     "output_type": "stream",
     "text": [
      "Epoch 21/50\n"
     ]
    },
    {
     "name": "stdout",
     "output_type": "stream",
     "text": [
      "\r10/10 [==============================] - 3s 315ms/step - loss: 0.4716 - acc: 0.5734\n"
     ]
    },
    {
     "name": "stdout",
     "output_type": "stream",
     "text": [
      "Epoch 22/50\n"
     ]
    },
    {
     "name": "stdout",
     "output_type": "stream",
     "text": [
      "\r10/10 [==============================] - 3s 344ms/step - loss: 0.4659 - acc: 0.5820\n"
     ]
    },
    {
     "name": "stdout",
     "output_type": "stream",
     "text": [
      "Epoch 23/50\n"
     ]
    },
    {
     "name": "stdout",
     "output_type": "stream",
     "text": [
      "\r10/10 [==============================] - 3s 315ms/step - loss: 0.4679 - acc: 0.5816\n"
     ]
    },
    {
     "name": "stdout",
     "output_type": "stream",
     "text": [
      "Epoch 24/50\n"
     ]
    },
    {
     "name": "stdout",
     "output_type": "stream",
     "text": [
      "\r10/10 [==============================] - 3s 323ms/step - loss: 0.4601 - acc: 0.5927\n"
     ]
    },
    {
     "name": "stdout",
     "output_type": "stream",
     "text": [
      "Epoch 25/50\n"
     ]
    },
    {
     "name": "stdout",
     "output_type": "stream",
     "text": [
      "\r10/10 [==============================] - 3s 316ms/step - loss: 0.4548 - acc: 0.5954\n"
     ]
    },
    {
     "name": "stdout",
     "output_type": "stream",
     "text": [
      "Epoch 26/50\n"
     ]
    },
    {
     "name": "stdout",
     "output_type": "stream",
     "text": [
      "\r10/10 [==============================] - 3s 320ms/step - loss: 0.4522 - acc: 0.5985\n"
     ]
    },
    {
     "name": "stdout",
     "output_type": "stream",
     "text": [
      "Epoch 27/50\n"
     ]
    },
    {
     "name": "stdout",
     "output_type": "stream",
     "text": [
      "\r10/10 [==============================] - 3s 320ms/step - loss: 0.4472 - acc: 0.5981\n"
     ]
    },
    {
     "name": "stdout",
     "output_type": "stream",
     "text": [
      "Epoch 28/50\n"
     ]
    },
    {
     "name": "stdout",
     "output_type": "stream",
     "text": [
      "\r10/10 [==============================] - 3s 321ms/step - loss: 0.4460 - acc: 0.5948\n"
     ]
    },
    {
     "name": "stdout",
     "output_type": "stream",
     "text": [
      "Epoch 29/50\n"
     ]
    },
    {
     "name": "stdout",
     "output_type": "stream",
     "text": [
      "\r10/10 [==============================] - 3s 311ms/step - loss: 0.4425 - acc: 0.5966\n"
     ]
    },
    {
     "name": "stdout",
     "output_type": "stream",
     "text": [
      "Epoch 30/50\n"
     ]
    },
    {
     "name": "stdout",
     "output_type": "stream",
     "text": [
      "\r10/10 [==============================] - 4s 405ms/step - loss: 0.4415 - acc: 0.5990\n"
     ]
    },
    {
     "name": "stdout",
     "output_type": "stream",
     "text": [
      "Epoch 31/50\n"
     ]
    },
    {
     "name": "stdout",
     "output_type": "stream",
     "text": [
      "\r10/10 [==============================] - 3s 316ms/step - loss: 0.4400 - acc: 0.5997\n"
     ]
    },
    {
     "name": "stdout",
     "output_type": "stream",
     "text": [
      "Epoch 32/50\n"
     ]
    },
    {
     "name": "stdout",
     "output_type": "stream",
     "text": [
      "\r10/10 [==============================] - 4s 399ms/step - loss: 0.4353 - acc: 0.6029\n"
     ]
    },
    {
     "name": "stdout",
     "output_type": "stream",
     "text": [
      "Epoch 33/50\n"
     ]
    },
    {
     "name": "stdout",
     "output_type": "stream",
     "text": [
      "\r10/10 [==============================] - 3s 323ms/step - loss: 0.4335 - acc: 0.6065\n"
     ]
    },
    {
     "name": "stdout",
     "output_type": "stream",
     "text": [
      "Epoch 34/50\n"
     ]
    },
    {
     "name": "stdout",
     "output_type": "stream",
     "text": [
      "\r10/10 [==============================] - 3s 326ms/step - loss: 0.4307 - acc: 0.6065\n"
     ]
    },
    {
     "name": "stdout",
     "output_type": "stream",
     "text": [
      "Epoch 35/50\n"
     ]
    },
    {
     "name": "stdout",
     "output_type": "stream",
     "text": [
      "\r10/10 [==============================] - 3s 323ms/step - loss: 0.4300 - acc: 0.6081\n"
     ]
    },
    {
     "name": "stdout",
     "output_type": "stream",
     "text": [
      "Epoch 36/50\n"
     ]
    },
    {
     "name": "stdout",
     "output_type": "stream",
     "text": [
      "\r10/10 [==============================] - 3s 326ms/step - loss: 0.4284 - acc: 0.6147\n"
     ]
    },
    {
     "name": "stdout",
     "output_type": "stream",
     "text": [
      "Epoch 37/50\n"
     ]
    },
    {
     "name": "stdout",
     "output_type": "stream",
     "text": [
      "\r10/10 [==============================] - 3s 311ms/step - loss: 0.4261 - acc: 0.6078\n"
     ]
    },
    {
     "name": "stdout",
     "output_type": "stream",
     "text": [
      "Epoch 38/50\n"
     ]
    },
    {
     "name": "stdout",
     "output_type": "stream",
     "text": [
      "\r10/10 [==============================] - 3s 307ms/step - loss: 0.4246 - acc: 0.6023\n"
     ]
    },
    {
     "name": "stdout",
     "output_type": "stream",
     "text": [
      "Epoch 39/50\n"
     ]
    },
    {
     "name": "stdout",
     "output_type": "stream",
     "text": [
      "\r10/10 [==============================] - 3s 311ms/step - loss: 0.4219 - acc: 0.6023\n"
     ]
    },
    {
     "name": "stdout",
     "output_type": "stream",
     "text": [
      "Epoch 40/50\n"
     ]
    },
    {
     "name": "stdout",
     "output_type": "stream",
     "text": [
      "\r10/10 [==============================] - 3s 315ms/step - loss: 0.4209 - acc: 0.5997\n"
     ]
    },
    {
     "name": "stdout",
     "output_type": "stream",
     "text": [
      "Epoch 41/50\n"
     ]
    },
    {
     "name": "stdout",
     "output_type": "stream",
     "text": [
      "\r10/10 [==============================] - 3s 318ms/step - loss: 0.4191 - acc: 0.6034\n"
     ]
    },
    {
     "name": "stdout",
     "output_type": "stream",
     "text": [
      "Epoch 42/50\n"
     ]
    },
    {
     "name": "stdout",
     "output_type": "stream",
     "text": [
      "\r10/10 [==============================] - 3s 329ms/step - loss: 0.4175 - acc: 0.6064\n"
     ]
    },
    {
     "name": "stdout",
     "output_type": "stream",
     "text": [
      "Epoch 43/50\n"
     ]
    },
    {
     "name": "stdout",
     "output_type": "stream",
     "text": [
      "\r10/10 [==============================] - 3s 306ms/step - loss: 0.4161 - acc: 0.6067\n"
     ]
    },
    {
     "name": "stdout",
     "output_type": "stream",
     "text": [
      "Epoch 44/50\n"
     ]
    },
    {
     "name": "stdout",
     "output_type": "stream",
     "text": [
      "\r10/10 [==============================] - 3s 322ms/step - loss: 0.4142 - acc: 0.6051\n"
     ]
    },
    {
     "name": "stdout",
     "output_type": "stream",
     "text": [
      "Epoch 45/50\n"
     ]
    },
    {
     "name": "stdout",
     "output_type": "stream",
     "text": [
      "\r10/10 [==============================] - 3s 309ms/step - loss: 0.4130 - acc: 0.6034\n"
     ]
    },
    {
     "name": "stdout",
     "output_type": "stream",
     "text": [
      "Epoch 46/50\n"
     ]
    },
    {
     "name": "stdout",
     "output_type": "stream",
     "text": [
      "\r10/10 [==============================] - 3s 318ms/step - loss: 0.4113 - acc: 0.6065\n"
     ]
    },
    {
     "name": "stdout",
     "output_type": "stream",
     "text": [
      "Epoch 47/50\n"
     ]
    },
    {
     "name": "stdout",
     "output_type": "stream",
     "text": [
      "\r10/10 [==============================] - 3s 328ms/step - loss: 0.4102 - acc: 0.6106\n"
     ]
    },
    {
     "name": "stdout",
     "output_type": "stream",
     "text": [
      "Epoch 48/50\n"
     ]
    },
    {
     "name": "stdout",
     "output_type": "stream",
     "text": [
      "\r10/10 [==============================] - 3s 329ms/step - loss: 0.4085 - acc: 0.6143\n"
     ]
    },
    {
     "name": "stdout",
     "output_type": "stream",
     "text": [
      "Epoch 49/50\n"
     ]
    },
    {
     "name": "stdout",
     "output_type": "stream",
     "text": [
      "\r10/10 [==============================] - 3s 312ms/step - loss: 0.4072 - acc: 0.6162\n"
     ]
    },
    {
     "name": "stdout",
     "output_type": "stream",
     "text": [
      "Epoch 50/50\n"
     ]
    },
    {
     "name": "stdout",
     "output_type": "stream",
     "text": [
      "\r10/10 [==============================] - 3s 318ms/step - loss: 0.4062 - acc: 0.6162\n"
     ]
    }
   ],
   "source": [
    "\n",
    "def create_model(pool_size,up_size, windows, seq_lenght, trainX, epochs):\n",
    "    x = Input(shape=(seq_lenght, n_features), name=\"input\")\n",
    "    h = x\n",
    "    h = Conv1D(filters=300, kernel_size=n_features,\n",
    "               activation='relu',\n",
    "               padding='same', name='Conv1')(h)\n",
    "    h = MaxPooling1D(pool_size=pool_size[0], name='Maxpool1')(h)\n",
    "    h = Conv1D(filters=200, kernel_size=n_features,\n",
    "               activation='relu',\n",
    "               padding='same', name='Conv2')(h)\n",
    "    h = MaxPooling1D(pool_size=pool_size[1],  name=\"Maxpool2\")(h)\n",
    "    h = Conv1D(filters=150, kernel_size=n_features,\n",
    "               activation='relu',\n",
    "               padding='same',name='Conv3')(h)\n",
    "    h = MaxPool1D(pool_size=pool_size[2], name=\"Maxpool3\")(h)\n",
    "    h = Conv1D(filters=100, kernel_size=n_features,\n",
    "               activation='relu',\n",
    "               padding=\"same\", name='Conv4')(h)\n",
    "    h = MaxPool1D(pool_size=pool_size[3], name=\"Maxpool4\")(h)\n",
    "    h = Conv1D(filters=latent_dim, kernel_size=n_features,\n",
    "               activation='relu',\n",
    "               padding=\"same\", name='Conv5')(h)\n",
    "    h = MaxPool1D(pool_size=pool_size[4], name=\"Maxpool5\")(h)\n",
    "\n",
    "    h = Flatten()(h)\n",
    "    \n",
    "    h = Dense(latent_dim, name='embedding') (h)\n",
    "    y = h\n",
    "    \n",
    "    y = Dense(seq_lenght) (y)\n",
    "    y = Reshape((windows, np.prod(pool_size)))(y)\n",
    "    y = Conv1D(filters=n_features, kernel_size=n_features,\n",
    "               activation='relu',\n",
    "               padding='same', name='conv-decode1')(y)\n",
    "    y = UpSampling1D(size=up_size[0], name='upsampling1')(y)\n",
    "    y = Conv1D(filters=150, kernel_size=n_features,\n",
    "               activation='relu',\n",
    "               padding='same', name='conv-decode2')(y)\n",
    "    y = UpSampling1D(size=up_size[1], name='upsampling2')(y)\n",
    "    y = Conv1D(filters=200, kernel_size=n_features,\n",
    "               activation='relu',\n",
    "               padding='same', name='conv-decode3')(y)\n",
    "    y = UpSampling1D(size=up_size[2], name='upsampling3')(y)\n",
    "    y = Conv1D(filters=n_features, kernel_size=n_features,\n",
    "               padding='same', name='conv-decode4')(y)\n",
    "    y = UpSampling1D(size=up_size[3], name='upsampling4')(y)        \n",
    "    \n",
    "    model = Model(inputs=x, outputs=y, name='AE')\n",
    "    enc = Model(inputs=x, outputs=h, name='encoder')\n",
    "    \n",
    "    model.summary()\n",
    "    \n",
    "    model.compile(optimizer=\"adam\", loss=\"mse\", metrics=['accuracy'])\n",
    "    model.fit(x=trainX, y=trainX, epochs=epochs)\n",
    "    #model.save(\"Models/Nominal_conv_compressor.h5\")\n",
    "    \n",
    "    return model,enc\n",
    "    \n",
    "# model, enc = create_model(pool_size=[2,2,2,2],windows=41, \n",
    "#                           up_size=[2,2,2,2], seq_lenght=656, \n",
    "#                           trainX=trainX_nominal, epochs=15)\n",
    "model, enc = create_model(pool_size=[2,2,2,5,5], windows=33, \n",
    "                          up_size=[5,5,4,2], seq_lenght=6600, \n",
    "                          trainX=trainX_anomalous, epochs=50)\n",
    "\n",
    "\n",
    "\n",
    "# model = Sequential()\n",
    "# \n",
    "# encoder = Sequential()\n",
    "# encoder.add(Conv1D(filters=200, input_shape=(656,7), padding='same', \n",
    "#                    kernel_size=n_features))\n",
    "# encoder.add(Conv1D(filters=150, padding='same', \n",
    "#                    kernel_size=n_features))\n",
    "# encoder.add(Conv1D(filters=100,padding='same', \n",
    "#                    kernel_size=n_features))\n",
    "# encoder.add(Conv1D(filters=50, padding='same',\n",
    "#                    kernel_size=n_features))\n",
    "# encoder.add(Conv1D(filters=latent_dim, padding='same',\n",
    "#                    kernel_size=n_features))\n",
    "# #encoder.add(Dense(latent_dim, name=\"embedding\"))\n",
    "# \n",
    "# \n",
    "# decoder = Sequential(name=\"Decoder\")\n",
    "# #decoder.add(Reshape((656,1), name=\"Reshape\"))\n",
    "# decoder.add(Dense(64, name=\"Decoder_first\"))\n",
    "# decoder.add(Dense(units=n_features))\n",
    "# \n",
    "# model.add(encoder)\n",
    "# model.add(decoder)\n",
    "# \n",
    "# model.compile(optimizer=\"adam\", loss=\"mse\", metrics=['accuracy'])\n",
    "# \n",
    "# model.fit(x=trainX_nominal, y=trainX_nominal, epochs=epochs)\n",
    "#model.save(\"Models/Nominal_conv_model.h5\")\n"
   ]
  },
  {
   "cell_type": "code",
   "execution_count": 121,
   "metadata": {
    "collapsed": true
   },
   "outputs": [
    {
     "name": "stdout",
     "output_type": "stream",
     "text": [
      "(10, 4)\n"
     ]
    }
   ],
   "source": [
    "\n",
    "enc_values = enc.predict(trainX_anomalous)\n",
    "print(enc_values.shape)\n",
    "\n",
    "plt.plot(enc_values)\n",
    "plt.show()\n"
   ]
  },
  {
   "cell_type": "code",
   "execution_count": 122,
   "metadata": {
    "collapsed": true
   },
   "outputs": [],
   "source": [
    "from sklearn.decomposition import PCA\n",
    "\n",
    "pca=True\n",
    "\n",
    "if pca:\n",
    "    scaler = StandardScaler()\n",
    "    enc_input = scaler.fit_transform(enc_values)\n",
    "    pca = PCA(n_components=2)\n",
    "    principalComponents = pca.fit_transform(enc_input)\n",
    "    x_val = []\n",
    "    y_val=[]\n",
    "    for i in range(principalComponents.shape[0]):\n",
    "        x_val.append(principalComponents[i][0])\n",
    "        y_val.append(principalComponents[i][1])\n",
    "    \n",
    "    \n",
    "    plt.scatter(x=x_val,y=y_val, alpha=0.5)\n",
    "    plt.show()\n"
   ]
  },
  {
   "cell_type": "code",
   "execution_count": 4,
   "metadata": {
    "collapsed": true
   },
   "outputs": [
    {
     "name": "stdout",
     "output_type": "stream",
     "text": [
      "Done\n"
     ]
    }
   ],
   "source": [
    "nom_model = kr.models.load_model(\"Models/Nominal_conv_model.h5\")\n",
    "anom_model = kr.models.load_model(\"Models/Anom_conv_model.h5\") \n",
    "\n",
    "print(\"Done\")"
   ]
  },
  {
   "cell_type": "code",
   "execution_count": 5,
   "metadata": {
    "collapsed": true
   },
   "outputs": [],
   "source": [
    "\n",
    "from sklearn.manifold import TSNE\n",
    "\n",
    "def tsne(data, title):\n",
    "    tsne = TSNE(n_components=2, random_state=0)\n",
    "    \n",
    "    tsne_obj= tsne.fit_transform(data)\n",
    "    tsne_df = pd.DataFrame({'X':tsne_obj[:,0],\n",
    "                            'Y':tsne_obj[:,1],\n",
    "                            })\n",
    "    \n",
    "    plt.scatter(x=tsne_df[\"X\"],y=tsne_df[\"Y\"], alpha=0.5)\n",
    "    plt.title(title)\n",
    "    plt.show()\n",
    "    \n",
    "    return tsne_df\n"
   ]
  },
  {
   "cell_type": "code",
   "execution_count": 16,
   "metadata": {
    "collapsed": true
   },
   "outputs": [
    {
     "name": "stdout",
     "output_type": "stream",
     "text": [
      "(10, 6620, 10)\n"
     ]
    },
    {
     "name": "stdout",
     "output_type": "stream",
     "text": [
      "6620\n"
     ]
    },
    {
     "name": "stdout",
     "output_type": "stream",
     "text": [
      "6620\n"
     ]
    }
   ],
   "source": [
    "weight_modifiers = np.ones((latent_dim,))\n",
    "\n",
    "nom_enc =(anom_model.get_layer(index=0).predict(trainX_anomalous))\n",
    "print(nom_enc.shape)\n",
    "\n",
    "tsne_enc_df = tsne(nom_enc[0], \"Encoded Nominal\")\n",
    "print(len(tsne_enc_df))\n",
    "nom_dec = nom_model.get_layer(index=1).predict(nom_enc)\n",
    "tsne_dec_df = tsne(nom_dec[0], \"Decoded Nominal\")\n",
    "print(len(tsne_dec_df))\n"
   ]
  },
  {
   "cell_type": "code",
   "execution_count": 17,
   "metadata": {
    "collapsed": true
   },
   "outputs": [],
   "source": [
    "import scipy.cluster.hierarchy as shc\n",
    "from sklearn.cluster import AgglomerativeClustering\n",
    "\n",
    "plt.figure(figsize=(10, 7))\n",
    "plt.title(\"Customer Dendograms\")\n",
    "dend = shc.dendrogram(shc.linkage(tsne_enc_df, method='ward'))\n"
   ]
  },
  {
   "cell_type": "code",
   "execution_count": 23,
   "metadata": {
    "collapsed": true
   },
   "outputs": [
    {
     "name": "stdout",
     "output_type": "stream",
     "text": [
      "6620\n[0 0 0 ... 1 1 1]\n"
     ]
    }
   ],
   "source": [
    "\n",
    "n_clusters = 3\n",
    "cluster = AgglomerativeClustering(n_clusters=n_clusters, \n",
    "                                  affinity='euclidean',\n",
    "                                  linkage='ward')\n",
    "cl = cluster.fit_predict(tsne_enc_df)\n",
    "print(len(cl))\n",
    "print(cl)\n",
    "\n",
    "plt.plot(cl)\n",
    "plt.show()\n",
    "# weight_modifiers[0] = 1\n",
    "# nom_enc_modified = nom_enc\n",
    "# for i, elem in enumerate(nom_enc_modified):\n",
    "#     nom_enc_modified[i] = elem * weight_modifiers    \n",
    "\n",
    "\n",
    "# \n",
    "# tsne_enc_df = tsne(np.average(nom_enc, axis=0), \"Encoded Nominal\")\n",
    "# # \n",
    "# # \n",
    "# nom_dec = decoder.predict(nom_enc)\n",
    "# tsne_dec_df = tsne(np.average(nom_dec, axis=0), \"Decoded Nominal\")\n"
   ]
  },
  {
   "cell_type": "code",
   "execution_count": 24,
   "metadata": {
    "collapsed": true
   },
   "outputs": [],
   "source": [
    "df = pd.DataFrame(anomalous_data, columns=boat_curved.columns)\n",
    "\n",
    "for i in range(n_clusters):\n",
    "    cluster = np.squeeze(np.argwhere(cl==i))    \n",
    "    plt.scatter(x=df['lon'][cluster],y=df[\"lat\"][cluster],s=5)\n",
    "plt.show()\n",
    "\n"
   ]
  },
  {
   "cell_type": "code",
   "execution_count": 32,
   "metadata": {
    "collapsed": true
   },
   "outputs": [],
   "source": [
    "df_nominal = pd.DataFrame(normal_data, columns=boat_csv.columns)\n",
    "df = pd.DataFrame(nom_enc[0])\n",
    "\n",
    "plt.figure(1)\n",
    "axis_list = []\n",
    "\n",
    "for i in range(df.shape[1]):\n",
    "    plt.plot(df[i])\n",
    "\n",
    "plt.show()    "
   ]
  },
  {
   "cell_type": "code",
   "execution_count": 39,
   "metadata": {
    "collapsed": true
   },
   "outputs": [],
   "source": [
    "from sklearn.cluster import KMeans\n",
    "cluster_comp = [0,1,2,3]# print(tsne_enc_df)\n",
    "# print(tsne_dec_df)\n",
    "\n",
    "kmeans_normal = KMeans(n_clusters=2, random_state=0).fit(normal_data)\n",
    "clusters_normal = kmeans_normal.predict(np.average(trainX_nominal,axis=0))\n",
    "\n",
    "kmeans_enc = KMeans(n_clusters=2, random_state=0).fit(tsne_enc_df)\n",
    "clusters_enc = kmeans_enc.predict(tsne_enc_df)\n",
    "plt.plot(clusters_enc)\n",
    "plt.show()\n",
    "\n",
    "kmeans_dec = KMeans(n_clusters=2, random_state=0).fit(tsne_dec_df)\n",
    "clusters_dec = kmeans_dec.predict(tsne_dec_df)"
   ]
  },
  {
   "cell_type": "code",
   "execution_count": 40,
   "metadata": {
    "collapsed": true
   },
   "outputs": [
    {
     "name": "stdout",
     "output_type": "stream",
     "text": [
      "(4,) (4,) (4,)\n"
     ]
    }
   ],
   "source": [
    "def transform_to_mask(cl_label, clust_obj):\n",
    "    mask = []\n",
    "    part = []\n",
    "    for i, elem in enumerate(clust_obj):\n",
    "        if elem == cl_label:\n",
    "            part.append(i)\n",
    "        else:\n",
    "            if part:\n",
    "                mask.append(part)\n",
    "                part = []\n",
    "            else:\n",
    "                pass\n",
    "    return mask\n",
    "\n",
    "\n",
    "def get_mask_list(clust_obj):\n",
    "    mask_list = []\n",
    "    for i in cluster_comp:\n",
    "        mask_list.append(transform_to_mask(i, clust_obj))\n",
    "    return mask_list\n",
    "\n",
    "\n",
    "masks_normal = np.array(get_mask_list(clusters_normal))\n",
    "\n",
    "masks_enc = np.array(get_mask_list(clusters_enc))\n",
    "\n",
    "masks_dec = np.array(get_mask_list(clusters_dec))\n",
    "\n",
    "masks = (masks_normal, masks_enc,masks_dec)\n",
    "print(masks_normal.shape, masks_enc.shape, masks_enc.shape)\n"
   ]
  },
  {
   "cell_type": "code",
   "execution_count": 41,
   "metadata": {},
   "outputs": [
    {
     "name": "stdout",
     "output_type": "stream",
     "text": [
      "(6620, 7)\n"
     ]
    }
   ],
   "source": [
    "def plot_cl(cl, color):\n",
    "    plt.plot(cl[\"lon\"], cl[\"lat\"], color=color)\n",
    "        \n",
    "    \n",
    "def plot_clusters_on_map():\n",
    "    titles = ['Nominal Normal','Nominal Encoded','Nominal Decoded']\n",
    "    color_list = ['blue','green','red','black']\n",
    "    map = anomalous_data[:6620]\n",
    "    print(map.shape)\n",
    "    for k,mask in enumerate(masks):\n",
    "        for i, elem in enumerate(mask):\n",
    "            for j in elem:\n",
    "                cl = pd.DataFrame(map[j], columns=boat_curved.columns)\n",
    "                plot_cl(cl, color_list[i]) \n",
    "        plt.title(titles[k])\n",
    "        plt.show()\n",
    "      \n",
    "               \n",
    "plot_clusters_on_map()\n"
   ]
  },
  {
   "cell_type": "code",
   "execution_count": null,
   "metadata": {},
   "outputs": [],
   "source": []
  }
 ],
 "metadata": {
  "kernelspec": {
   "display_name": "Python 2",
   "language": "python",
   "name": "python2"
  },
  "language_info": {
   "codemirror_mode": {
    "name": "ipython",
    "version": 2
   },
   "file_extension": ".py",
   "mimetype": "text/x-python",
   "name": "python",
   "nbconvert_exporter": "python",
   "pygments_lexer": "ipython2",
   "version": "2.7.6"
  }
 },
 "nbformat": 4,
 "nbformat_minor": 0
}
