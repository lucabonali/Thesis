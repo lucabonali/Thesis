{
 "cells": [
  {
   "cell_type": "code",
   "execution_count": 1,
   "metadata": {
    "collapsed": true
   },
   "outputs": [
    {
     "name": "stderr",
     "output_type": "stream",
     "text": [
      "Using TensorFlow backend.\n"
     ]
    },
    {
     "name": "stdout",
     "output_type": "stream",
     "text": [
      "(66256, 8)\n"
     ]
    },
    {
     "name": "stdout",
     "output_type": "stream",
     "text": [
      "(72600, 8)\n(13200, 8)\n(100, 656, 8)\n(10, 656, 8)\n(10, 6600, 8)\n(1, 6600, 8)\n"
     ]
    }
   ],
   "source": [
    "from keras.layers import *\n",
    "from keras import Model\n",
    "import pandas as pd\n",
    "from sklearn.preprocessing import StandardScaler\n",
    "import matplotlib.pyplot as plt\n",
    "from keras import Sequential\n",
    "import keras as kr\n",
    "import keras.losses as losses\n",
    " \n",
    " \n",
    "# Setup the network parameters:\n",
    "intermediate_dim = 300\n",
    "latent_dim = 10\n",
    "beta = 5\n",
    "n_sequences = 200\n",
    "n_features = 8\n",
    "\n",
    "boat_csv = pd.read_csv(\"Data/Boat_nominal_data/Boat_sequences.csv\")\n",
    "boat_csv = boat_csv.drop(columns=[\"Unnamed: 0\"])\n",
    "scaler = StandardScaler()\n",
    "normal_data = scaler.fit_transform(boat_csv)\n",
    "print(normal_data.shape)\n",
    "\n",
    "boat_val = pd.read_csv(\"Data/Boat_nominal_data/Boat_nom_validation.csv\")\n",
    "boat_val = boat_val.drop(columns=[\"Unnamed: 0\"])\n",
    "scaler = StandardScaler()\n",
    "val_nom_data = scaler.fit_transform(boat_val)\n",
    "\n",
    "\n",
    "boat_anom_csv = pd.read_csv(\"Data/Boat_anomalous_big.csv\")\n",
    "boat_anom_csv= boat_anom_csv.drop(columns=[\"Unnamed: 0\"])    \n",
    "scaler = StandardScaler()\n",
    "anomalous_data = scaler.fit_transform(boat_anom_csv)\n",
    "print(anomalous_data.shape)\n",
    "\n",
    "boat_anom_val_csv = pd.read_csv(\"Data/Boat_anomalous_validation.csv\")\n",
    "boat_anom_val_csv= boat_anom_val_csv.drop(columns=[\"Unnamed: 0\"])    \n",
    "scaler = StandardScaler()\n",
    "anomalous_val_data = scaler.fit_transform(boat_anom_val_csv)\n",
    "print(anomalous_val_data.shape)\n",
    "\n",
    "def prepare_sequences(data, batch_size, interval):\n",
    "    samples = []\n",
    "    for i in range(0,data.shape[0]- batch_size, interval):\n",
    "        sample = data[i:i+batch_size]\t\n",
    "        samples.append(sample)\n",
    "\n",
    "    sequences = np.array(samples)\n",
    "\n",
    "    # Batch size (Number of samples time steps and number of features\n",
    "    trainX = np.reshape(sequences, (len(sequences), batch_size, n_features))\n",
    "\n",
    "    return trainX\n",
    "\n",
    "\n",
    "def prepare_data():    \n",
    "    trainX_nominal = prepare_sequences(normal_data,656,656) \n",
    "    print(trainX_nominal.shape)\n",
    "    \n",
    "    valX_nominal = prepare_sequences(val_nom_data, 656,656)\n",
    "    print(valX_nominal.shape)\n",
    "    \n",
    "    trainX_anomalous = prepare_sequences(anomalous_data,6600,6600)\n",
    "    print(trainX_anomalous.shape)  \n",
    "    \n",
    "    valX_anom = prepare_sequences(anomalous_val_data,6600,6600)\n",
    "    print(valX_anom.shape)\n",
    "\n",
    "    return trainX_nominal, valX_nominal, trainX_anomalous, valX_anom\n",
    "\n",
    "\n",
    "\n",
    "trainX_nominal, valX_nominal, trainX_anomalous, valX_anom = prepare_data()\n"
   ]
  },
  {
   "cell_type": "code",
   "execution_count": 32,
   "metadata": {
    "collapsed": true
   },
   "outputs": [
    {
     "name": "stdout",
     "output_type": "stream",
     "text": [
      "_________________________________________________________________\nLayer (type)                 Output Shape              Param #   \n=================================================================\nConv1 (Conv1D)               (None, 6600, 300)         19500     \n_________________________________________________________________\nMaxpool1 (MaxPooling1D)      (None, 3300, 300)         0         \n_________________________________________________________________\nConv2 (Conv1D)               (None, 3300, 200)         480200    \n_________________________________________________________________\nMaxpool2 (MaxPooling1D)      (None, 1650, 200)         0         \n_________________________________________________________________\nConv3 (Conv1D)               (None, 1650, 150)         240150    \n_________________________________________________________________\nMaxpool3 (MaxPooling1D)      (None, 825, 150)          0         \n_________________________________________________________________\nConv4 (Conv1D)               (None, 825, 100)          120100    \n_________________________________________________________________\nMaxpool4 (MaxPooling1D)      (None, 165, 100)          0         \n_________________________________________________________________\nConv5 (Conv1D)               (None, 165, 50)           40050     \n_________________________________________________________________\nMaxpool5 (MaxPooling1D)      (None, 33, 50)            0         \n_________________________________________________________________\nConv6 (Conv1D)               (None, 33, 10)            4010      \n_________________________________________________________________\nMaxpool6 (MaxPooling1D)      (None, 11, 10)            0         \n_________________________________________________________________\nflatten_18 (Flatten)         (None, 110)               0         \n_________________________________________________________________\nembedding (Dense)            (None, 10)                1110      \n=================================================================\nTotal params: 905,120\nTrainable params: 905,120\nNon-trainable params: 0\n_________________________________________________________________\n_________________________________________________________________\nLayer (type)                 Output Shape              Param #   \n=================================================================\ndense_26 (Dense)             (None, 6600)              72600     \n_________________________________________________________________\nreshape_18 (Reshape)         (None, 33, 200)           0         \n_________________________________________________________________\nconv-decode1 (Conv1D)        (None, 33, 8)             12808     \n_________________________________________________________________\nupsampling1 (UpSampling1D)   (None, 165, 8)            0         \n_________________________________________________________________\nconv-decode2 (Conv1D)        (None, 165, 50)           3250      \n_________________________________________________________________\nupsampling2 (UpSampling1D)   (None, 825, 50)           0         \n_________________________________________________________________\nconv-decode3 (Conv1D)        (None, 825, 100)          40100     \n_________________________________________________________________\nupsampling3 (UpSampling1D)   (None, 3300, 100)         0         \n_________________________________________________________________\nconv-decode4 (Conv1D)        (None, 3300, 8)           6408      \n_________________________________________________________________\nupsampling4 (UpSampling1D)   (None, 6600, 8)           0         \n=================================================================\nTotal params: 135,166\nTrainable params: 135,166\nNon-trainable params: 0\n_________________________________________________________________\n"
     ]
    },
    {
     "name": "stdout",
     "output_type": "stream",
     "text": [
      "Train on 10 samples, validate on 1 samples\nEpoch 1/50\n"
     ]
    },
    {
     "name": "stdout",
     "output_type": "stream",
     "text": [
      "\r10/10 [==============================] - 94s 9s/step - loss: 1.0011 - acc: 0.1518 - val_loss: 0.8199 - val_acc: 0.4027\n"
     ]
    },
    {
     "name": "stdout",
     "output_type": "stream",
     "text": [
      "Epoch 2/50\n"
     ]
    },
    {
     "name": "stdout",
     "output_type": "stream",
     "text": [
      "\r10/10 [==============================] - 8s 804ms/step - loss: 0.8211 - acc: 0.4022 - val_loss: 2.1396 - val_acc: 0.5086\n"
     ]
    },
    {
     "name": "stdout",
     "output_type": "stream",
     "text": [
      "Epoch 3/50\n"
     ]
    },
    {
     "name": "stdout",
     "output_type": "stream",
     "text": [
      "\r10/10 [==============================] - 8s 795ms/step - loss: 2.1697 - acc: 0.5082 - val_loss: 0.6813 - val_acc: 0.5135\n"
     ]
    },
    {
     "name": "stdout",
     "output_type": "stream",
     "text": [
      "Epoch 4/50\n"
     ]
    },
    {
     "name": "stdout",
     "output_type": "stream",
     "text": [
      "\r10/10 [==============================] - 8s 808ms/step - loss: 0.6809 - acc: 0.5112 - val_loss: 0.8921 - val_acc: 0.3177\n"
     ]
    },
    {
     "name": "stdout",
     "output_type": "stream",
     "text": [
      "Epoch 5/50\n"
     ]
    },
    {
     "name": "stdout",
     "output_type": "stream",
     "text": [
      "\r10/10 [==============================] - 8s 792ms/step - loss: 0.8907 - acc: 0.3149 - val_loss: 0.9340 - val_acc: 0.2720\n"
     ]
    },
    {
     "name": "stdout",
     "output_type": "stream",
     "text": [
      "Epoch 6/50\n"
     ]
    },
    {
     "name": "stdout",
     "output_type": "stream",
     "text": [
      "\r10/10 [==============================] - 8s 787ms/step - loss: 0.9327 - acc: 0.2680 - val_loss: 0.9251 - val_acc: 0.2702\n"
     ]
    },
    {
     "name": "stdout",
     "output_type": "stream",
     "text": [
      "Epoch 7/50\n"
     ]
    },
    {
     "name": "stdout",
     "output_type": "stream",
     "text": [
      "\r10/10 [==============================] - 8s 779ms/step - loss: 0.9239 - acc: 0.2671 - val_loss: 0.8830 - val_acc: 0.2721\n"
     ]
    },
    {
     "name": "stdout",
     "output_type": "stream",
     "text": [
      "Epoch 8/50\n"
     ]
    },
    {
     "name": "stdout",
     "output_type": "stream",
     "text": [
      "\r10/10 [==============================] - 8s 800ms/step - loss: 0.8811 - acc: 0.2702 - val_loss: 0.8050 - val_acc: 0.2971\n"
     ]
    },
    {
     "name": "stdout",
     "output_type": "stream",
     "text": [
      "Epoch 9/50\n"
     ]
    },
    {
     "name": "stdout",
     "output_type": "stream",
     "text": [
      "\r10/10 [==============================] - 8s 803ms/step - loss: 0.8029 - acc: 0.2953 - val_loss: 0.7275 - val_acc: 0.3348\n"
     ]
    },
    {
     "name": "stdout",
     "output_type": "stream",
     "text": [
      "Epoch 10/50\n"
     ]
    },
    {
     "name": "stdout",
     "output_type": "stream",
     "text": [
      "\r10/10 [==============================] - 8s 806ms/step - loss: 0.7284 - acc: 0.3324 - val_loss: 0.7207 - val_acc: 0.4059\n"
     ]
    },
    {
     "name": "stdout",
     "output_type": "stream",
     "text": [
      "Epoch 11/50\n"
     ]
    },
    {
     "name": "stdout",
     "output_type": "stream",
     "text": [
      "\r10/10 [==============================] - 8s 796ms/step - loss: 0.7273 - acc: 0.4023 - val_loss: 0.6055 - val_acc: 0.4530\n"
     ]
    },
    {
     "name": "stdout",
     "output_type": "stream",
     "text": [
      "Epoch 12/50\n"
     ]
    },
    {
     "name": "stdout",
     "output_type": "stream",
     "text": [
      "\r10/10 [==============================] - 8s 791ms/step - loss: 0.6067 - acc: 0.4500 - val_loss: 0.5856 - val_acc: 0.4974\n"
     ]
    },
    {
     "name": "stdout",
     "output_type": "stream",
     "text": [
      "Epoch 13/50\n"
     ]
    },
    {
     "name": "stdout",
     "output_type": "stream",
     "text": [
      "\r10/10 [==============================] - 8s 798ms/step - loss: 0.5839 - acc: 0.4967 - val_loss: 0.5491 - val_acc: 0.5123\n"
     ]
    },
    {
     "name": "stdout",
     "output_type": "stream",
     "text": [
      "Epoch 14/50\n"
     ]
    },
    {
     "name": "stdout",
     "output_type": "stream",
     "text": [
      "\r10/10 [==============================] - 8s 800ms/step - loss: 0.5474 - acc: 0.5099 - val_loss: 0.5668 - val_acc: 0.5120\n"
     ]
    },
    {
     "name": "stdout",
     "output_type": "stream",
     "text": [
      "Epoch 15/50\n"
     ]
    },
    {
     "name": "stdout",
     "output_type": "stream",
     "text": [
      "\r10/10 [==============================] - 8s 796ms/step - loss: 0.5733 - acc: 0.5099 - val_loss: 0.5402 - val_acc: 0.5180\n"
     ]
    },
    {
     "name": "stdout",
     "output_type": "stream",
     "text": [
      "Epoch 16/50\n"
     ]
    },
    {
     "name": "stdout",
     "output_type": "stream",
     "text": [
      "\r10/10 [==============================] - 8s 795ms/step - loss: 0.5367 - acc: 0.5148 - val_loss: 0.5401 - val_acc: 0.4977\n"
     ]
    },
    {
     "name": "stdout",
     "output_type": "stream",
     "text": [
      "Epoch 17/50\n"
     ]
    },
    {
     "name": "stdout",
     "output_type": "stream",
     "text": [
      "\r10/10 [==============================] - 8s 795ms/step - loss: 0.5358 - acc: 0.4979 - val_loss: 0.5493 - val_acc: 0.4942\n"
     ]
    },
    {
     "name": "stdout",
     "output_type": "stream",
     "text": [
      "Epoch 18/50\n"
     ]
    },
    {
     "name": "stdout",
     "output_type": "stream",
     "text": [
      "\r10/10 [==============================] - 8s 802ms/step - loss: 0.5609 - acc: 0.4935 - val_loss: 0.5372 - val_acc: 0.5174\n"
     ]
    },
    {
     "name": "stdout",
     "output_type": "stream",
     "text": [
      "Epoch 19/50\n"
     ]
    },
    {
     "name": "stdout",
     "output_type": "stream",
     "text": [
      "\r10/10 [==============================] - 8s 799ms/step - loss: 0.5319 - acc: 0.5144 - val_loss: 0.5124 - val_acc: 0.5345\n"
     ]
    },
    {
     "name": "stdout",
     "output_type": "stream",
     "text": [
      "Epoch 20/50\n"
     ]
    },
    {
     "name": "stdout",
     "output_type": "stream",
     "text": [
      "\r10/10 [==============================] - 8s 798ms/step - loss: 0.5109 - acc: 0.5297 - val_loss: 0.5178 - val_acc: 0.5371\n"
     ]
    },
    {
     "name": "stdout",
     "output_type": "stream",
     "text": [
      "Epoch 21/50\n"
     ]
    },
    {
     "name": "stdout",
     "output_type": "stream",
     "text": [
      "\r10/10 [==============================] - 8s 798ms/step - loss: 0.5276 - acc: 0.5322 - val_loss: 0.5121 - val_acc: 0.5550\n"
     ]
    },
    {
     "name": "stdout",
     "output_type": "stream",
     "text": [
      "Epoch 22/50\n"
     ]
    },
    {
     "name": "stdout",
     "output_type": "stream",
     "text": [
      "\r10/10 [==============================] - 6s 614ms/step - loss: 0.5070 - acc: 0.5499 - val_loss: 0.4920 - val_acc: 0.5639\n"
     ]
    },
    {
     "name": "stdout",
     "output_type": "stream",
     "text": [
      "Epoch 23/50\n"
     ]
    },
    {
     "name": "stdout",
     "output_type": "stream",
     "text": [
      "\r10/10 [==============================] - 6s 584ms/step - loss: 0.4899 - acc: 0.5583 - val_loss: 0.4901 - val_acc: 0.5726\n"
     ]
    },
    {
     "name": "stdout",
     "output_type": "stream",
     "text": [
      "Epoch 24/50\n"
     ]
    },
    {
     "name": "stdout",
     "output_type": "stream",
     "text": [
      "\r10/10 [==============================] - 5s 516ms/step - loss: 0.5004 - acc: 0.5680 - val_loss: 0.4897 - val_acc: 0.5782\n"
     ]
    },
    {
     "name": "stdout",
     "output_type": "stream",
     "text": [
      "Epoch 25/50\n"
     ]
    },
    {
     "name": "stdout",
     "output_type": "stream",
     "text": [
      "\r10/10 [==============================] - 7s 711ms/step - loss: 0.4863 - acc: 0.5740 - val_loss: 0.4912 - val_acc: 0.5805\n"
     ]
    },
    {
     "name": "stdout",
     "output_type": "stream",
     "text": [
      "Epoch 26/50\n"
     ]
    },
    {
     "name": "stdout",
     "output_type": "stream",
     "text": [
      "\r10/10 [==============================] - 8s 790ms/step - loss: 0.4857 - acc: 0.5780 - val_loss: 0.4793 - val_acc: 0.5852\n"
     ]
    },
    {
     "name": "stdout",
     "output_type": "stream",
     "text": [
      "Epoch 27/50\n"
     ]
    },
    {
     "name": "stdout",
     "output_type": "stream",
     "text": [
      "\r10/10 [==============================] - 8s 795ms/step - loss: 0.4859 - acc: 0.5825 - val_loss: 0.4754 - val_acc: 0.5912\n"
     ]
    },
    {
     "name": "stdout",
     "output_type": "stream",
     "text": [
      "Epoch 28/50\n"
     ]
    },
    {
     "name": "stdout",
     "output_type": "stream",
     "text": [
      "\r10/10 [==============================] - 8s 785ms/step - loss: 0.4756 - acc: 0.5869 - val_loss: 0.4851 - val_acc: 0.5952\n"
     ]
    },
    {
     "name": "stdout",
     "output_type": "stream",
     "text": [
      "Epoch 29/50\n"
     ]
    },
    {
     "name": "stdout",
     "output_type": "stream",
     "text": [
      "\r10/10 [==============================] - 8s 783ms/step - loss: 0.4805 - acc: 0.5948 - val_loss: 0.4711 - val_acc: 0.5961\n"
     ]
    },
    {
     "name": "stdout",
     "output_type": "stream",
     "text": [
      "Epoch 30/50\n"
     ]
    },
    {
     "name": "stdout",
     "output_type": "stream",
     "text": [
      "\r10/10 [==============================] - 8s 789ms/step - loss: 0.4730 - acc: 0.5921 - val_loss: 0.4699 - val_acc: 0.5915\n"
     ]
    },
    {
     "name": "stdout",
     "output_type": "stream",
     "text": [
      "Epoch 31/50\n"
     ]
    },
    {
     "name": "stdout",
     "output_type": "stream",
     "text": [
      "\r10/10 [==============================] - 8s 799ms/step - loss: 0.4739 - acc: 0.5882 - val_loss: 0.4743 - val_acc: 0.5861\n"
     ]
    },
    {
     "name": "stdout",
     "output_type": "stream",
     "text": [
      "Epoch 32/50\n"
     ]
    },
    {
     "name": "stdout",
     "output_type": "stream",
     "text": [
      "\r10/10 [==============================] - 8s 777ms/step - loss: 0.4711 - acc: 0.5834 - val_loss: 0.4691 - val_acc: 0.5845\n"
     ]
    },
    {
     "name": "stdout",
     "output_type": "stream",
     "text": [
      "Epoch 33/50\n"
     ]
    },
    {
     "name": "stdout",
     "output_type": "stream",
     "text": [
      "\r10/10 [==============================] - 8s 796ms/step - loss: 0.4672 - acc: 0.5818 - val_loss: 0.4644 - val_acc: 0.5821\n"
     ]
    },
    {
     "name": "stdout",
     "output_type": "stream",
     "text": [
      "Epoch 34/50\n"
     ]
    },
    {
     "name": "stdout",
     "output_type": "stream",
     "text": [
      "\r10/10 [==============================] - 8s 784ms/step - loss: 0.4683 - acc: 0.5805 - val_loss: 0.4628 - val_acc: 0.5821\n"
     ]
    },
    {
     "name": "stdout",
     "output_type": "stream",
     "text": [
      "Epoch 35/50\n"
     ]
    },
    {
     "name": "stdout",
     "output_type": "stream",
     "text": [
      "\r10/10 [==============================] - 8s 791ms/step - loss: 0.4636 - acc: 0.5769 - val_loss: 0.4673 - val_acc: 0.5803\n"
     ]
    },
    {
     "name": "stdout",
     "output_type": "stream",
     "text": [
      "Epoch 36/50\n"
     ]
    },
    {
     "name": "stdout",
     "output_type": "stream",
     "text": [
      "\r10/10 [==============================] - 8s 798ms/step - loss: 0.4649 - acc: 0.5757 - val_loss: 0.4606 - val_acc: 0.5736\n"
     ]
    },
    {
     "name": "stdout",
     "output_type": "stream",
     "text": [
      "Epoch 37/50\n"
     ]
    },
    {
     "name": "stdout",
     "output_type": "stream",
     "text": [
      "\r10/10 [==============================] - 8s 788ms/step - loss: 0.4610 - acc: 0.5730 - val_loss: 0.4595 - val_acc: 0.5694\n"
     ]
    },
    {
     "name": "stdout",
     "output_type": "stream",
     "text": [
      "Epoch 38/50\n"
     ]
    },
    {
     "name": "stdout",
     "output_type": "stream",
     "text": [
      "\r10/10 [==============================] - 8s 794ms/step - loss: 0.4615 - acc: 0.5671 - val_loss: 0.4601 - val_acc: 0.5706\n"
     ]
    },
    {
     "name": "stdout",
     "output_type": "stream",
     "text": [
      "Epoch 39/50\n"
     ]
    },
    {
     "name": "stdout",
     "output_type": "stream",
     "text": [
      "\r10/10 [==============================] - 8s 781ms/step - loss: 0.4594 - acc: 0.5676 - val_loss: 0.4587 - val_acc: 0.5711\n"
     ]
    },
    {
     "name": "stdout",
     "output_type": "stream",
     "text": [
      "Epoch 40/50\n"
     ]
    },
    {
     "name": "stdout",
     "output_type": "stream",
     "text": [
      "\r10/10 [==============================] - 8s 789ms/step - loss: 0.4582 - acc: 0.5678 - val_loss: 0.4559 - val_acc: 0.5721\n"
     ]
    },
    {
     "name": "stdout",
     "output_type": "stream",
     "text": [
      "Epoch 41/50\n"
     ]
    },
    {
     "name": "stdout",
     "output_type": "stream",
     "text": [
      "\r10/10 [==============================] - 8s 792ms/step - loss: 0.4576 - acc: 0.5691 - val_loss: 0.4552 - val_acc: 0.5745\n"
     ]
    },
    {
     "name": "stdout",
     "output_type": "stream",
     "text": [
      "Epoch 42/50\n"
     ]
    },
    {
     "name": "stdout",
     "output_type": "stream",
     "text": [
      "\r10/10 [==============================] - 8s 784ms/step - loss: 0.4557 - acc: 0.5717 - val_loss: 0.4568 - val_acc: 0.5782\n"
     ]
    },
    {
     "name": "stdout",
     "output_type": "stream",
     "text": [
      "Epoch 43/50\n"
     ]
    },
    {
     "name": "stdout",
     "output_type": "stream",
     "text": [
      "\r10/10 [==============================] - 8s 791ms/step - loss: 0.4558 - acc: 0.5732 - val_loss: 0.4532 - val_acc: 0.5815\n"
     ]
    },
    {
     "name": "stdout",
     "output_type": "stream",
     "text": [
      "Epoch 44/50\n"
     ]
    },
    {
     "name": "stdout",
     "output_type": "stream",
     "text": [
      "\r10/10 [==============================] - 8s 799ms/step - loss: 0.4539 - acc: 0.5739 - val_loss: 0.4522 - val_acc: 0.5814\n"
     ]
    },
    {
     "name": "stdout",
     "output_type": "stream",
     "text": [
      "Epoch 45/50\n"
     ]
    },
    {
     "name": "stdout",
     "output_type": "stream",
     "text": [
      "\r10/10 [==============================] - 8s 800ms/step - loss: 0.4541 - acc: 0.5777 - val_loss: 0.4527 - val_acc: 0.5844\n"
     ]
    },
    {
     "name": "stdout",
     "output_type": "stream",
     "text": [
      "Epoch 46/50\n"
     ]
    },
    {
     "name": "stdout",
     "output_type": "stream",
     "text": [
      "\r10/10 [==============================] - 8s 795ms/step - loss: 0.4524 - acc: 0.5797 - val_loss: 0.4530 - val_acc: 0.5821\n"
     ]
    },
    {
     "name": "stdout",
     "output_type": "stream",
     "text": [
      "Epoch 47/50\n"
     ]
    },
    {
     "name": "stdout",
     "output_type": "stream",
     "text": [
      "\r10/10 [==============================] - 8s 795ms/step - loss: 0.4520 - acc: 0.5807 - val_loss: 0.4504 - val_acc: 0.5847\n"
     ]
    },
    {
     "name": "stdout",
     "output_type": "stream",
     "text": [
      "Epoch 48/50\n"
     ]
    },
    {
     "name": "stdout",
     "output_type": "stream",
     "text": [
      "\r10/10 [==============================] - 8s 793ms/step - loss: 0.4511 - acc: 0.5845 - val_loss: 0.4499 - val_acc: 0.5838\n"
     ]
    },
    {
     "name": "stdout",
     "output_type": "stream",
     "text": [
      "Epoch 49/50\n"
     ]
    },
    {
     "name": "stdout",
     "output_type": "stream",
     "text": [
      "\r10/10 [==============================] - 8s 793ms/step - loss: 0.4504 - acc: 0.5864 - val_loss: 0.4509 - val_acc: 0.5841\n"
     ]
    },
    {
     "name": "stdout",
     "output_type": "stream",
     "text": [
      "Epoch 50/50\n"
     ]
    },
    {
     "name": "stdout",
     "output_type": "stream",
     "text": [
      "\r10/10 [==============================] - 8s 782ms/step - loss: 0.4499 - acc: 0.5842 - val_loss: 0.4497 - val_acc: 0.5855\n"
     ]
    }
   ],
   "source": [
    "\n",
    "def create_model(pool_size,up_size, windows, seq_length, trainX, epochs, val_data):\n",
    "    encoder = Sequential(name=\"encoder\")\n",
    "    encoder.add(Conv1D(filters=300, kernel_size=n_features,\n",
    "               padding='same', name='Conv1'))\n",
    "    encoder.add(MaxPooling1D(pool_size=pool_size[0], name='Maxpool1'))\n",
    "    encoder.add(Conv1D(filters=200, kernel_size=n_features,\n",
    "               padding='same', name='Conv2'))\n",
    "    encoder.add(MaxPooling1D(pool_size=pool_size[1],  name=\"Maxpool2\"))\n",
    "    encoder.add(Conv1D(filters=150, kernel_size=n_features,\n",
    "               padding='same',name='Conv3'))\n",
    "    encoder.add(MaxPool1D(pool_size=pool_size[2], name=\"Maxpool3\"))\n",
    "    encoder.add(Conv1D(filters=100, kernel_size=n_features,\n",
    "               padding=\"same\", name='Conv4'))\n",
    "    encoder.add(MaxPool1D(pool_size=pool_size[3], name=\"Maxpool4\"))\n",
    "    encoder.add(Conv1D(filters=50, kernel_size=n_features,\n",
    "               padding=\"same\", name='Conv5'))\n",
    "    encoder.add(MaxPool1D(pool_size=pool_size[4], name=\"Maxpool5\"))\n",
    "    encoder.add(Conv1D(filters=latent_dim, kernel_size=n_features,          \n",
    "               padding=\"same\", name='Conv6'))\n",
    "    encoder.add(MaxPool1D(pool_size=pool_size[5], name=\"Maxpool6\"))\n",
    "    encoder.add(Flatten())\n",
    "    encoder.add(Dense(latent_dim, name='embedding'))\n",
    "    \n",
    "    decoder = Sequential(name=\"decoder\")\n",
    "    decoder.add(Dense(seq_length))\n",
    "    decoder.add(Reshape((windows, np.prod(up_size))))\n",
    "    decoder.add(Conv1D(filters=n_features, kernel_size=n_features,\n",
    "                padding='same', name='conv-decode1'))\n",
    "    decoder.add(UpSampling1D(size=up_size[0], name='upsampling1'))\n",
    "    decoder.add(Conv1D(filters=50, kernel_size=n_features,\n",
    "                padding='same', name='conv-decode2'))\n",
    "    decoder.add(UpSampling1D(size=up_size[1], name='upsampling2'))\n",
    "    decoder.add(Conv1D(filters=100, kernel_size=n_features,\n",
    "                padding='same', name='conv-decode3'))\n",
    "    decoder.add(UpSampling1D(size=up_size[2], name='upsampling3'))\n",
    "    decoder.add(Conv1D(filters=n_features, kernel_size=n_features,\n",
    "                padding='same', name='conv-decode4'))\n",
    "    decoder.add(UpSampling1D(size=up_size[3], name='upsampling4'))       \n",
    "    \n",
    "    model = Sequential()\n",
    "    model.add(encoder)\n",
    "    model.add(decoder)\n",
    "    \n",
    "    encoder.build(input_shape=(None,seq_length,n_features))\n",
    "    decoder.build(input_shape=(None,latent_dim))\n",
    "    model.build(input_shape=(None,seq_length, n_features))\n",
    "    model.compile(optimizer=\"adam\", loss=\"mse\", metrics=['accuracy'])\n",
    "    encoder.summary()\n",
    "    decoder.summary()\n",
    "    model.fit(x=trainX, y=trainX, epochs=epochs, validation_data=(val_data, val_data))\n",
    "    model.save(\"Models/Anomalous_conv_compressor.h5\")\n",
    "    \n",
    "    return model\n",
    "    \n",
    "    \n",
    "# model = create_model(pool_size=[2, 2, 2, 2, 2], windows=41,\n",
    "#                      up_size=[2, 2, 2, 2], seq_length=656, \n",
    "#                      trainX=trainX_nominal, epochs=15,\n",
    "#                       val_data=valX_nominal)\n",
    "model = create_model(pool_size=[2, 2, 2, 5, 5, 3], windows=33, \n",
    "                     up_size=[5, 5, 4, 2], seq_length=6600, \n",
    "                     trainX=trainX_anomalous, epochs=50,\n",
    "                     val_data=valX_anom)\n"
   ]
  },
  {
   "cell_type": "code",
   "execution_count": 84,
   "metadata": {
    "collapsed": true
   },
   "outputs": [],
   "source": [
    "def create_conv_model(epochs, seq_length, trainX, valX_data):\n",
    "    model = Sequential()\n",
    "    \n",
    "    encoder = Sequential()\n",
    "    encoder.add(Conv1D(filters=200, input_shape=(seq_length, 8), padding='same', \n",
    "                       kernel_size=n_features))\n",
    "    encoder.add(Conv1D(filters=150, padding='same', \n",
    "                       kernel_size=n_features))\n",
    "    encoder.add(Conv1D(filters=100,padding='same', \n",
    "                       kernel_size=n_features))\n",
    "    encoder.add(Conv1D(filters=50, padding='same',\n",
    "                       kernel_size=n_features))\n",
    "    encoder.add(Conv1D(filters=latent_dim, padding='same',\n",
    "                       kernel_size=n_features)) \n",
    "    \n",
    "    decoder = Sequential(name=\"Decoder\")\n",
    "    decoder.add(Dense(64, name=\"Decoder_first\"))\n",
    "    decoder.add(Dense(units=n_features))\n",
    "    \n",
    "    model.add(encoder)\n",
    "    model.add(decoder)\n",
    "    \n",
    "    model.compile(optimizer=\"adam\", loss=\"mse\", metrics=['accuracy'])\n",
    "    \n",
    "    model.fit(x=trainX, y=trainX, epochs=epochs, validation_data=(valX_data,valX_data))\n",
    "    model.save(\"Models/Nominal_conv.h5\")\n",
    "\n",
    "    return model\n",
    "\n",
    "\n",
    "# nom_model = create_conv_model(30, 656, trainX=trainX_nominal, \n",
    "#                             valX_data=valX_nominal)\n",
    "\n",
    "# anom_model = create_conv_model(50, 6600, trainX=trainX_anomalous, \n",
    "#                                valX_data=valX_anom)\n"
   ]
  },
  {
   "cell_type": "code",
   "execution_count": 85,
   "metadata": {
    "collapsed": true
   },
   "outputs": [
    {
     "name": "stdout",
     "output_type": "stream",
     "text": [
      "Done\n"
     ]
    }
   ],
   "source": [
    "nom_model = kr.models.load_model(\"Models/Nominal_conv.h5\")\n",
    "anom_model = kr.models.load_model(\"Models/Anomalous_conv.h5\") \n",
    "\n",
    "print(\"Done\")\n"
   ]
  },
  {
   "cell_type": "code",
   "execution_count": 86,
   "metadata": {
    "collapsed": true
   },
   "outputs": [
    {
     "name": "stdout",
     "output_type": "stream",
     "text": [
      "(100, 656, 10)\n"
     ]
    },
    {
     "name": "stdout",
     "output_type": "stream",
     "text": [
      "(10, 6600, 10)\n"
     ]
    }
   ],
   "source": [
    "\n",
    "nom_encoded = nom_model.get_layer(index=0).predict(trainX_nominal)\n",
    "print(nom_encoded.shape)\n",
    "# \n",
    "# plt.plot(nom_encoded[0])\n",
    "# plt.show()\n",
    "\n",
    "anom_encoded = anom_model.get_layer(index=0).predict(trainX_anomalous) \n",
    "print(anom_encoded.shape)\n",
    "# \n",
    "# plt.plot(anom_encoded)\n",
    "# plt.show()\n"
   ]
  },
  {
   "cell_type": "code",
   "execution_count": 88,
   "metadata": {
    "collapsed": true
   },
   "outputs": [],
   "source": [
    "plt.plot(nom_encoded[0])\n",
    "plt.title(\"nom_encoding\")\n",
    "plt.show()\n",
    "plt.plot(anom_encoded[0])\n",
    "plt.title(\"anom_encoded\")\n",
    "plt.show()\n"
   ]
  },
  {
   "cell_type": "code",
   "execution_count": 68,
   "metadata": {
    "collapsed": true
   },
   "outputs": [],
   "source": [
    "mod_enc_anom = np.zeros(shape=(10,10))\n",
    "\n",
    "mod_enc_anom[:anom_encoded.shape[0],:anom_encoded.shape[1]] = anom_encoded\n",
    "mod_enc_anom[0] = [-0.4481652 ,0.660993,3.6124344, 1.1903877,0.03680914,4.85686,\n",
    "                    -0.5965184, 3.8528519, -2.424729, 0.23854657]\n"
   ]
  },
  {
   "cell_type": "code",
   "execution_count": 72,
   "metadata": {
    "collapsed": true
   },
   "outputs": [],
   "source": [
    "mod_anom_dec = anom_model.get_layer(index=1).predict(mod_enc_anom)\n",
    "print(mod_anom_dec.shape)\n",
    "plt.plot(anom_dec[0])\n",
    "plt.title(\"normal\")\n",
    "plt.show()\n",
    "plt.plot(mod_anom_dec[0])\n",
    "plt.title(\"modified\")\n",
    "plt.show()\n"
   ]
  },
  {
   "cell_type": "code",
   "execution_count": 77,
   "metadata": {
    "collapsed": true
   },
   "outputs": [],
   "source": [
    "mod_df = pd.DataFrame(mod_anom_dec[8], columns=boat_anom_csv.columns)\n",
    "plt.plot(mod_df[\"lon\"], mod_df['lat'])\n",
    "plt.title(\"reconstruction\")\n",
    "plt.show()\n"
   ]
  },
  {
   "cell_type": "code",
   "execution_count": 89,
   "metadata": {
    "collapsed": true
   },
   "outputs": [],
   "source": [
    "\n",
    "nom_dec = nom_model.get_layer(index=1).predict(nom_encoded)\n",
    "print(nom_dec.shape)\n",
    "\n",
    "anom_dec = anom_model.get_layer(index=1).predict(anom_encoded)\n",
    "print(anom_dec.shape)\n"
   ]
  },
  {
   "cell_type": "code",
   "execution_count": 91,
   "metadata": {
    "collapsed": true
   },
   "outputs": [],
   "source": [
    "df = pd.DataFrame(nom_dec[0], columns=boat_csv.columns)\n",
    "plt.plot(df[\"Lon\"], df['Lat'])\n",
    "plt.title(\"reconstruction_nom\")\n",
    "plt.show()\n",
    "\n",
    "\n",
    "df_anom = pd.DataFrame(anom_dec[0], columns=boat_anom_csv.columns)\n",
    "plt.plot(df_anom[\"lon\"], df_anom['lat'])\n",
    "plt.title(\"reconstruction_anom\")\n",
    "plt.show()\n",
    "\n"
   ]
  },
  {
   "cell_type": "code",
   "execution_count": null,
   "metadata": {
    "collapsed": true
   },
   "outputs": [],
   "source": [
    "\n"
   ]
  },
  {
   "cell_type": "code",
   "execution_count": 70,
   "metadata": {
    "collapsed": true
   },
   "outputs": [],
   "source": [
    "\n",
    "from sklearn.manifold import TSNE\n",
    "\n",
    "def tsne(data, title):\n",
    "    tsne = TSNE(n_components=2, random_state=0)\n",
    "    \n",
    "    tsne_obj= tsne.fit_transform(data)\n",
    "    tsne_df = pd.DataFrame({'X':tsne_obj[:,0],\n",
    "                            'Y':tsne_obj[:,1],\n",
    "                            })\n",
    "    \n",
    "    plt.scatter(x=tsne_df[\"X\"],y=tsne_df[\"Y\"], alpha=0.5)\n",
    "    plt.title(title)\n",
    "    plt.show()\n",
    "    \n",
    "    return tsne_df\n"
   ]
  },
  {
   "cell_type": "code",
   "execution_count": 71,
   "metadata": {
    "collapsed": true
   },
   "outputs": [
    {
     "name": "stdout",
     "output_type": "stream",
     "text": [
      "656\n"
     ]
    },
    {
     "name": "stdout",
     "output_type": "stream",
     "text": [
      "6600\n"
     ]
    }
   ],
   "source": [
    "weight_modifiers = np.ones((latent_dim,))\n",
    "\n",
    "tsne_dec_nom_df = tsne(nom_dec[0], \"Decoded Nominal\")\n",
    "print(len(tsne_dec_nom_df))\n",
    "\n",
    "tsne_dec_anom_df = tsne(anom_dec[0], \"Decoded Anomalous\")\n",
    "print(len(tsne_dec_anom_df))\n"
   ]
  },
  {
   "cell_type": "code",
   "execution_count": 72,
   "metadata": {
    "collapsed": true
   },
   "outputs": [],
   "source": [
    "import scipy.cluster.hierarchy as shc\n",
    "from sklearn.cluster import AgglomerativeClustering\n",
    "\n",
    "plt.figure(figsize=(10, 7))\n",
    "plt.title(\"Customer Dendograms\")\n",
    "dend_nom = shc.dendrogram(shc.linkage(tsne_dec_nom_df, method='ward'))\n",
    "dend_anom = shc.dendrogram(shc.linkage(tsne_dec_anom_df, method='ward'))\n",
    "\n"
   ]
  },
  {
   "cell_type": "code",
   "execution_count": 74,
   "metadata": {
    "collapsed": true
   },
   "outputs": [],
   "source": [
    "\n",
    "n_clusters = 4\n",
    "cluster = AgglomerativeClustering(n_clusters=n_clusters, \n",
    "                                  affinity='euclidean',\n",
    "                                  linkage='ward')\n",
    "cl_nom = cluster.fit_predict(tsne_dec_nom_df)\n",
    "cl_anom = cluster.fit_predict(tsne_dec_anom_df)\n",
    "plt.plot(cl_nom)\n",
    "plt.title(\"NOMINAL CLUSTERS\")\n",
    "plt.show()\n",
    "\n",
    "plt.plot(cl_anom)\n",
    "plt.title(\"Anomalous_clusters\")\n",
    "plt.show()"
   ]
  },
  {
   "cell_type": "code",
   "execution_count": 75,
   "metadata": {
    "collapsed": true
   },
   "outputs": [],
   "source": [
    "\n",
    "df_nom = pd.DataFrame(normal_data, columns=boat_csv.columns)\n",
    "df_anom = pd.DataFrame(anomalous_data, columns=boat_anom_csv.columns)\n",
    "def plot_clusters(cl, df, nominal):\n",
    "    for i in range(n_clusters):\n",
    "        cluster = np.squeeze(np.argwhere(cl==i))    \n",
    "        if nominal:\n",
    "            plt.scatter(x=df['Lon'][cluster],y=df[\"Lat\"][cluster],s=5)\n",
    "        else:\n",
    "            plt.scatter(x=df['lon'][cluster],y=df[\"lat\"][cluster],s=5)\n",
    "    plt.show()\n",
    "\n",
    "\n",
    "plot_clusters(cl_nom, df_nom, True)\n",
    "plot_clusters(cl_anom, df_anom, False)\n"
   ]
  },
  {
   "cell_type": "code",
   "execution_count": 32,
   "metadata": {
    "collapsed": true
   },
   "outputs": [],
   "source": [
    "df_nominal = pd.DataFrame(normal_data, columns=boat_csv.columns)\n",
    "df = pd.DataFrame(nom_enc[0])\n",
    "\n",
    "plt.figure(1)\n",
    "axis_list = []\n",
    "\n",
    "for i in range(df.shape[1]):\n",
    "    plt.plot(df[i])\n",
    "\n",
    "plt.show()    "
   ]
  },
  {
   "cell_type": "code",
   "execution_count": 39,
   "metadata": {
    "collapsed": true
   },
   "outputs": [],
   "source": [
    "from sklearn.cluster import KMeans\n",
    "cluster_comp = [0,1,2,3]# print(tsne_enc_df)\n",
    "# print(tsne_dec_df)\n",
    "\n",
    "kmeans_normal = KMeans(n_clusters=2, random_state=0).fit(normal_data)\n",
    "clusters_normal = kmeans_normal.predict(np.average(trainX_nominal,axis=0))\n",
    "\n",
    "kmeans_enc = KMeans(n_clusters=2, random_state=0).fit(tsne_enc_df)\n",
    "clusters_enc = kmeans_enc.predict(tsne_enc_df)\n",
    "plt.plot(clusters_enc)\n",
    "plt.show()\n",
    "\n",
    "kmeans_dec = KMeans(n_clusters=2, random_state=0).fit(tsne_dec_df)\n",
    "clusters_dec = kmeans_dec.predict(tsne_dec_df)"
   ]
  },
  {
   "cell_type": "code",
   "execution_count": 40,
   "metadata": {
    "collapsed": true
   },
   "outputs": [
    {
     "name": "stdout",
     "output_type": "stream",
     "text": [
      "(4,) (4,) (4,)\n"
     ]
    }
   ],
   "source": [
    "def transform_to_mask(cl_label, clust_obj):\n",
    "    mask = []\n",
    "    part = []\n",
    "    for i, elem in enumerate(clust_obj):\n",
    "        if elem == cl_label:\n",
    "            part.append(i)\n",
    "        else:\n",
    "            if part:\n",
    "                mask.append(part)\n",
    "                part = []\n",
    "            else:\n",
    "                pass\n",
    "    return mask\n",
    "\n",
    "\n",
    "def get_mask_list(clust_obj):\n",
    "    mask_list = []\n",
    "    for i in cluster_comp:\n",
    "        mask_list.append(transform_to_mask(i, clust_obj))\n",
    "    return mask_list\n",
    "\n",
    "\n",
    "masks_normal = np.array(get_mask_list(clusters_normal))\n",
    "\n",
    "masks_enc = np.array(get_mask_list(clusters_enc))\n",
    "\n",
    "masks_dec = np.array(get_mask_list(clusters_dec))\n",
    "\n",
    "masks = (masks_normal, masks_enc,masks_dec)\n",
    "print(masks_normal.shape, masks_enc.shape, masks_enc.shape)\n"
   ]
  },
  {
   "cell_type": "code",
   "execution_count": 41,
   "metadata": {},
   "outputs": [
    {
     "name": "stdout",
     "output_type": "stream",
     "text": [
      "(6620, 7)\n"
     ]
    }
   ],
   "source": [
    "def plot_cl(cl, color):\n",
    "    plt.plot(cl[\"lon\"], cl[\"lat\"], color=color)\n",
    "        \n",
    "    \n",
    "def plot_clusters_on_map():\n",
    "    titles = ['Nominal Normal','Nominal Encoded','Nominal Decoded']\n",
    "    color_list = ['blue','green','red','black']\n",
    "    map = anomalous_data[:6620]\n",
    "    print(map.shape)\n",
    "    for k,mask in enumerate(masks):\n",
    "        for i, elem in enumerate(mask):\n",
    "            for j in elem:\n",
    "                cl = pd.DataFrame(map[j], columns=boat_anom_csv.columns)\n",
    "                plot_cl(cl, color_list[i]) \n",
    "        plt.title(titles[k])\n",
    "        plt.show()\n",
    "      \n",
    "               \n",
    "plot_clusters_on_map()\n"
   ]
  },
  {
   "cell_type": "code",
   "execution_count": null,
   "metadata": {},
   "outputs": [],
   "source": []
  }
 ],
 "metadata": {
  "kernelspec": {
   "display_name": "Python 2",
   "language": "python",
   "name": "python2"
  },
  "language_info": {
   "codemirror_mode": {
    "name": "ipython",
    "version": 2
   },
   "file_extension": ".py",
   "mimetype": "text/x-python",
   "name": "python",
   "nbconvert_exporter": "python",
   "pygments_lexer": "ipython2",
   "version": "2.7.6"
  }
 },
 "nbformat": 4,
 "nbformat_minor": 0
}
